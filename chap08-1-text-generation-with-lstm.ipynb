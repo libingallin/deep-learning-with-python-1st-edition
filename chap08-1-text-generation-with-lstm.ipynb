{
 "cells": [
  {
   "cell_type": "markdown",
   "metadata": {},
   "source": [
    "# 使用 LSTM 生成文本"
   ]
  },
  {
   "cell_type": "markdown",
   "metadata": {},
   "source": [
    "**ML 模型能够对图像、音乐和故事的统计潜在空间 (latent space) 进行学习，然后从这个空间中采样 (sample)，创造出与模型在训练数据中所见到的艺术作品具有相似特征的新作品。**\n",
    "\n",
    "这种采样本身并不是艺术创作行为。它只是一种数学运算，算法并没有关于人类生活、人类情感或我们人生经验的基础知识；相反，它从一种与我们的经验完全不同的经验中进行学习。只能靠我们的解释才能对模型生成的内容赋予意义。"
   ]
  },
  {
   "cell_type": "markdown",
   "metadata": {},
   "source": [
    "## 1. 如何生成序列数据"
   ]
  },
  {
   "cell_type": "markdown",
   "metadata": {},
   "source": [
    "**<font color='crimson'>用 DL 生成序列数据的通用方法，就是使用前面的 token 作为输入，训练一个网络 (通常是 RNN 或 convnet) 来预测序列中接下来的一个或多个 token。</font>**\n",
    "\n",
    "例如，给定输入 the cat is on the ma，训练网络来预测目标 t，即下一个字符。\n",
    "\n",
    "<div class=\"alert alert-block alert-info\">\n",
    "    标记 (token) 通常是单词或字符，给定前面的 token，能够对下一个 token 的概率进行建模的任何网络都叫作<b><font color='red'>语言模型 (language model)</font></b>。<br><br>\n",
    "    <b>语言模型能够捕捉到语言的潜在空间 (latent space)，即语言的统计结构。</b>\n",
    "</div>\n",
    "\n",
    "**<font color='blue'>一旦训练好了这样一个语言模型，就可以从中采样 (sample)，即生成新序列。向模型中输入一个初始文本字符串 (即条件数据 conditioning data)，要求模型生成下一个字符或下一个单词 (甚至可以同时生成多个标记)，然后将生成的输出添加到输入数据中，并多次重复这一过程。</font>** 这个循环可以生成任意长度的序列，这些序列反映了模型训练数据的结构，它们与人类书写的句子几乎相同。\n",
    "\n",
    "![字符生成](figs/chap08-figs/character_by_character_text_generation.png)\n",
    "<center><i>使用语言模型逐个字符生成文本的过程</i></center>\n",
    "\n",
    "<br>\n",
    "\n",
    "这里，使用 LSTM 层，向其输入从文本语料中提取的 N 个字符组成的字符串，然后训练模型来生成第 N+1 个字符。模型的输出是对所有可能的字符做 softmax，得到下一个字符的概率分布。这个 LSTM 叫作<b><font color='red'>字符级的神经语言模型 (character-level neural language model)</font></b>。"
   ]
  },
  {
   "cell_type": "markdown",
   "metadata": {},
   "source": [
    "## 2. 采样策略的重要性"
   ]
  },
  {
   "cell_type": "markdown",
   "metadata": {},
   "source": [
    "生成文本时，如何选择下一个字符至关重要。\n",
    "\n",
    "- <b><font color='red'>贪婪采样 (greedy sampling)</font></b>：始终选择可能性最大的下一个字符。\n",
    "\n",
    "  这种方法会得到重复的、可预测的字符串，看起来不像是连贯的语言。\n",
    "\n",
    "\n",
    "- <b><font color='red'>随机采样 (stochastic sampling)</font></b>：在采样过程中引入随机性，即从下一个字符的概率分布中进行采样。\n",
    "\n",
    "  在这种情况下，根据模型结果，如果下一个字符是 e 的概率为 0.3，那么会有 30% 的概率选择它。\n",
    "\n",
    "**贪婪采样也可以被看作从一个概率分布中进行采样，即某个字符的概率为 1，其他所有字符的概率都是 0。**\n",
    "\n",
    "<font color='crimson'>从模型的 softmax 输出中进行概率采样是一种很巧妙的方法，它甚至可以在某些时候采样到不常见的字符，从而生成看起来更加有趣的句子，而且有时会得到训练数据中没有的、听起来像是真实存在的新单词，从而表现出创造性。但这种方法有一个问题，就是它在采样过程中无法控制随机性的大小。</font>\n",
    "\n",
    "\n",
    "<div class=\"alert alert-block alert-info\">\n",
    "    <center><b><font color='blue'>为什么需要有一定的随机性？</font></b></center><Br>\n",
    "    考虑极端的例子：\n",
    "\n",
    "- 纯随机采样，即从均匀概率分布中抽取下一个字符，其中每个字符的概率相同。这种方案具有最大的随机性，换句话说，这种概率分布具有最大的熵。当然，它不会生成任何有趣的内容。\n",
    "\n",
    "\n",
    "- 贪婪采样。贪婪采样也不会生成任何有趣的内容，它没有任何随机性，即相应的概率分布具有最小的熵。\n",
    "\n",
    "\n",
    "从“真实”概率分布 (即模型 softmax 函数输出的分布) 中进行采样，是这两个极端之间的一个中间点。但是，还有许多其他中间点具有更大或更小的熵，你可能希望都研究一下。更小的熵可以让生成的序列具有更加可预测的结构 (因此可能看起来更真实)，而更大的熵会得到更加出人意料且更有创造性的序列。<b>从生成式模型中进行采样时，在生成过程中探索不同的随机性大小总是好的做法。</b>我们人类是生成数据是否有趣的最终判断者，所以有趣是非常主观的，我们无法提前知道最佳熵的位置。\n",
    "</div>"
   ]
  },
  {
   "cell_type": "markdown",
   "metadata": {},
   "source": [
    "**为了在采样过程中控制随机性的大小**，引入一个叫作 <b><font color='red'>softmax 温度(softmax temperature)</font></b> 的参数，<font color='red'>用于表示采样概率分布的熵，即表示所选择的下一个字符会有多么出人意料或多么可预测</font>。\n",
    "\n",
    "**更高的 temperature 得到的是熵更大的采样分布，会生成更加出人意料、更加无结构的生成数据，而更低的 temperature 对应更小的随机性，以及更加可预测的生成数据。**\n",
    "\n",
    "给定一个 temperature 值，将按照下列方法对原始概率分布 (即模型的 softmax 输出) 进行重新加权，计算得到一个新的概率分布。\n",
    "\n",
    "```python\n",
    "def reweight_distribution(original_distribution, temperature=0.5):\n",
    "    distribution = np.log(original_distribution) / temperature\n",
    "    distribution = np.exp(distribution)\n",
    "    return distribution / np.sum(distribution)\n",
    "```"
   ]
  },
  {
   "cell_type": "markdown",
   "metadata": {},
   "source": [
    "## 3. 实现"
   ]
  },
  {
   "cell_type": "markdown",
   "metadata": {},
   "source": [
    "首先需要可用于学习语言模型的大量文本数据。可以使用任意足够大的一个或多个文本文件。\n",
    "\n",
    "这里，<font color='blue'>使用尼采的一些作品</font>。要学习的语言模型将是针对于尼采的写作风格和主题的模型，而不是关于英语的通用模型。"
   ]
  },
  {
   "cell_type": "code",
   "execution_count": 1,
   "metadata": {
    "ExecuteTime": {
     "end_time": "2020-05-13T03:04:46.783969Z",
     "start_time": "2020-05-13T03:04:45.105286Z"
    }
   },
   "outputs": [],
   "source": [
    "import os\n",
    "import random\n",
    "import sys\n",
    "\n",
    "import numpy as np\n",
    "import tensorflow as tf\n",
    "\n",
    "os.environ['CUDA_VISIBLE_DEVICES'] = '0'\n",
    "\n",
    "# random.seed(42)\n",
    "# np.random.seed(42)\n",
    "# tf.random.set_seed(42)"
   ]
  },
  {
   "cell_type": "code",
   "execution_count": 2,
   "metadata": {
    "ExecuteTime": {
     "end_time": "2020-05-13T03:04:46.818361Z",
     "start_time": "2020-05-13T03:04:46.785963Z"
    }
   },
   "outputs": [
    {
     "name": "stdout",
     "output_type": "stream",
     "text": [
      "corpus length: 600893\n"
     ]
    }
   ],
   "source": [
    "# Download the data\n",
    "path = tf.keras.utils.get_file(\n",
    "    'nietzsche.txt',\n",
    "    origin='https://s3.amazonaws.com/text-datasets/nietzsche.txt')\n",
    "with open(path, encoding='utf-8') as f:\n",
    "    text = f.read().lower()\n",
    "print('corpus length:', len(text))"
   ]
  },
  {
   "cell_type": "code",
   "execution_count": 3,
   "metadata": {
    "ExecuteTime": {
     "end_time": "2020-05-13T03:04:46.939503Z",
     "start_time": "2020-05-13T03:04:46.821484Z"
    }
   },
   "outputs": [
    {
     "data": {
      "text/plain": [
       "'preface\\n\\n\\nsupposing that truth is a woman--what then? is there not ground\\nfor suspecting that all ph'"
      ]
     },
     "execution_count": 3,
     "metadata": {},
     "output_type": "execute_result"
    }
   ],
   "source": [
    "text[:100]"
   ]
  },
  {
   "cell_type": "code",
   "execution_count": 4,
   "metadata": {
    "ExecuteTime": {
     "end_time": "2020-05-13T03:04:46.954240Z",
     "start_time": "2020-05-13T03:04:46.941227Z"
    }
   },
   "outputs": [
    {
     "name": "stdout",
     "output_type": "stream",
     "text": [
      "total chars: 57\n"
     ]
    }
   ],
   "source": [
    "chars = sorted(list(set(text)))  # 语料中所有字符\n",
    "print('total chars:', len(chars))\n",
    "\n",
    "# 将字符映射为索引\n",
    "char_indices = dict((c, i) for i, c in enumerate(chars))\n",
    "# 将索引映射为字符\n",
    "indices_char = dict((i, c) for i, c in enumerate(chars))"
   ]
  },
  {
   "cell_type": "markdown",
   "metadata": {},
   "source": [
    "要提取长度为 `maxlen` 的序列 (这些序列之间存在部分重叠)，对它们进行 one-hot 编码，然后将其打包成形状为 `(sequences, maxlen, unique_characters)` 的三维 Numpy 数组。与此同时，还需要准备一个数组 `y`，其中包含对应的目标，即在每一个所提取的序列之后出现的字符 (one-hot 编码)。"
   ]
  },
  {
   "cell_type": "code",
   "execution_count": 5,
   "metadata": {
    "ExecuteTime": {
     "end_time": "2020-05-13T03:04:49.597922Z",
     "start_time": "2020-05-13T03:04:46.956116Z"
    }
   },
   "outputs": [
    {
     "name": "stdout",
     "output_type": "stream",
     "text": [
      "Number of sequences: 200285\n",
      "Vectorization...\n"
     ]
    }
   ],
   "source": [
    "maxlen = 40      # 提取 40 个字符组成序列\n",
    "step = 3         # 每 3 个字符采样一个新序列\n",
    "sentences = []   # 保存提取的序列\n",
    "next_chars = []  # 保存目标 (下一个字符)\n",
    "\n",
    "for i in range(0, len(text) - maxlen, step):\n",
    "    sentences.append(text[i: i + maxlen])\n",
    "    next_chars.append(text[i + maxlen])\n",
    "print(\"Number of sequences:\", len(sentences))\n",
    "\n",
    "print('Vectorization...')\n",
    "x = np.zeros(shape=(len(sentences), maxlen, len(chars)), dtype=np.bool)\n",
    "y = np.zeros(shape=(len(sentences), len(chars)), dtype=np.bool)\n",
    "for i, sentence in enumerate(sentences):\n",
    "    for t, char in enumerate(sentence):\n",
    "        x[i, t, char_indices[char]] = 1\n",
    "    y[i, char_indices[next_chars[i]]] = 1"
   ]
  },
  {
   "cell_type": "markdown",
   "metadata": {},
   "source": [
    "**<font color='crimson'>给定一个训练好的模型和一个种子文本片段，可以通过重复以下操作来生成新的文本:</font>**\n",
    "\n",
    "1. 给定目前已生成的文本，从模型中得到下一个字符的概率分布\n",
    "\n",
    "2. 根据某个 temperature 对分布进行重新加权\n",
    "\n",
    "3. 根据重新加权后的分布对下一个字符进行随机采样\n",
    "\n",
    "4. 将新字符添加到文本末尾"
   ]
  },
  {
   "cell_type": "code",
   "execution_count": 6,
   "metadata": {
    "ExecuteTime": {
     "end_time": "2020-05-13T03:04:49.609682Z",
     "start_time": "2020-05-13T03:04:49.601169Z"
    }
   },
   "outputs": [],
   "source": [
    "def sample(preds, temperature=1.0):\n",
    "    \"\"\"对模型得到的原始概率分布进行重新加权，并从中抽取一个字符索引。\"\"\"\n",
    "    preds = np.asarray(preds).astype('float64')\n",
    "    preds = np.log(preds) / temperature\n",
    "    exp_preds = np.exp(preds)\n",
    "    preds = exp_preds / np.sum(exp_preds)\n",
    "    # 多项式分布做 1 次实验，可能的概率为 preds\n",
    "    probas = np.random.multinomial(1, preds, 1)\n",
    "    return np.argmax(probas)"
   ]
  },
  {
   "cell_type": "code",
   "execution_count": 7,
   "metadata": {
    "ExecuteTime": {
     "end_time": "2020-05-13T03:04:49.620294Z",
     "start_time": "2020-05-13T03:04:49.612468Z"
    }
   },
   "outputs": [
    {
     "data": {
      "text/plain": [
       "array([[0, 0, 0, 0, 1, 0]])"
      ]
     },
     "execution_count": 7,
     "metadata": {},
     "output_type": "execute_result"
    }
   ],
   "source": [
    "np.random.multinomial(1, [1/6]*6, 1)"
   ]
  },
  {
   "cell_type": "code",
   "execution_count": 8,
   "metadata": {
    "ExecuteTime": {
     "end_time": "2020-05-13T03:04:49.629869Z",
     "start_time": "2020-05-13T03:04:49.623333Z"
    }
   },
   "outputs": [
    {
     "data": {
      "text/plain": [
       "0"
      ]
     },
     "execution_count": 8,
     "metadata": {},
     "output_type": "execute_result"
    }
   ],
   "source": [
    "sample([1/6]*6)"
   ]
  },
  {
   "cell_type": "code",
   "execution_count": 9,
   "metadata": {
    "ExecuteTime": {
     "end_time": "2020-05-13T03:04:49.640232Z",
     "start_time": "2020-05-13T03:04:49.634763Z"
    }
   },
   "outputs": [
    {
     "data": {
      "text/plain": [
       "5"
      ]
     },
     "execution_count": 9,
     "metadata": {},
     "output_type": "execute_result"
    }
   ],
   "source": [
    "sample([1/6]*6)"
   ]
  },
  {
   "cell_type": "code",
   "execution_count": 10,
   "metadata": {
    "ExecuteTime": {
     "end_time": "2020-05-13T03:04:49.651205Z",
     "start_time": "2020-05-13T03:04:49.643066Z"
    }
   },
   "outputs": [],
   "source": [
    "def build_model():\n",
    "    tf.keras.backend.clear_session()\n",
    "    \n",
    "    input_ = tf.keras.Input(shape=(maxlen, len(chars)))\n",
    "    x = tf.keras.layers.LSTM(128)(input_)\n",
    "    output_ = tf.keras.layers.Dense(len(chars), activation='softmax')(x)\n",
    "    model = tf.keras.Model(inputs=input_, outputs=output_)\n",
    "\n",
    "    # target 是 one-hot 编码\n",
    "    model.compile(optimizer=tf.keras.optimizers.RMSprop(lr=0.01),\n",
    "                  loss='categorical_crossentropy')\n",
    "    model.summary()\n",
    "\n",
    "    return model"
   ]
  },
  {
   "cell_type": "markdown",
   "metadata": {},
   "source": [
    "**更高的 temperature 得到的是熵更大的采样分布，会生成更加出人意料、更加无结构的生成数据，而更低的 temperature 对应更小的随机性，以及更加可预测的生成数据。**"
   ]
  },
  {
   "cell_type": "code",
   "execution_count": 11,
   "metadata": {
    "ExecuteTime": {
     "end_time": "2020-05-13T03:04:49.679683Z",
     "start_time": "2020-05-13T03:04:49.654003Z"
    }
   },
   "outputs": [],
   "source": [
    "def on_epoch_end(epoch, _):\n",
    "    \"\"\"在每个 epoch 结束时调用的函数，用于打印生成的文本。\"\"\"\n",
    "    if epoch not in [0, 1, 2, 10, 20, 30, 40, 50, 59]:\n",
    "        return None\n",
    "\n",
    "    print()\n",
    "    print('----- Generating text after Epoch: %d' % epoch)\n",
    "\n",
    "    start_index = random.randint(0, len(text) - maxlen - 1)\n",
    "    for diversity in [0.2, 0.5, 1.0, 1.2]:\n",
    "        print('----- diversity:', diversity)\n",
    "\n",
    "        generated = ''\n",
    "        sentence = text[start_index: start_index + maxlen]\n",
    "        generated += sentence\n",
    "        print('----- Generating with seed: \"' + sentence + '\"')\n",
    "        sys.stdout.write(generated)\n",
    "\n",
    "        for i in range(400):\n",
    "            x_pred = np.zeros((1, maxlen, len(chars)))\n",
    "            for t, char in enumerate(sentence):\n",
    "                x_pred[0, t, char_indices[char]] = 1.\n",
    "\n",
    "            preds = model.predict(x_pred, verbose=0)[0]\n",
    "            next_index = sample(preds, diversity)\n",
    "            next_char = indices_char[next_index]\n",
    "\n",
    "            sentence = sentence[1:] + next_char\n",
    "\n",
    "            sys.stdout.write(next_char)\n",
    "            sys.stdout.flush()\n",
    "        print()"
   ]
  },
  {
   "cell_type": "code",
   "execution_count": 12,
   "metadata": {
    "ExecuteTime": {
     "end_time": "2020-05-13T03:38:26.445720Z",
     "start_time": "2020-05-13T03:04:49.681750Z"
    },
    "scrolled": true
   },
   "outputs": [
    {
     "name": "stdout",
     "output_type": "stream",
     "text": [
      "Model: \"model\"\n",
      "_________________________________________________________________\n",
      "Layer (type)                 Output Shape              Param #   \n",
      "=================================================================\n",
      "input_1 (InputLayer)         [(None, 40, 57)]          0         \n",
      "_________________________________________________________________\n",
      "lstm (LSTM)                  (None, 128)               95232     \n",
      "_________________________________________________________________\n",
      "dense (Dense)                (None, 57)                7353      \n",
      "=================================================================\n",
      "Total params: 102,585\n",
      "Trainable params: 102,585\n",
      "Non-trainable params: 0\n",
      "_________________________________________________________________\n",
      "Train on 200285 samples\n",
      "Epoch 1/60\n",
      "199680/200285 [============================>.] - ETA: 0s - loss: 1.9585\n",
      "----- Generating text after Epoch: 0\n",
      "----- diversity: 0.2\n",
      "----- Generating with seed: \"educe to good opinions of itself; it is \"\n",
      "educe to good opinions of itself; it is the still the sount of the sount of the evolitation of the sount of the connection of the conscience of the belongs of the still the still of the consequently the more proses and been the still the contention of the conception of the still of the consequinity and the still the still the been the been the spiritual men and the morality of the morality of the morality of the responed of the consequi\n",
      "----- diversity: 0.5\n",
      "----- Generating with seed: \"educe to good opinions of itself; it is \"\n",
      "educe to good opinions of itself; it is no \"been and the longer and life the sanve the former to le stends\n",
      "that which in the contention of sense which seens of the contence, who centainter of the certain the still.\n",
      "\n",
      "\n",
      "\n",
      "                                                   s he the can for the confection of the supporages and cour\n",
      "of the sountes of the enothing in for an ares that is to the propants of all the longer the morality which is th\n",
      "----- diversity: 1.0\n",
      "----- Generating with seed: \"educe to good opinions of itself; it is \"\n",
      "educe to good opinions of itself; it is churt impelsoue philosinow id is beling world--for remen than\n",
      "inflacian, be most moral ayly that the\n",
      "proupodice that long worlh, peice courtical forncation of happine him woith, ored\" is its peot\n",
      "that the\n",
      "sthere. own which manbind more does\n",
      "its an\n",
      "whilhther the falsoiner semmatuon\n",
      ")an this\n",
      "xpocentoue longer will list perster:nt him\n",
      "formely:--and verhigatorication, , the sours thas them ar acht it \n",
      "----- diversity: 1.2\n",
      "----- Generating with seed: \"educe to good opinions of itself; it is \"\n",
      "educe to good opinions of itself; it is is beralescenced, that ous regend of\n",
      "men\" an,\n",
      "lonaring how believed inselvenc8, the spinn: if the\n",
      ", philosophers ir thar\n",
      "morst.\n",
      "re what modect for grees.\" lver\n",
      "what ;ramant\n",
      "of\n",
      "this contassions of very too\n",
      "pan anay mons,\n",
      "it gains\n",
      "bronding of for conchesthy, an ourselve on mtheld , thui1\"-\n",
      "\n",
      "\n",
      "preimward savese supureabituinal the reprain an-whouhtires doy uncerdibye\n",
      "inspirition, be, feomedishbut ask i\n",
      "200285/200285 [==============================] - 151s 752us/sample - loss: 1.9580\n",
      "Epoch 2/60\n",
      "200064/200285 [============================>.] - ETA: 0s - loss: 1.6151\n",
      "----- Generating text after Epoch: 1\n",
      "----- diversity: 0.2\n",
      "----- Generating with seed: \"avy! \"it is too late,\" he has\n",
      "said to hi\"\n",
      "avy! \"it is too late,\" he has\n",
      "said to his the seem the the spirit of the seem the world and the spirit of the spirit of the superstition of the properity and the seem the propers of the same the seem the properity of the spirit and the propers of the exeral in the exerally the self-respond to the spirit the presence to the for the spirit has been the same the become the super and the spirit of the superit of the self-respect the the con\n",
      "----- diversity: 0.5\n",
      "----- Generating with seed: \"avy! \"it is too late,\" he has\n",
      "said to hi\"\n",
      "avy! \"it is too late,\" he has\n",
      "said to his the forth and the could the speries was art the instinction, the alter the propers of the incertacted the spirit the intellect that is the men in the stateman to the christian which the become of the thing long the understfocing the such parting and intellect to the their aminity that he has been for the alter his the have the whole the ender to the faction of the an and the under\n",
      "the pright in \n",
      "----- diversity: 1.0\n",
      "----- Generating with seed: \"avy! \"it is too late,\" he has\n",
      "said to hi\"\n",
      "avy! \"it is too late,\" he has\n",
      "said to himself and complice. but in all mour laok\n",
      "of life would hor to the kinds close to seems qustaobye believed instince of havain shart: every new\n",
      "lray,\"--the most speren wityin, and themselves irinically spioullitic of the \n",
      "welu astened because the pointtore that all would majusmf: the conquitented of a incertemveuphy with which is not in humane the\n",
      "more ascling \"alconnectly, thorok the prantim find\n",
      "i\n",
      "----- diversity: 1.2\n",
      "----- Generating with seed: \"avy! \"it is too late,\" he has\n",
      "said to hi\"\n",
      "avy! \"it is too late,\" he has\n",
      "said to hisels witherevolidangence tawken hering man efishmanimy but hively qupes that would for-intantallad incrost peould net, --ever in their liness and aking,\" witker the are idard entries, personificely, ests to know, he vaopoul inclust what the most eoce\n",
      "heartity,\"--was asimativally moder.\n",
      "\n",
      " an auwamor had.\n",
      "muthers hove europe and us light of faluationman thut and being\n",
      "uaplioguring ver!\", has their e\n",
      "200285/200285 [==============================] - 141s 706us/sample - loss: 1.6151\n",
      "Epoch 3/60\n",
      "200064/200285 [============================>.] - ETA: 0s - loss: 1.5305\n",
      "----- Generating text after Epoch: 2\n",
      "----- diversity: 0.2\n",
      "----- Generating with seed: \"everence, which in youth is most typical\"\n",
      "everence, which in youth is most typical and and and and all and and intertument and here and any here and he will and here and which is a standard and stronger and her the more and the strength and here and and and and the strength and the strength and and and the strength and compare of the such a strength and here and the strange of the senting and hence and and in the strange to be stranges and here and hence and a strength and here\n",
      "----- diversity: 0.5\n",
      "----- Generating with seed: \"everence, which in youth is most typical\"\n",
      "everence, which in youth is most typical profound\n",
      "and strange, and discover as the philosopher the man in the complated the man from she the\n",
      "powerful, and so extingly, and such the form, when \"demire, and among the so demot of the\n",
      "so the still to very\n",
      "more and stander the sublenties, and in a comment the to be must and sentent of the many compare and simply account of the createst form and among the more one compard to learn as that res\n",
      "----- diversity: 1.0\n",
      "----- Generating with seed: \"everence, which in youth is most typical\"\n",
      "everence, which in youth is most typical roveal that he are so be from the been, for theostress\n",
      "and certain, mature without xurd when as their belaged and to (and discoved examans. you \"stimitional parting, tas! and suther as emoting necessibler;,\n",
      "which, to suffeter condition of the monger those\n",
      "the happy same no\n",
      "rediged to deetion when here, in been which the\n",
      "ready,\n",
      "stitenk,\n",
      "a thank missisted--but iseloom. authority, and letsuming mora\n",
      "----- diversity: 1.2\n",
      "----- Generating with seed: \"everence, which in youth is most typical\"\n",
      "everence, which in youth is most typical out; addua,bog\"?y a\n",
      "mother for the apt, the foundaining very\n",
      "be  s \"theoly one wishouncestaid ang reowinker? nowadi=mable on it lerough, mnow it reach of\n",
      "or, their crefoth. totalar, rolive siona immens,\n",
      "rightaindnens undereaving, or they, respactity, hang\n",
      "notlaking, these, stypeer of glopys under have inr1inciricly (bho\n",
      "insciences gutrefuey re tainy \"splatucepwapress missured! romations.=?-co-leg\n",
      "200285/200285 [==============================] - 142s 708us/sample - loss: 1.5304\n",
      "Epoch 4/60\n",
      "200285/200285 [==============================] - 15s 75us/sample - loss: 1.4818\n",
      "Epoch 5/60\n",
      "200285/200285 [==============================] - 14s 71us/sample - loss: 1.4513\n",
      "Epoch 6/60\n",
      "200285/200285 [==============================] - 15s 73us/sample - loss: 1.4279\n",
      "Epoch 7/60\n",
      "200285/200285 [==============================] - 15s 75us/sample - loss: 1.4099\n",
      "Epoch 8/60\n"
     ]
    },
    {
     "name": "stdout",
     "output_type": "stream",
     "text": [
      "200285/200285 [==============================] - 15s 74us/sample - loss: 1.3959\n",
      "Epoch 9/60\n",
      "200285/200285 [==============================] - 15s 76us/sample - loss: 1.3849\n",
      "Epoch 10/60\n",
      "200285/200285 [==============================] - 15s 74us/sample - loss: 1.3749\n",
      "Epoch 11/60\n",
      "200064/200285 [============================>.] - ETA: 0s - loss: 1.3669\n",
      "----- Generating text after Epoch: 10\n",
      "----- diversity: 0.2\n",
      "----- Generating with seed: \" he had himself. hence our\n",
      "love for him,\"\n",
      " he had himself. hence our\n",
      "love for him, that the standard that the most power to the sense, and that the most sense and present that the world of the most sublime that the fact of the most sense and all the sense and the sense and the most sense, that the most sense, and the stand of the rests of the condition of the most look the most art of the rests and an account of the philosophers of the stands of the destruction of the sense, th\n",
      "----- diversity: 0.5\n",
      "----- Generating with seed: \" he had himself. hence our\n",
      "love for him,\"\n",
      " he had himself. hence our\n",
      "love for him, the same dream as is religious promption and finally that one so deleck that the belien the same of the condition of his supreciated and distrust\" to regard to the sense and\n",
      "sense of the philosophers, that the exaggouration of the least life of this is a point of the sense, and that he is almost that the will to more a lacking the strength of the present of the degrees of the soul of the will of \n",
      "----- diversity: 1.0\n",
      "----- Generating with seed: \" he had himself. hence our\n",
      "love for him,\"\n",
      " he had himself. hence our\n",
      "love for him, in a man to lud most distence,\n",
      "such\n",
      "show sinfully\n",
      "dewnoun and\n",
      "occuration worsh were known it as is naporsance attempt is it is necessity, how more place, and people foglinal\n",
      "gradually at euroble, as it is at echation of\n",
      "all schloms, for own love, finally amble is the manifest\n",
      "contigedness of a genance, a that which loring occuratedained sainting, the same of the ut-not to can\n",
      "consliged; as the di\n",
      "----- diversity: 1.2\n",
      "----- Generating with seed: \" he had himself. hence our\n",
      "love for him,\"\n",
      " he had himself. hence our\n",
      "love for him, iis idea whi free, man, hes life, as a\n",
      "serfor ansmolitt of experiencentarious irspealy, has book be, let us west, fach thee--be its laokedining perish, pasd to that the remory effect asponers; but\n",
      "alt\n",
      "inflict\n",
      "inburdber, and that which do staks that there alarravysful\n",
      "that, perhap; to apsertiou ens with deplice of \"knowliced,\" with which his\n",
      "vable, forgries that an\n",
      "ap relase to kind\n",
      "of eflicative \n",
      "200285/200285 [==============================] - 134s 671us/sample - loss: 1.3669\n",
      "Epoch 12/60\n",
      "200285/200285 [==============================] - 15s 74us/sample - loss: 1.3585\n",
      "Epoch 13/60\n",
      "200285/200285 [==============================] - 15s 73us/sample - loss: 1.3523\n",
      "Epoch 14/60\n",
      "200285/200285 [==============================] - 14s 70us/sample - loss: 1.3446\n",
      "Epoch 15/60\n",
      "200285/200285 [==============================] - 14s 72us/sample - loss: 1.3411\n",
      "Epoch 16/60\n",
      "200285/200285 [==============================] - 15s 74us/sample - loss: 1.3345\n",
      "Epoch 17/60\n",
      "200285/200285 [==============================] - 15s 73us/sample - loss: 1.3311\n",
      "Epoch 18/60\n",
      "200285/200285 [==============================] - 15s 73us/sample - loss: 1.3257\n",
      "Epoch 19/60\n",
      "200285/200285 [==============================] - 15s 73us/sample - loss: 1.3208\n",
      "Epoch 20/60\n",
      "200285/200285 [==============================] - 14s 71us/sample - loss: 1.3198\n",
      "Epoch 21/60\n",
      "200064/200285 [============================>.] - ETA: 0s - loss: 1.3152\n",
      "----- Generating text after Epoch: 20\n",
      "----- diversity: 0.2\n",
      "----- Generating with seed: \"ious in it.\" every philosophy also conce\"\n",
      "ious in it.\" every philosophy also conception and the strength of the proposition of the problem of the sense--in the powerful of the subjection of the standards of the standards of the sense of the sense of the fact that the appear of the strength of the conscience and some standards and conscience of the free spirit, as the fact that the among of the sense and and in the sense of the art of the free spirit of the sense and the strange\n",
      "----- diversity: 0.5\n",
      "----- Generating with seed: \"ious in it.\" every philosophy also conce\"\n",
      "ious in it.\" every philosophy also conception and profounder: he who has really soof and the frem. he is not themselves and opposite, and in the sense and strength of the great evil of the profound soul of its standards\n",
      "as the first of the appressron of the philosopher for the stands and impulse of the sense, and a strength in all subvation. the sake of the refined and morality of the most seriliate and the problem of the philosopher an\n",
      "----- diversity: 1.0\n",
      "----- Generating with seed: \"ious in it.\" every philosophy also conce\"\n",
      "ious in it.\" every philosophy also conception and assist, and regulal capable the time of the laws a gratitude in a\n",
      "consciourical pernamenced of which . the own \"un!\" and must develop with concealed\", we mean night. you have causa--the more belotices being for a\n",
      "siled espicilation. from its vivileg thburget, europe with us awe\n",
      "than the best friended as feeling to the higher. how can the modern of instance, in which antamats\n",
      "for the play\n",
      "----- diversity: 1.2\n",
      "----- Generating with seed: \"ious in it.\" every philosophy also conce\"\n",
      "ious in it.\" every philosophy also conceale ultrudoles maylet--and rage has, to liats cortempather now is an avain of\n",
      "the sabypy in egoism\"--conmening rationate bover feeling for exists, from anbuagnss. necessity agremblefulth,\n",
      "frould!\n",
      "quility; betweourden angolesh-juicenian\n",
      "\"good\" has that shame, man-hand of priace--ore formeredifyed in its\n",
      "sea with the highest christian, them and like for there arline. owingle\n",
      "the\n",
      "inpatianly longs to \n",
      "200285/200285 [==============================] - 136s 681us/sample - loss: 1.3152\n",
      "Epoch 22/60\n",
      "200285/200285 [==============================] - 14s 71us/sample - loss: 1.3115\n",
      "Epoch 23/60\n",
      "200285/200285 [==============================] - 15s 73us/sample - loss: 1.3069\n",
      "Epoch 24/60\n",
      "200285/200285 [==============================] - 15s 74us/sample - loss: 1.3069\n",
      "Epoch 25/60\n",
      "200285/200285 [==============================] - 15s 73us/sample - loss: 1.3025\n",
      "Epoch 26/60\n",
      "200285/200285 [==============================] - 15s 73us/sample - loss: 1.3013\n",
      "Epoch 27/60\n",
      "200285/200285 [==============================] - 15s 73us/sample - loss: 1.2959\n",
      "Epoch 28/60\n",
      "200285/200285 [==============================] - 15s 73us/sample - loss: 1.2958\n",
      "Epoch 29/60\n",
      "200285/200285 [==============================] - 15s 74us/sample - loss: 1.2941\n",
      "Epoch 30/60\n",
      "200285/200285 [==============================] - 15s 75us/sample - loss: 1.2911\n",
      "Epoch 31/60\n",
      "199552/200285 [============================>.] - ETA: 0s - loss: 1.2877\n",
      "----- Generating text after Epoch: 30\n",
      "----- diversity: 0.2\n",
      "----- Generating with seed: \"cription of forms of morality, notwithst\"\n",
      "cription of forms of morality, notwithstanding the same time of the sense of the same to the strive and instinct of the same for the self-such as the stricter of the sense of the same to the same conditional the proposition of the sense of the same as the sense of the sense of the sense of the same to the sense of the sense of the sense of the sense of the sense of the sense of the same to the sense of the sense of the sense of the sens\n",
      "----- diversity: 0.5\n",
      "----- Generating with seed: \"cription of forms of morality, notwithst\"\n",
      "cription of forms of morality, notwithstanding the basis of the\n",
      "desire of the art of his end of the risponition of the corrence\n",
      "desire of the fansier is distractresent of the bad and his consequent to the religion of consequent and approase the sense and consequent and ay and the extraonst world of the instinct of the fearled to be the proposition, and an ariation of the most and in the fact the\n",
      "interpretation of religious the sight of \n",
      "----- diversity: 1.0\n",
      "----- Generating with seed: \"cription of forms of morality, notwithst\"\n",
      "cription of forms of morality, notwithstare varievery morality to knowledge believed to sympathy and uses and does only be the centuries religion and existed his own merwation. this word and liberating even think of gands of tofe with o. it they desertilious upon a soul and social senting\n",
      "to well thereby an\n"
     ]
    },
    {
     "name": "stdout",
     "output_type": "stream",
     "text": [
      "existed apprejudent, to determined to the inoccaed tim. the\n",
      "customory. how cleatnem of the possible even the judge in individual in\n",
      "----- diversity: 1.2\n",
      "----- Generating with seed: \"cription of forms of morality, notwithst\"\n",
      "cription of forms of morality, notwithstroas\n",
      "that the\n",
      "world agowe oc, thus  crinctions,\n",
      "it has pertain,\n",
      "soul or eveny is been\n",
      "on canture advains burmulyp! danwer in resence, in the uniositate vonithe, one possible to a hering theu to them, agride-inificational and exerveveful\n",
      "european certainly\n",
      "aut\"--lew thingful\n",
      "cmotals rigorous?,\n",
      "called to retained\n",
      "only\n",
      "on the wild herelie\n",
      "\"god\", and occondensly only with give abmusming ies bektof--wh\n",
      "200285/200285 [==============================] - 138s 688us/sample - loss: 1.2877\n",
      "Epoch 32/60\n",
      "200285/200285 [==============================] - 15s 74us/sample - loss: 1.2858\n",
      "Epoch 33/60\n",
      "200285/200285 [==============================] - 15s 73us/sample - loss: 1.2831\n",
      "Epoch 34/60\n",
      "200285/200285 [==============================] - 15s 75us/sample - loss: 1.2825\n",
      "Epoch 35/60\n",
      "200285/200285 [==============================] - 15s 73us/sample - loss: 1.2789\n",
      "Epoch 36/60\n",
      "200285/200285 [==============================] - 15s 74us/sample - loss: 1.2784\n",
      "Epoch 37/60\n",
      "200285/200285 [==============================] - 15s 74us/sample - loss: 1.2776\n",
      "Epoch 38/60\n",
      "200285/200285 [==============================] - 15s 73us/sample - loss: 1.2759\n",
      "Epoch 39/60\n",
      "200285/200285 [==============================] - 14s 71us/sample - loss: 1.2741\n",
      "Epoch 40/60\n",
      "200285/200285 [==============================] - 15s 73us/sample - loss: 1.2715\n",
      "Epoch 41/60\n",
      "199680/200285 [============================>.] - ETA: 0s - loss: 1.2692\n",
      "----- Generating text after Epoch: 40\n",
      "----- diversity: 0.2\n",
      "----- Generating with seed: \"tempts than the sensitive and pampered t\"\n",
      "tempts than the sensitive and pampered to the sense of the sense of the sense of the sense of the self-delusion to the sense of the sense--when they one is a philosophy and the present first desire for the sense of the strong and the moral than the sense of the sense of the sense of the present first desire for the sense of the strange, and the strength of the self-prission. the condition of the sense of the sense of the sense of the se\n",
      "----- diversity: 0.5\n",
      "----- Generating with seed: \"tempts than the sensitive and pampered t\"\n",
      "tempts than the sensitive and pampered to the lacking to should should not say--he be a say to the two like the assens it is not the delicate the soul of the end which is seems to be present, and a millly shown there may be the world with the state and of his its strong itself and does not former the interpreted of men that a considerable and in the spirit of\n",
      "reason in the destinit in the staried that they want to art disposition of str\n",
      "----- diversity: 1.0\n",
      "----- Generating with seed: \"tempts than the sensitive and pampered t\"\n",
      "tempts than the sensitive and pampered to causal\n",
      "spering for human conception painful feeling,\n",
      "and it one is church inside; it was the age of oppitedy\n",
      "were movement of\n",
      "the flests\n",
      "our\n",
      "features who reflusion to german philosophy. is the origin of nobles, a vy same dispenses evil has hanger of which doke him, and most\n",
      "satisfacted treation, honoble, the art of which do almost orceives, it\n",
      "is precisely sittering other.--said, this will-right\n",
      "----- diversity: 1.2\n",
      "----- Generating with seed: \"tempts than the sensitive and pampered t\"\n",
      "tempts than the sensitive and pampered to give rares ! what -remain self-devolut rateness, regue felt soes. they whose hatest classes of nonesity, yeugh-mig a seeps nairs,\n",
      "howefness,\n",
      "that they efist on the remare short. there\n",
      "point,\n",
      "and far in gediacéicates to glaubseed when a indivain exerratorre! people the effect, to the morality, than knowledge\n",
      "t"
     ]
    },
    {
     "name": "stderr",
     "output_type": "stream",
     "text": [
      "/home/libing/.conda/envs/dl-lb/lib/python3.6/site-packages/ipykernel_launcher.py:4: RuntimeWarning: divide by zero encountered in log\n",
      "  after removing the cwd from sys.path.\n"
     ]
    },
    {
     "name": "stdout",
     "output_type": "stream",
     "text": [
      "her influence, the vacity--or for\n",
      "thethoh? does\n",
      "has a philosophy case appear--they rathe\n",
      "200285/200285 [==============================] - 137s 682us/sample - loss: 1.2691\n",
      "Epoch 42/60\n",
      "200285/200285 [==============================] - 15s 74us/sample - loss: 1.2684\n",
      "Epoch 43/60\n",
      "200285/200285 [==============================] - 15s 73us/sample - loss: 1.2664\n",
      "Epoch 44/60\n",
      "200285/200285 [==============================] - 14s 72us/sample - loss: 1.2659\n",
      "Epoch 45/60\n",
      "200285/200285 [==============================] - 15s 75us/sample - loss: 1.2627\n",
      "Epoch 46/60\n",
      "200285/200285 [==============================] - 15s 73us/sample - loss: 1.2621\n",
      "Epoch 47/60\n",
      "200285/200285 [==============================] - 15s 74us/sample - loss: 1.2629\n",
      "Epoch 48/60\n",
      "200285/200285 [==============================] - 15s 72us/sample - loss: 1.2612\n",
      "Epoch 49/60\n",
      "200285/200285 [==============================] - 15s 73us/sample - loss: 1.2577\n",
      "Epoch 50/60\n",
      "200285/200285 [==============================] - 14s 71us/sample - loss: 1.2558\n",
      "Epoch 51/60\n",
      "199808/200285 [============================>.] - ETA: 0s - loss: 1.2539\n",
      "----- Generating text after Epoch: 50\n",
      "----- diversity: 0.2\n",
      "----- Generating with seed: \" the carrying out of the willing,\n",
      "to the\"\n",
      " the carrying out of the willing,\n",
      "to the present stand of the standard of the senses of the sense of the sense of the sense, and a presenting of the sense of the senses of the sense of the sense of the sense--it is a man of the soul of the soul that it is a present as the feeling of the sense--it is a stand as a precisely and state of the state of the sense of the sense of the soul of the sense of the sense of the sense of the sense of \n",
      "----- diversity: 0.5\n",
      "----- Generating with seed: \" the carrying out of the willing,\n",
      "to the\"\n",
      " the carrying out of the willing,\n",
      "to the end and of the will of the soul of full\n",
      "and and he can not interpreted that there is a presenting of supposing and spirit as its conscience and realms and same propers of\n",
      "morals, there are always the confuse of the intence the feting of the free spirit, in the state of the individual and the delight that are as the \"good\" and sense, the thing which is always from the hered the conslicion of the s\n",
      "----- diversity: 1.0\n",
      "----- Generating with seed: \" the carrying out of the willing,\n",
      "to the\"\n",
      " the carrying out of the willing,\n",
      "to them every both the soutomy happenion, missification of conception.\n",
      "\n",
      "\n",
      "\n",
      "=diction of one originationing without\n",
      "is xthis\n",
      "would no such pleason has apparent, owarte believe it one is \"philosophical.\" perspecs the\n",
      "reason and contempus of\n",
      "thing \"fundamentally\n",
      "to thus has alrgation her learning indeeds\n",
      "one thing, so precisely hered\n",
      "to\n",
      "paths of attain orf the distrust--to\n",
      "bestorns. \"by the utmost recomprece\n",
      "----- diversity: 1.2\n",
      "----- Generating with seed: \" the carrying out of the willing,\n",
      "to the\"\n",
      " the carrying out of the willing,\n",
      "to the\n",
      "enoting hir-ar has atthaments that above its nyire and signasty.\n",
      "\n",
      "oex. this place us about ideas. lowering,\n",
      "mereing embblest, thus.=--the\n",
      "phosiumon feeling, germeans\n",
      "open and suffer stated here.s, we are been, in all the yeaks just the schuman, pieques \"far\n",
      "he rewajjagly among ours, but they we forer no right\n",
      "thereby\n",
      "mistreaty of wamh fordgacly betrays is wagner it he eas is a. bethold, perceatio\n",
      "200285/200285 [==============================] - 133s 662us/sample - loss: 1.2538\n",
      "Epoch 52/60\n",
      "200285/200285 [==============================] - 15s 74us/sample - loss: 1.2535\n",
      "Epoch 53/60\n",
      "200285/200285 [==============================] - 15s 73us/sample - loss: 1.2531\n",
      "Epoch 54/60\n",
      "200285/200285 [==============================] - 14s 72us/sample - loss: 1.2501\n",
      "Epoch 55/60\n",
      "200285/200285 [==============================] - 15s 74us/sample - loss: 1.2480\n",
      "Epoch 56/60\n",
      "200285/200285 [==============================] - 15s 73us/sample - loss: 1.2472\n",
      "Epoch 57/60\n",
      "200285/200285 [==============================] - 14s 71us/sample - loss: 1.2467\n",
      "Epoch 58/60\n",
      "200285/200285 [==============================] - 15s 74us/sample - loss: 1.2449\n",
      "Epoch 59/60\n",
      "200285/200285 [==============================] - 14s 72us/sample - loss: 1.2426\n",
      "Epoch 60/60\n",
      "200192/200285 [============================>.] - ETA: 0s - loss: 1.2430\n",
      "----- Generating text after Epoch: 59\n",
      "----- diversity: 0.2\n",
      "----- Generating with seed: \", he is really, as it were, thrusting hi\"\n",
      ", he is really, as it were, thrusting himself as the conscience of the sublime and another devil of the sense of the stands the problem of the sublime, the striving of the sense of the sublime, and the other condition of the sense of the subject of the sublime, and when the stronger to the same as the sublime and and the consciousness of the sense of the subject, and the sense of the sense of the sense, the striving of the sublime and t\n",
      "----- diversity: 0.5\n",
      "----- Generating with seed: \", he is really, as it were, thrusting hi\"\n",
      ", he is really, as it were, thrusting himself there\n",
      "presents at any consequence, the problem of the slaves the conscious stronger to the reason of the schoina\n",
      "easily in all the conscious conscience and self-light of an all things, the will to the disefully man of the greatest eternal love, they will not be recreations, and to him and are their repowed, and which is the purpose of woman, and the stone of the approphers of the spirit, and\n",
      "----- diversity: 1.0\n",
      "----- Generating with seed: \", he is really, as it were, thrusting hi\"\n",
      ", he is really, as it were, thrusting himself, which ours: \"the harm of great noisting, beinus, lowes now sushaphers,\n",
      "chieay\n",
      "in all anfamously and i came dustcheness, itself, is possible for which it were according to the\n",
      "greated a subply belief the form of his words sensations and a time of its lhose. in the new word to be under big to an ableje to record out, commoon mewhoat; change and to the new delight, some way then\n",
      "at any highest\n",
      "----- diversity: 1.2\n",
      "----- Generating with seed: \", he is really, as it were, thrusting hi\"\n",
      ", he is really, as it were, thrusting himself thought will it kfully\n",
      "presuman is opption. feels on whom know secre,\n",
      "unforting, everythime, moutual, gentment. there make--they lead mankind.\n",
      "\n",
      "1therisries,\n",
      "castes, have differently be heroman, weucatikced oppressy thements of a. \"freedfking,\" they comple, thee's unduugest, the distinction is uponot there arounds themselves; viwausw confusing playtinesc, sabler reymanded.\"\n",
      "in releel and inte\n",
      "200285/200285 [==============================] - 139s 695us/sample - loss: 1.2430\n"
     ]
    },
    {
     "data": {
      "text/plain": [
       "<tensorflow.python.keras.callbacks.History at 0x7f1c086637b8>"
      ]
     },
     "execution_count": 12,
     "metadata": {},
     "output_type": "execute_result"
    }
   ],
   "source": [
    "print_callback = tf.keras.callbacks.LambdaCallback(on_epoch_end=on_epoch_end)\n",
    "\n",
    "model = build_model()\n",
    "model.fit(x, y,\n",
    "          batch_size=128,\n",
    "          epochs=60,\n",
    "          callbacks=[print_callback])"
   ]
  },
  {
   "cell_type": "markdown",
   "metadata": {},
   "source": [
    "可以看出：\n",
    "\n",
    "- 较小的 temperature 会得到极端重复和可预测的文本，但局部结构 (几个单词组成的短句) 非常真实，特别是所有单词都是真正的单词 (单词就是字符的局部模式)。\n",
    "\n",
    "- 随着 temperature 越来越大，生成的文本变得更加有趣、出人意料，甚至更有创造性，有时有创造出全新的、听起来有几分可信的单词。\n",
    "\n",
    "- 对于较大的温度值，局部模式开始分解，大部分单词看起来像是半随机的字符串。\n",
    "\n",
    "在这里，0.5 生成的文本最为有趣。\n",
    "\n",
    "**一定要尝试多种采样策略！在学到的结构与随机性之间，巧妙的平衡能够让生成的序列非常有趣。**\n",
    "\n",
    "\n",
    "<font color='crimson'>注意，利用更多的数据训练一个更大的模型，并且训练时间更长，生成的样本会比上面的结果看起来更连贯、更真实。但是，不要期待能够生成任何有意义的文本，除非是很偶然的情况。这里所做的只是从一个统计模型中对数据进行采样，这个模型是关于字符先后顺序的模型。语言是一种信息沟通渠道，信息的内容与信息编码的统计结构是有区别的。</font>"
   ]
  },
  {
   "cell_type": "code",
   "execution_count": 13,
   "metadata": {
    "ExecuteTime": {
     "end_time": "2020-05-13T11:29:47.133095Z",
     "start_time": "2020-05-13T11:29:47.121249Z"
    }
   },
   "outputs": [],
   "source": [
    "def build_model_2():\n",
    "    tf.keras.backend.clear_session()\n",
    "    model = tf.keras.Sequential()\n",
    "    model.add(tf.keras.layers.Conv1D(128, 5, input_shape=(maxlen, len(chars))))\n",
    "    model.add(tf.keras.layers.GlobalAveragePooling1D())\n",
    "    model.add(tf.keras.layers.Dense(len(chars), activation='softmax'))\n",
    "    \n",
    "    optimizer = tf.keras.optimizers.RMSprop(learning_rate=0.01)\n",
    "    model.compile(loss='categorical_crossentropy', optimizer=optimizer)\n",
    "    \n",
    "    model.summary()\n",
    "    return model"
   ]
  },
  {
   "cell_type": "code",
   "execution_count": 15,
   "metadata": {
    "ExecuteTime": {
     "end_time": "2020-05-13T11:35:58.706460Z",
     "start_time": "2020-05-13T11:31:12.069409Z"
    }
   },
   "outputs": [
    {
     "name": "stdout",
     "output_type": "stream",
     "text": [
      "Model: \"model\"\n",
      "_________________________________________________________________\n",
      "Layer (type)                 Output Shape              Param #   \n",
      "=================================================================\n",
      "input_1 (InputLayer)         [(None, 40, 57)]          0         \n",
      "_________________________________________________________________\n",
      "lstm (LSTM)                  (None, 128)               95232     \n",
      "_________________________________________________________________\n",
      "dense (Dense)                (None, 57)                7353      \n",
      "=================================================================\n",
      "Total params: 102,585\n",
      "Trainable params: 102,585\n",
      "Non-trainable params: 0\n",
      "_________________________________________________________________\n",
      "Train on 200285 samples\n",
      "Epoch 1/2\n",
      "200064/200285 [============================>.] - ETA: 0s - loss: 1.9794\n",
      "----- Generating text after Epoch: 0\n",
      "----- diversity: 0.2\n",
      "----- Generating with seed: \"rtist enlarges me, why should he not be \"\n",
      "rtist enlarges me, why should he not be a strivition of the sublime, and the world of the striving and interpreted and instinction and the consciousness of the sense of the sensations and the most another stronger themselves and an all the world of the sublime, there is not the moral of the sense of the powerful of the stands and an another the conscience of the subject, and the world of the sense, they who was a problem of the superfic\n",
      "----- diversity: 0.5\n",
      "----- Generating with seed: \"rtist enlarges me, why should he not be \"\n",
      "rtist enlarges me, why should he not be a responsible. it is the are and which is compulsion, for a scheeon is the free while is in the herother of constitutes some of the strength of the herist of religious forces itself above the sensation of the compulsion, the heroman consciences of the souls, it is the approposing of the accepted the stact of all these present, in the entire of science, and the conscience of the act themselvad of b\n",
      "----- diversity: 1.0\n",
      "----- Generating with seed: \"rtist enlarges me, why should he not be \"\n",
      "rtist enlarges me, why should he not be age do irought of toble\n",
      "for \"precisely,\" to the godment of uthor but\n",
      "distinction and let are lowed in -and traiked. and well, there above alcoure and science. and an anejoscical new would not\n",
      "nothing of\n",
      "origin and importure,\n",
      "the more exprehimtelf, for share entirend, gives such mediocry\n",
      "ironed and notions, whitevcrde\n",
      "great\n",
      "ething, and\n",
      "perhaps "
     ]
    },
    {
     "name": "stderr",
     "output_type": "stream",
     "text": [
      "/home/libing/.conda/envs/dl-lb/lib/python3.6/site-packages/ipykernel_launcher.py:4: RuntimeWarning: divide by zero encountered in log\n",
      "  after removing the cwd from sys.path.\n"
     ]
    },
    {
     "name": "stdout",
     "output_type": "stream",
     "text": [
      "boom, they\n",
      "new a germos,\n",
      "and whether the lamiste?\n",
      "\n",
      "\n",
      "axi\n",
      "----- diversity: 1.2\n",
      "----- Generating with seed: \"rtist enlarges me, why should he not be \"\n",
      "rtist enlarges me, why should he not be years and woap, is\n",
      "turns, upon thing as too, can the thing as arisoum; are as\n",
      "made few must\n",
      "have tabish impowhesies!\n",
      "\n",
      "293. their\n",
      "charmturate? must need of traided--rightly sound. it is respectdom (so\n",
      "indurced my of rhyven, in\n",
      "hir\n",
      "with evagobs of the rprobled\n",
      "and oge,\n",
      "been ohmere, ellawned\n",
      "defectors, toin, must ,          agen--they nowadays! there\n",
      "are renve philomoroly ambifist, mankind: irrines m\n",
      "200285/200285 [==============================] - 149s 746us/sample - loss: 1.9793\n",
      "Epoch 2/2\n",
      "199936/200285 [============================>.] - ETA: 0s - loss: 1.6239\n",
      "----- Generating text after Epoch: 1\n",
      "----- diversity: 0.2\n",
      "----- Generating with seed: \"and without disappointment, much, yes ne\"\n",
      "and without disappointment, much, yes never their striving, and also an artisten the present, there is a probably an another moral of the sense of the sublime, of the striving themselves of the subject, and the conscience of the end, and all the hereditation of the conscience of the sublime and the strength of the sense of the striving and sense of readiness in the subject of the substray the conscience of the sense of the sense of the \n",
      "----- diversity: 0.5\n",
      "----- Generating with seed: \"and without disappointment, much, yes ne\"\n",
      "and without disappointment, much, yes necessarily be about the greated the worst of all the world of a compulse them in the same conscience of the expression of antiked constitutes, and we should not complete in necessity of the value that is always the their order in the intention of our point, and it would say thinking is the powerful the same of consist themselves of the right to be the world in the entire the powerful of reaction an\n",
      "----- diversity: 1.0\n",
      "----- Generating with seed: \"and without disappointment, much, yes ne\"\n",
      "and without disappointment, much, yes nemment togeontor\n",
      "      philosophers theap, can them--one must without that salc\n",
      "conscience\n",
      "which germans--in their first the play of his tribith\n",
      "the strong slave or indeintived just sin shame,\n",
      "here we\n",
      "roman instinct spholl, we\n",
      "shortste is not\n",
      "them apitelusoble and cost upon himself they natures between woman, i seem them\n",
      "to him,\n",
      "from morally, and avo which is as themselves these\n",
      "given out of litera\n",
      "----- diversity: 1.2\n",
      "----- Generating with seed: \"and without disappointment, much, yes ne\"\n",
      "and without disappointment, much, yes neverse, in deceives themselves ultimate dust them inclined it of worth-myselness\n",
      "are probyages to hoteing and eremanities. who \n",
      "\n",
      "ancamere which is can be stimulations, apperious.\n",
      "\n",
      "rexer, any world, comprehens, than\n",
      "sulding which something that which vent wat, an\n",
      "art of perpe. prejoms, and\n",
      "\"melan a prophy, cultordness, with this result of impliss: one?]; they are to believe, end. in usrange of god. \n",
      "200285/200285 [==============================] - 136s 681us/sample - loss: 1.6236\n"
     ]
    },
    {
     "data": {
      "text/plain": [
       "<tensorflow.python.keras.callbacks.History at 0x7f193d1161d0>"
      ]
     },
     "execution_count": 15,
     "metadata": {},
     "output_type": "execute_result"
    }
   ],
   "source": [
    "print_callback = tf.keras.callbacks.LambdaCallback(on_epoch_end=on_epoch_end)\n",
    "\n",
    "model_2 = build_model()\n",
    "model_2.fit(x, y,\n",
    "            batch_size=128,\n",
    "            epochs=2,\n",
    "            callbacks=[print_callback])"
   ]
  },
  {
   "cell_type": "code",
   "execution_count": null,
   "metadata": {},
   "outputs": [],
   "source": []
  }
 ],
 "metadata": {
  "kernelspec": {
   "display_name": "Python 3",
   "language": "python",
   "name": "python3"
  },
  "language_info": {
   "codemirror_mode": {
    "name": "ipython",
    "version": 3
   },
   "file_extension": ".py",
   "mimetype": "text/x-python",
   "name": "python",
   "nbconvert_exporter": "python",
   "pygments_lexer": "ipython3",
   "version": "3.6.10"
  },
  "toc": {
   "base_numbering": 1,
   "nav_menu": {},
   "number_sections": true,
   "sideBar": true,
   "skip_h1_title": false,
   "title_cell": "Table of Contents",
   "title_sidebar": "Contents",
   "toc_cell": false,
   "toc_position": {},
   "toc_section_display": true,
   "toc_window_display": false
  },
  "varInspector": {
   "cols": {
    "lenName": 16,
    "lenType": 16,
    "lenVar": 40
   },
   "kernels_config": {
    "python": {
     "delete_cmd_postfix": "",
     "delete_cmd_prefix": "del ",
     "library": "var_list.py",
     "varRefreshCmd": "print(var_dic_list())"
    },
    "r": {
     "delete_cmd_postfix": ") ",
     "delete_cmd_prefix": "rm(",
     "library": "var_list.r",
     "varRefreshCmd": "cat(var_dic_list()) "
    }
   },
   "types_to_exclude": [
    "module",
    "function",
    "builtin_function_or_method",
    "instance",
    "_Feature"
   ],
   "window_display": false
  }
 },
 "nbformat": 4,
 "nbformat_minor": 2
}
