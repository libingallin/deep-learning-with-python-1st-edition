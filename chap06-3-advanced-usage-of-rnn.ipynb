{
 "cells": [
  {
   "cell_type": "markdown",
   "metadata": {},
   "source": [
    "# RNN 的高级用法"
   ]
  },
  {
   "cell_type": "markdown",
   "metadata": {},
   "source": [
    "这里介绍提高 RNN 的性能和泛化能力的 3 种高级技巧。\n",
    "\n",
    "- **<font color='red'>循环 dropout (recurrent dropout)</font>**。在循环层中使用 dropout 来降低 overfitting。\n",
    "\n",
    "\n",
    "- **<font color='red'>堆叠循环层 (stacking recurrent layers)</font>**。提高 NN 的表示能力 (代价是更高的 computational loads)。\n",
    "\n",
    "\n",
    "- **<font color='red'>双向循环层(bidirectional recurrent layer)</font>**。将相同的信息以不同的方式呈现给 RNN，可以提高精度并缓解遗忘问题。"
   ]
  },
  {
   "cell_type": "markdown",
   "metadata": {},
   "source": [
    "## 1. 定义问题"
   ]
  },
  {
   "cell_type": "markdown",
   "metadata": {},
   "source": [
    "这里使用一个天气时间序列[数据集](https://s3.amazonaws.com/keras-datasets/jena_climate_2009_2016.csv.zip)。在这个数据集中，每 10 分钟记录 14 个不同的量 (如气温、气压、湿度、风向等)，其中包含多年的数据。原始数据可追溯到 2003 年，但本例仅使用 2009—2016 年的数据。\n",
    "\n",
    "**这个数据集非常适合用来学习处理数值型时间序列。**\n",
    "\n",
    "**用这个数据集来构建模型，输入最近的一些数据 (几天的数据点)，可以预测 24 小时之后的气温。**"
   ]
  },
  {
   "cell_type": "code",
   "execution_count": 1,
   "metadata": {
    "ExecuteTime": {
     "end_time": "2020-04-20T14:38:38.869690Z",
     "start_time": "2020-04-20T14:38:36.924754Z"
    },
    "code_folding": []
   },
   "outputs": [],
   "source": [
    "# Common imports\n",
    "import os\n",
    "\n",
    "import matplotlib as mpl\n",
    "import matplotlib.pyplot as plt\n",
    "import numpy as np\n",
    "import pandas as pd\n",
    "import tensorflow as tf\n",
    "from tensorflow import keras\n",
    "\n",
    "%matplotlib inline\n",
    "mpl.rc('axes', labelsize=14)\n",
    "mpl.rc('xtick', labelsize=12)\n",
    "mpl.rc('ytick', labelsize=12)\n",
    "\n",
    "np.random.seed(42)\n",
    "tf.random.set_seed(42)\n",
    "\n",
    "os.environ['CUDA_VISIBLE_DEVICES'] = '0'"
   ]
  },
  {
   "cell_type": "code",
   "execution_count": 2,
   "metadata": {
    "ExecuteTime": {
     "end_time": "2020-04-20T14:38:38.902482Z",
     "start_time": "2020-04-20T14:38:38.900307Z"
    }
   },
   "outputs": [],
   "source": [
    "# Raw data\n",
    "data_dir = '/home/libing/datasets/jena_climate'\n",
    "data_path = os.path.join(data_dir, 'jena_climate_2009_2016.csv')"
   ]
  },
  {
   "cell_type": "code",
   "execution_count": 3,
   "metadata": {
    "ExecuteTime": {
     "end_time": "2020-04-20T14:38:40.030585Z",
     "start_time": "2020-04-20T14:38:39.892645Z"
    }
   },
   "outputs": [
    {
     "name": "stdout",
     "output_type": "stream",
     "text": [
      "\"Date Time\",\"p (mbar)\",\"T (degC)\",\"Tpot (K)\",\"Tdew (degC)\",\"rh (%)\",\"VPmax (mbar)\",\"VPact (mbar)\",\"VPdef (mbar)\",\"sh (g/kg)\",\"H2OC (mmol/mol)\",\"rho (g/m**3)\",\"wv (m/s)\",\"max. wv (m/s)\",\"wd (deg)\"\r\n",
      "01.01.2009 00:10:00,996.52,-8.02,265.40,-8.90,93.30,3.33,3.11,0.22,1.94,3.12,1307.75,1.03,1.75,152.30\r\n",
      "01.01.2009 00:20:00,996.57,-8.41,265.01,-9.28,93.40,3.23,3.02,0.21,1.89,3.03,1309.80,0.72,1.50,136.10\r\n"
     ]
    }
   ],
   "source": [
    "!head -n 3 /home/libing/datasets/jena_climate/jena_climate_2009_2016.csv"
   ]
  },
  {
   "cell_type": "code",
   "execution_count": 29,
   "metadata": {
    "ExecuteTime": {
     "end_time": "2020-04-20T15:28:22.374505Z",
     "start_time": "2020-04-20T15:28:21.735604Z"
    }
   },
   "outputs": [
    {
     "data": {
      "text/html": [
       "<div>\n",
       "<style scoped>\n",
       "    .dataframe tbody tr th:only-of-type {\n",
       "        vertical-align: middle;\n",
       "    }\n",
       "\n",
       "    .dataframe tbody tr th {\n",
       "        vertical-align: top;\n",
       "    }\n",
       "\n",
       "    .dataframe thead th {\n",
       "        text-align: right;\n",
       "    }\n",
       "</style>\n",
       "<table border=\"1\" class=\"dataframe\">\n",
       "  <thead>\n",
       "    <tr style=\"text-align: right;\">\n",
       "      <th></th>\n",
       "      <th>Date Time</th>\n",
       "      <th>p (mbar)</th>\n",
       "      <th>T (degC)</th>\n",
       "      <th>Tpot (K)</th>\n",
       "      <th>Tdew (degC)</th>\n",
       "      <th>rh (%)</th>\n",
       "      <th>VPmax (mbar)</th>\n",
       "      <th>VPact (mbar)</th>\n",
       "      <th>VPdef (mbar)</th>\n",
       "      <th>sh (g/kg)</th>\n",
       "      <th>H2OC (mmol/mol)</th>\n",
       "      <th>rho (g/m**3)</th>\n",
       "      <th>wv (m/s)</th>\n",
       "      <th>max. wv (m/s)</th>\n",
       "      <th>wd (deg)</th>\n",
       "    </tr>\n",
       "  </thead>\n",
       "  <tbody>\n",
       "    <tr>\n",
       "      <th>0</th>\n",
       "      <td>01.01.2009 00:10:00</td>\n",
       "      <td>996.52</td>\n",
       "      <td>-8.02</td>\n",
       "      <td>265.40</td>\n",
       "      <td>-8.90</td>\n",
       "      <td>93.3</td>\n",
       "      <td>3.33</td>\n",
       "      <td>3.11</td>\n",
       "      <td>0.22</td>\n",
       "      <td>1.94</td>\n",
       "      <td>3.12</td>\n",
       "      <td>1307.75</td>\n",
       "      <td>1.03</td>\n",
       "      <td>1.75</td>\n",
       "      <td>152.3</td>\n",
       "    </tr>\n",
       "    <tr>\n",
       "      <th>1</th>\n",
       "      <td>01.01.2009 00:20:00</td>\n",
       "      <td>996.57</td>\n",
       "      <td>-8.41</td>\n",
       "      <td>265.01</td>\n",
       "      <td>-9.28</td>\n",
       "      <td>93.4</td>\n",
       "      <td>3.23</td>\n",
       "      <td>3.02</td>\n",
       "      <td>0.21</td>\n",
       "      <td>1.89</td>\n",
       "      <td>3.03</td>\n",
       "      <td>1309.80</td>\n",
       "      <td>0.72</td>\n",
       "      <td>1.50</td>\n",
       "      <td>136.1</td>\n",
       "    </tr>\n",
       "    <tr>\n",
       "      <th>2</th>\n",
       "      <td>01.01.2009 00:30:00</td>\n",
       "      <td>996.53</td>\n",
       "      <td>-8.51</td>\n",
       "      <td>264.91</td>\n",
       "      <td>-9.31</td>\n",
       "      <td>93.9</td>\n",
       "      <td>3.21</td>\n",
       "      <td>3.01</td>\n",
       "      <td>0.20</td>\n",
       "      <td>1.88</td>\n",
       "      <td>3.02</td>\n",
       "      <td>1310.24</td>\n",
       "      <td>0.19</td>\n",
       "      <td>0.63</td>\n",
       "      <td>171.6</td>\n",
       "    </tr>\n",
       "    <tr>\n",
       "      <th>3</th>\n",
       "      <td>01.01.2009 00:40:00</td>\n",
       "      <td>996.51</td>\n",
       "      <td>-8.31</td>\n",
       "      <td>265.12</td>\n",
       "      <td>-9.07</td>\n",
       "      <td>94.2</td>\n",
       "      <td>3.26</td>\n",
       "      <td>3.07</td>\n",
       "      <td>0.19</td>\n",
       "      <td>1.92</td>\n",
       "      <td>3.08</td>\n",
       "      <td>1309.19</td>\n",
       "      <td>0.34</td>\n",
       "      <td>0.50</td>\n",
       "      <td>198.0</td>\n",
       "    </tr>\n",
       "    <tr>\n",
       "      <th>4</th>\n",
       "      <td>01.01.2009 00:50:00</td>\n",
       "      <td>996.51</td>\n",
       "      <td>-8.27</td>\n",
       "      <td>265.15</td>\n",
       "      <td>-9.04</td>\n",
       "      <td>94.1</td>\n",
       "      <td>3.27</td>\n",
       "      <td>3.08</td>\n",
       "      <td>0.19</td>\n",
       "      <td>1.92</td>\n",
       "      <td>3.09</td>\n",
       "      <td>1309.00</td>\n",
       "      <td>0.32</td>\n",
       "      <td>0.63</td>\n",
       "      <td>214.3</td>\n",
       "    </tr>\n",
       "  </tbody>\n",
       "</table>\n",
       "</div>"
      ],
      "text/plain": [
       "             Date Time  p (mbar)  T (degC)  Tpot (K)  Tdew (degC)  rh (%)  \\\n",
       "0  01.01.2009 00:10:00    996.52     -8.02    265.40        -8.90    93.3   \n",
       "1  01.01.2009 00:20:00    996.57     -8.41    265.01        -9.28    93.4   \n",
       "2  01.01.2009 00:30:00    996.53     -8.51    264.91        -9.31    93.9   \n",
       "3  01.01.2009 00:40:00    996.51     -8.31    265.12        -9.07    94.2   \n",
       "4  01.01.2009 00:50:00    996.51     -8.27    265.15        -9.04    94.1   \n",
       "\n",
       "   VPmax (mbar)  VPact (mbar)  VPdef (mbar)  sh (g/kg)  H2OC (mmol/mol)  \\\n",
       "0          3.33          3.11          0.22       1.94             3.12   \n",
       "1          3.23          3.02          0.21       1.89             3.03   \n",
       "2          3.21          3.01          0.20       1.88             3.02   \n",
       "3          3.26          3.07          0.19       1.92             3.08   \n",
       "4          3.27          3.08          0.19       1.92             3.09   \n",
       "\n",
       "   rho (g/m**3)  wv (m/s)  max. wv (m/s)  wd (deg)  \n",
       "0       1307.75      1.03           1.75     152.3  \n",
       "1       1309.80      0.72           1.50     136.1  \n",
       "2       1310.24      0.19           0.63     171.6  \n",
       "3       1309.19      0.34           0.50     198.0  \n",
       "4       1309.00      0.32           0.63     214.3  "
      ]
     },
     "execution_count": 29,
     "metadata": {},
     "output_type": "execute_result"
    }
   ],
   "source": [
    "# Load the data\n",
    "data = pd.read_csv(data_path)\n",
    "data.head()"
   ]
  },
  {
   "cell_type": "code",
   "execution_count": 30,
   "metadata": {
    "ExecuteTime": {
     "end_time": "2020-04-20T15:28:23.096941Z",
     "start_time": "2020-04-20T15:28:23.023771Z"
    }
   },
   "outputs": [
    {
     "name": "stdout",
     "output_type": "stream",
     "text": [
      "<class 'pandas.core.frame.DataFrame'>\n",
      "RangeIndex: 420551 entries, 0 to 420550\n",
      "Data columns (total 15 columns):\n",
      " #   Column           Non-Null Count   Dtype  \n",
      "---  ------           --------------   -----  \n",
      " 0   Date Time        420551 non-null  object \n",
      " 1   p (mbar)         420551 non-null  float64\n",
      " 2   T (degC)         420551 non-null  float64\n",
      " 3   Tpot (K)         420551 non-null  float64\n",
      " 4   Tdew (degC)      420551 non-null  float64\n",
      " 5   rh (%)           420551 non-null  float64\n",
      " 6   VPmax (mbar)     420551 non-null  float64\n",
      " 7   VPact (mbar)     420551 non-null  float64\n",
      " 8   VPdef (mbar)     420551 non-null  float64\n",
      " 9   sh (g/kg)        420551 non-null  float64\n",
      " 10  H2OC (mmol/mol)  420551 non-null  float64\n",
      " 11  rho (g/m**3)     420551 non-null  float64\n",
      " 12  wv (m/s)         420551 non-null  float64\n",
      " 13  max. wv (m/s)    420551 non-null  float64\n",
      " 14  wd (deg)         420551 non-null  float64\n",
      "dtypes: float64(14), object(1)\n",
      "memory usage: 48.1+ MB\n"
     ]
    }
   ],
   "source": [
    "data.info(null_counts=True)"
   ]
  },
  {
   "cell_type": "markdown",
   "metadata": {},
   "source": [
    "数据中共有 420551 条数据，每一行是一个 timestep，记录了一个日期和 14 与天气有关的值。"
   ]
  },
  {
   "cell_type": "code",
   "execution_count": 31,
   "metadata": {
    "ExecuteTime": {
     "end_time": "2020-04-20T15:28:24.810499Z",
     "start_time": "2020-04-20T15:28:24.343072Z"
    }
   },
   "outputs": [],
   "source": [
    "# Parse the data\n",
    "float_data = data.values[:, 1:]\n",
    "# 不然预处理时会出错\n",
    "float_data = float_data.astype('float64')"
   ]
  },
  {
   "cell_type": "code",
   "execution_count": 32,
   "metadata": {
    "ExecuteTime": {
     "end_time": "2020-04-20T15:28:25.372965Z",
     "start_time": "2020-04-20T15:28:25.052597Z"
    }
   },
   "outputs": [
    {
     "data": {
      "image/png": "[encoded data removed]",
      "text/plain": [
       "<Figure size 432x288 with 1 Axes>"
      ]
     },
     "metadata": {
      "needs_background": "light"
     },
     "output_type": "display_data"
    }
   ],
   "source": [
    "# 温度随时间的变化曲线\n",
    "temp = float_data[:, 1]  # temperature\n",
    "plt.plot(temp)\n",
    "plt.show()"
   ]
  },
  {
   "cell_type": "code",
   "execution_count": 33,
   "metadata": {
    "ExecuteTime": {
     "end_time": "2020-04-20T15:28:26.179004Z",
     "start_time": "2020-04-20T15:28:25.976545Z"
    }
   },
   "outputs": [
    {
     "data": {
      "image/png": "[encoded data removed]",
      "text/plain": [
       "<Figure size 432x288 with 1 Axes>"
      ]
     },
     "metadata": {
      "needs_background": "light"
     },
     "output_type": "display_data"
    }
   ],
   "source": [
    "# 绘制前 10 天的温度时间序列\n",
    "plt.plot(temp[:1440])\n",
    "plt.show()"
   ]
  },
  {
   "attachments": {},
   "cell_type": "markdown",
   "metadata": {},
   "source": [
    "每 10 分钟记录一次，1 天 24x6=144 条数据，10 天 1440 条数据。\n",
    "\n",
    "可以看到每天的周期性变化，尤其是最后 4 天特别明显。这 10 天一定是来自于很冷的冬季月份。\n",
    "\n",
    "**如果想根据过去几个月的数据来预测下个月的平均温度，那么问题很简单，因为数据具有可靠的年度周期性。**但从几天的数据来看，温度看起来更混乱一些。以天作为观察尺度，这个时间序列是可以预测的吗？"
   ]
  },
  {
   "cell_type": "markdown",
   "metadata": {},
   "source": [
    "**<font color='blue'>问题：</font>** 一个时间步是 10 分钟，每 steps 个时间步采样一次数据，给定过去 lookback 个时间步内的数据，能否预测 delay 个时间步之后的温度？\n",
    "\n",
    "- `lookup=720`：给定过去 5 天内的观测数据\n",
    "\n",
    "\n",
    "- `steps=6`：观测数据的采样频率是每小时一个数据点\n",
    "\n",
    "\n",
    "- `delay=144`：目标是未来 24 小时之后的数据"
   ]
  },
  {
   "cell_type": "markdown",
   "metadata": {},
   "source": [
    "## 2. 准备数据"
   ]
  },
  {
   "cell_type": "code",
   "execution_count": 34,
   "metadata": {
    "ExecuteTime": {
     "end_time": "2020-04-20T15:28:28.923269Z",
     "start_time": "2020-04-20T15:28:28.855904Z"
    }
   },
   "outputs": [],
   "source": [
    "# 数据预处理——让特征在相似的范围内都取较小的特征\n",
    "mean = float_data[:200000].mean(axis=0)\n",
    "float_data -= mean\n",
    "\n",
    "std = float_data[:200000].std(axis=0)\n",
    "float_data /= std"
   ]
  },
  {
   "cell_type": "markdown",
   "metadata": {},
   "source": [
    "编写一个 Python 生成器，以当前的浮点数数组作为输入，并从最近的数据中生成数据批量，同时生成未来的目标温度。\n",
    "\n",
    "**因为数据集中的样本是高度冗余的 (对于第 N 个样本和 第 N+1 个样本，大部分时间步都是相同的)，所以显式地保存每个样本是一种浪费。相反，我们将使用原始数据即时生成样本。**"
   ]
  },
  {
   "cell_type": "code",
   "execution_count": 46,
   "metadata": {
    "ExecuteTime": {
     "end_time": "2020-04-20T15:33:32.974082Z",
     "start_time": "2020-04-20T15:33:32.966904Z"
    }
   },
   "outputs": [],
   "source": [
    "def load_and_process_data(file_path=data_path):\n",
    "    data = pd.read_csv(file_path)\n",
    "\n",
    "    float_data = data.values[:, 1:]\n",
    "    # 不然预处理时会出错\n",
    "    float_data = float_data.astype('float64')\n",
    "\n",
    "    # 数据预处理——让特征在相似的范围内都取较小的特征\n",
    "    mean = float_data[:200000].mean(axis=0)\n",
    "    float_data -= mean\n",
    "    std = float_data[:200000].std(axis=0)\n",
    "    float_data /= std\n",
    "\n",
    "    return float_data"
   ]
  },
  {
   "cell_type": "code",
   "execution_count": 47,
   "metadata": {
    "ExecuteTime": {
     "end_time": "2020-04-20T15:33:35.865990Z",
     "start_time": "2020-04-20T15:33:34.651566Z"
    }
   },
   "outputs": [],
   "source": [
    "floa_data = load_and_process_data()"
   ]
  },
  {
   "cell_type": "code",
   "execution_count": 48,
   "metadata": {
    "ExecuteTime": {
     "end_time": "2020-04-20T15:34:01.582646Z",
     "start_time": "2020-04-20T15:34:01.566758Z"
    }
   },
   "outputs": [],
   "source": [
    "def generator(data, lookback, delay, min_index, max_index, shuffle=False,\n",
    "              batch_size=128, step=6):\n",
    "    \"\"\"生成一个元组 (samples, targets)。\n",
    "\n",
    "    其中 samples 是输入数据的一个 batch，targets 是对应的目标温度数据。\n",
    "\n",
    "    Parameters\n",
    "    ----------\n",
    "    data: np.array, 原始数据\n",
    "    lookback: 输入数据应该包括过去多少个时间步\n",
    "    delay: 目标应该在未来多少个时间步之后\n",
    "    min_index 和 max_index: data 数组中的索引，用于界定需要抽取哪些时间步\n",
    "    shuffle: 是否打乱数据。默认按顺序抽取数据\n",
    "    batch_size: 每个 batch 的样本数\n",
    "    step: 数据采样的周期/时间步。默认，每小时 (6 个时间步) 抽取一个数据点\n",
    "    \"\"\"\n",
    "    # 确保在生成样本时，每个时间步之后都有 delay 个时间步数据，用于生成 target\n",
    "    if max_index is None:\n",
    "        max_index = len(data) - delay - 1\n",
    "\n",
    "    i = min_index + lookback  # 可以生成样本的起始时间步\n",
    "\n",
    "    while True:\n",
    "        if shuffle:  # 打乱数据，在范围内随机生成 batch_size 个时间步来生成样本\n",
    "            rows = np.random.randint(i, max_index, size=batch_size)\n",
    "            # rows = np.random.randint(min_index+lookback, max_index, size=batch_size)  # 原文代码\n",
    "        else:\n",
    "            # 如果超出 max_index，则从头开始\n",
    "            # 为了可以一直生成数据，每次调用这个函数结果都是一样的\n",
    "            if i + batch_size >= max_index:  # 神来之笔\n",
    "                i = min_index + lookback\n",
    "            # 生成 rows 数组，其范围从第 i 个时间步到第 i+batch_size 个时间步\n",
    "            rows = np.arange(i, i+batch_size)\n",
    "            # rows = np.arange(i, min(i+batch_size, max_index))  # 原文代码\n",
    "            i += len(rows)\n",
    "\n",
    "        # shape (batch_size, 采样数, 特征值)\n",
    "        samples = np.zeros(shape=(len(rows),\n",
    "                                  lookback // step,  # 每 step 采样一次数据\n",
    "                                  data.shape[-1]))\n",
    "        targets = np.zeros(shape=(len(rows), ))\n",
    "        for j, row in enumerate(rows):\n",
    "            # 在第 row 个时间步时，每隔 step 个时间步来采样过去 lookback 个时间步内的数据\n",
    "            indices = range(row-lookback, row, step)\n",
    "            samples[j] = data[indices]\n",
    "            targets[j] = data[row+delay][1]  # 第 row+delay 个时间步的温度作为 target\n",
    "        yield samples, targets"
   ]
  },
  {
   "cell_type": "code",
   "execution_count": 52,
   "metadata": {
    "ExecuteTime": {
     "end_time": "2020-04-20T15:34:48.067046Z",
     "start_time": "2020-04-20T15:34:48.057569Z"
    }
   },
   "outputs": [],
   "source": [
    "lookback = 1440   # 输入数据应该包括过去多少个时间步\n",
    "step = 6          # 数据采样的周期/时间步。每小时 (6 个时间步) 抽取一个数据点\n",
    "delay = 144       # 目标应该在未来多少个时间步之后\n",
    "batch_size = 128  # 每个 batch 的样本数\n",
    "\n",
    "\n",
    "train_gen = generator(float_data,\n",
    "                      lookback=lookback,\n",
    "                      delay=delay,\n",
    "                      min_index=0,\n",
    "                      max_index=200000,\n",
    "                      shuffle=True,\n",
    "                      step=step,\n",
    "                      batch_size=batch_size)\n",
    "\n",
    "val_gen = generator(float_data,\n",
    "                    lookback=lookback,\n",
    "                    delay=delay,\n",
    "                    min_index=200001,\n",
    "                    max_index=300000,\n",
    "                    step=step,\n",
    "                    batch_size=batch_size)\n",
    "test_gen = generator(float_data,\n",
    "                     lookback=lookback,\n",
    "                     delay=delay,\n",
    "                     min_index=300001,\n",
    "                     max_index=None,\n",
    "                     step=step,\n",
    "                     batch_size=batch_size)\n",
    "\n",
    "# 需要从 val_gen 生成多少次数据才能查看整个验证集\n",
    "val_steps = (300000 - 200001 - lookback) // batch_size\n",
    "\n",
    "\n",
    "# 为了查看整个测试集，需要从 test_gen 生成多少次数据\n",
    "test_steps = (len(float_data) - 300001 - lookback) // batch_size"
   ]
  },
  {
   "cell_type": "markdown",
   "metadata": {},
   "source": [
    "## 3. 基于常识的、非 ML 基准方法"
   ]
  },
  {
   "cell_type": "markdown",
   "metadata": {},
   "source": [
    "在开始尝试 DL 模型之前，可以先尝试一种基于常识的简单方法。\n",
    "\n",
    "<font color='crimson'>基于常识的基准方法可以作为合理性检查，还可以建立一个基准，更高级的 ML 模型需要打败这个基准才能表现出其有效性。面对一个尚没有已知解决方案的新问题时，这种基于常识的基准方法很有用。</font>\n",
    "\n",
    "> 一个经典的例子就是不平衡的分类任务，其中某些类别比其他类别更常见。如果数据集中包含 90% 的类别 A 实例和 10% 的类别 B 实例，那么分类任务的一种基于常识的方法就是对新样本始终预测类别 “A”。这种分类器的总体精度为 90%，因此任何基于学习的方法在精度高于 90% 时才能证明其有效性。\n",
    "\n",
    "有时候，这样基本的基准方法可能很难打败。\n",
    "\n",
    "这里，温度时间序列是连续的 (明天的温度很可能接近今天的温度)，并且具有每天的周期性变化。因此，<font color='crimson'>一种基于常识的方法就是始终预测 24 小时后的温度等于现在的温度。</font>\n",
    "\n",
    "使用平均绝对误差 (MAE) 指标来评估这种方法。"
   ]
  },
  {
   "cell_type": "code",
   "execution_count": 53,
   "metadata": {
    "ExecuteTime": {
     "end_time": "2020-04-20T15:34:49.457923Z",
     "start_time": "2020-04-20T15:34:49.453589Z"
    }
   },
   "outputs": [],
   "source": [
    "def evaluate_naive_method():\n",
    "    batch_maes = []\n",
    "    for step in range(val_steps):\n",
    "        samples, targets = next(val_gen)\n",
    "        preds = samples[:, -1, 1]  # 现在的温度作为 24 小时之后的温度\n",
    "        mae = np.mean(np.abs(preds - targets))\n",
    "        batch_maes.append(mae)\n",
    "    print(np.mean(batch_maes))"
   ]
  },
  {
   "cell_type": "code",
   "execution_count": 54,
   "metadata": {
    "ExecuteTime": {
     "end_time": "2020-04-20T15:34:55.722373Z",
     "start_time": "2020-04-20T15:34:50.725447Z"
    }
   },
   "outputs": [
    {
     "name": "stdout",
     "output_type": "stream",
     "text": [
      "0.28973597299054815\n"
     ]
    }
   ],
   "source": [
    "evaluate_naive_method()"
   ]
  },
  {
   "cell_type": "markdown",
   "metadata": {},
   "source": [
    "因为温度数据被标准化成均值为 0、标准差为 1，所以无法直接对这个值进行解释。它转化成温度的平均绝对误差为`0.29×temperature_std` 摄氏度，即 2.57°C。"
   ]
  },
  {
   "cell_type": "code",
   "execution_count": 56,
   "metadata": {
    "ExecuteTime": {
     "end_time": "2020-04-20T15:36:13.969168Z",
     "start_time": "2020-04-20T15:36:13.962913Z"
    }
   },
   "outputs": [
    {
     "data": {
      "text/plain": [
       "2.567224733839344"
      ]
     },
     "execution_count": 56,
     "metadata": {},
     "output_type": "execute_result"
    }
   ],
   "source": [
    "# 将 MAE 转换为温度\n",
    "0.29 * std[1]"
   ]
  },
  {
   "cell_type": "markdown",
   "metadata": {},
   "source": [
    "## 4. 一种基本的 ML 方法"
   ]
  },
  {
   "cell_type": "markdown",
   "metadata": {},
   "source": [
    "<font color='crimson'>开始研究复杂且计算代价很高的模型 (比如 RNN) 之前，尝试使用简单且计算代价低的 ML  模型也是很有用的，比如小型的密集连接网络。这可以保证进一步增加问题的复杂度是合理的，并且会带来真正的好处。</font>"
   ]
  },
  {
   "cell_type": "code",
   "execution_count": null,
   "metadata": {},
   "outputs": [],
   "source": []
  },
  {
   "cell_type": "code",
   "execution_count": null,
   "metadata": {},
   "outputs": [],
   "source": []
  },
  {
   "cell_type": "code",
   "execution_count": null,
   "metadata": {},
   "outputs": [],
   "source": []
  },
  {
   "cell_type": "code",
   "execution_count": null,
   "metadata": {},
   "outputs": [],
   "source": []
  },
  {
   "cell_type": "code",
   "execution_count": null,
   "metadata": {},
   "outputs": [],
   "source": []
  },
  {
   "cell_type": "code",
   "execution_count": null,
   "metadata": {},
   "outputs": [],
   "source": []
  },
  {
   "cell_type": "code",
   "execution_count": null,
   "metadata": {},
   "outputs": [],
   "source": []
  },
  {
   "cell_type": "code",
   "execution_count": null,
   "metadata": {},
   "outputs": [],
   "source": []
  },
  {
   "cell_type": "code",
   "execution_count": null,
   "metadata": {},
   "outputs": [],
   "source": []
  },
  {
   "cell_type": "code",
   "execution_count": null,
   "metadata": {},
   "outputs": [],
   "source": []
  },
  {
   "cell_type": "code",
   "execution_count": null,
   "metadata": {},
   "outputs": [],
   "source": []
  }
 ],
 "metadata": {
  "kernelspec": {
   "display_name": "Python 3",
   "language": "python",
   "name": "python3"
  },
  "language_info": {
   "codemirror_mode": {
    "name": "ipython",
    "version": 3
   },
   "file_extension": ".py",
   "mimetype": "text/x-python",
   "name": "python",
   "nbconvert_exporter": "python",
   "pygments_lexer": "ipython3",
   "version": "3.6.10"
  },
  "toc": {
   "base_numbering": 1,
   "nav_menu": {},
   "number_sections": true,
   "sideBar": true,
   "skip_h1_title": false,
   "title_cell": "Table of Contents",
   "title_sidebar": "Contents",
   "toc_cell": false,
   "toc_position": {},
   "toc_section_display": true,
   "toc_window_display": false
  },
  "varInspector": {
   "cols": {
    "lenName": 16,
    "lenType": 16,
    "lenVar": 40
   },
   "kernels_config": {
    "python": {
     "delete_cmd_postfix": "",
     "delete_cmd_prefix": "del ",
     "library": "var_list.py",
     "varRefreshCmd": "print(var_dic_list())"
    },
    "r": {
     "delete_cmd_postfix": ") ",
     "delete_cmd_prefix": "rm(",
     "library": "var_list.r",
     "varRefreshCmd": "cat(var_dic_list()) "
    }
   },
   "types_to_exclude": [
    "module",
    "function",
    "builtin_function_or_method",
    "instance",
    "_Feature"
   ],
   "window_display": false
  }
 },
 "nbformat": 4,
 "nbformat_minor": 4
}
