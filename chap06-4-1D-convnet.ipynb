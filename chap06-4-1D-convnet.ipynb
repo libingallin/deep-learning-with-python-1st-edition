{
 "cells": [
  {
   "cell_type": "markdown",
   "metadata": {},
   "source": [
    "# 用 convnet 处理序列"
   ]
  },
  {
   "cell_type": "code",
   "execution_count": 1,
   "metadata": {
    "ExecuteTime": {
     "end_time": "2020-04-23T12:29:40.527304Z",
     "start_time": "2020-04-23T12:29:37.770503Z"
    }
   },
   "outputs": [],
   "source": [
    "# Common imports\n",
    "import os\n",
    "\n",
    "import matplotlib as mpl\n",
    "import matplotlib.pyplot as plt\n",
    "import numpy as np\n",
    "import pandas as pd\n",
    "import tensorflow as tf\n",
    "from tensorflow.keras import layers\n",
    "\n",
    "%matplotlib inline\n",
    "mpl.rc('axes', labelsize=14)\n",
    "mpl.rc('xtick', labelsize=12)\n",
    "mpl.rc('ytick', labelsize=12)\n",
    "\n",
    "os.environ['CUDA_VISIBLE_DEVICES'] = '0'\n",
    "\n",
    "np.random.seed(42)\n",
    "tf.random.set_seed(42)"
   ]
  },
  {
   "cell_type": "markdown",
   "metadata": {},
   "source": [
    "<font color='crimson'>convnet 在计算机视觉问题上表现出色的原因在于它能够进行卷积运算，从局部输入图块中提取特征，并能够将表示模块化，同时可以高效地利用数据。这些性质让 convnet 在 CV 中表现优异，同样也让它对序列处理特别有效。时间可以被看作一个空间维度，就像二维图像的高度或宽度。</font>\n",
    "\n",
    "对于某些序列处理问题，这种 1D convnet 的效果可以媲美 RNN，而且计算代价通常要小很多。"
   ]
  },
  {
   "cell_type": "markdown",
   "metadata": {},
   "source": [
    "## 1.  序列的 1D convoluation"
   ]
  },
  {
   "cell_type": "markdown",
   "metadata": {},
   "source": [
    "- <font color='blue'>二维卷积从图像张量中提取二维图块并对每个图块应用相同的变换</font>\n",
    "\n",
    "\n",
    "- <font color='blue'>使用一维卷积，从序列中提取局部一维序列段 (即子序列)</font>\n",
    "\n",
    "![1D convnet](figs/chap06-figs/1D_convnet.png)\n",
    "\n",
    "**<font color='crimson'>这种一维卷积层可以识别序列中的局部模式。因为对每个序列段执行相同的输入变换，所以在句子中某个位置学到的模式稍后可以在其他位置被识别，这使得 1D convnet 具有平移不变性 (对于时间平移而言)。</font>**\n",
    "\n",
    "<font color='crimson'>使用大小为 5 的卷积窗口处理字符序列的 1D convnet ，应该能够学习长度不大于 5 的单词或单词片段，并且应该能够在输入句子中的任何位置识别这些单词或单词段。因此，字符级的 1D convnet 能够学会单词构词法。</font>"
   ]
  },
  {
   "cell_type": "markdown",
   "metadata": {},
   "source": [
    "## 2. 序列的 1D pooling"
   ]
  },
  {
   "cell_type": "markdown",
   "metadata": {},
   "source": [
    "从输入中提取一维序列段 (即子序列)， 然后输出其最大值 (最大池化) 或平均值 (平均池化)。\n",
    "\n",
    "与 2D convnet 一样，该运算也是用于降低一维输入的长度 (子采样)。"
   ]
  },
  {
   "cell_type": "markdown",
   "metadata": {},
   "source": [
    "## 3. 1D convnet"
   ]
  },
  {
   "cell_type": "markdown",
   "metadata": {},
   "source": [
    "`tf.keras.layers.Conv1D` 输入 shape 是 `(samples, steps, input_dim)`，输出 shape 是 `(batch_size, new_steps, filters)`。卷积窗口 (kernel size) 是时间轴上的一维窗口 (时间轴是输入 tensor 的第二个轴)。"
   ]
  },
  {
   "cell_type": "code",
   "execution_count": 2,
   "metadata": {
    "ExecuteTime": {
     "end_time": "2020-04-23T12:29:47.322762Z",
     "start_time": "2020-04-23T12:29:40.528972Z"
    }
   },
   "outputs": [
    {
     "name": "stdout",
     "output_type": "stream",
     "text": [
      "Load IMDB data...\n",
      "25000 train sequences\n",
      "25000 test sequences\n",
      "\n",
      "Pad sequences...\n",
      "x_train shape: (25000, 500)\n",
      "x_test shape: (25000, 500)\n"
     ]
    }
   ],
   "source": [
    "max_features = 10000\n",
    "maxlen = 500\n",
    "\n",
    "print(\"Load IMDB data...\")\n",
    "(x_train, y_train), (x_test, y_test) = tf.keras.datasets.imdb.load_data(\n",
    "    num_words=max_features)\n",
    "print(len(x_train), 'train sequences')\n",
    "print(len(x_test), 'test sequences')\n",
    "\n",
    "print(\"\\nPad sequences...\")\n",
    "x_train = tf.keras.preprocessing.sequence.pad_sequences(x_train, maxlen=maxlen)\n",
    "x_test = tf.keras.preprocessing.sequence.pad_sequences(x_test, maxlen=maxlen)\n",
    "print('x_train shape:', x_train.shape)\n",
    "print('x_test shape:', x_test.shape)"
   ]
  },
  {
   "cell_type": "markdown",
   "metadata": {},
   "source": [
    "**<font color='crimson'>1D convnet 可以使用更大的卷积窗口。</font>**\n",
    "\n",
    "<font color='crimson'>对于 2D convoluation， 3×3 的卷积窗口包含 3×3=9 个特征向量，但对于 1D convoluation，大小为 3 的卷积窗口只包含 3 个卷积向量。因此，可以轻松使用大小等于 7 或 9 的一维卷积窗口。</font>"
   ]
  },
  {
   "cell_type": "code",
   "execution_count": 3,
   "metadata": {
    "ExecuteTime": {
     "end_time": "2020-04-23T12:29:49.005537Z",
     "start_time": "2020-04-23T12:29:47.324652Z"
    }
   },
   "outputs": [
    {
     "name": "stdout",
     "output_type": "stream",
     "text": [
      "Model: \"sequential\"\n",
      "_________________________________________________________________\n",
      "Layer (type)                 Output Shape              Param #   \n",
      "=================================================================\n",
      "embedding (Embedding)        (None, 500, 128)          1280000   \n",
      "_________________________________________________________________\n",
      "conv1d (Conv1D)              (None, 494, 32)           28704     \n",
      "_________________________________________________________________\n",
      "max_pooling1d (MaxPooling1D) (None, 98, 32)            0         \n",
      "_________________________________________________________________\n",
      "conv1d_1 (Conv1D)            (None, 92, 32)            7200      \n",
      "_________________________________________________________________\n",
      "global_max_pooling1d (Global (None, 32)                0         \n",
      "_________________________________________________________________\n",
      "dense (Dense)                (None, 1)                 33        \n",
      "=================================================================\n",
      "Total params: 1,315,937\n",
      "Trainable params: 1,315,937\n",
      "Non-trainable params: 0\n",
      "_________________________________________________________________\n"
     ]
    }
   ],
   "source": [
    "model = tf.keras.Sequential([\n",
    "    tf.keras.layers.Embedding(max_features, 128, input_length=maxlen),\n",
    "    tf.keras.layers.Conv1D(32, 7, activation='relu'),  # 500-7+1=494\n",
    "    tf.keras.layers.MaxPool1D(5),  # 494//5\n",
    "    tf.keras.layers.Conv1D(32, 7, activation='relu'),\n",
    "    tf.keras.layers.GlobalMaxPool1D(),\n",
    "    tf.keras.layers.Dense(1, activation='sigmoid')\n",
    "])\n",
    "model.summary()"
   ]
  },
  {
   "cell_type": "code",
   "execution_count": 4,
   "metadata": {
    "ExecuteTime": {
     "end_time": "2020-04-23T12:31:15.137976Z",
     "start_time": "2020-04-23T12:29:49.008249Z"
    }
   },
   "outputs": [
    {
     "name": "stdout",
     "output_type": "stream",
     "text": [
      "Train on 20000 samples, validate on 5000 samples\n",
      "Epoch 1/10\n",
      "20000/20000 [==============================] - 14s 678us/sample - loss: 0.6926 - acc: 0.5216 - val_loss: 0.6917 - val_acc: 0.5266\n",
      "Epoch 2/10\n",
      "20000/20000 [==============================] - 8s 422us/sample - loss: 0.6864 - acc: 0.6810 - val_loss: 0.6851 - val_acc: 0.6722\n",
      "Epoch 3/10\n",
      "20000/20000 [==============================] - 8s 412us/sample - loss: 0.6709 - acc: 0.7552 - val_loss: 0.6583 - val_acc: 0.7544\n",
      "Epoch 4/10\n",
      "20000/20000 [==============================] - 8s 414us/sample - loss: 0.6189 - acc: 0.7910 - val_loss: 0.5763 - val_acc: 0.8034\n",
      "Epoch 5/10\n",
      "20000/20000 [==============================] - 8s 409us/sample - loss: 0.5073 - acc: 0.8291 - val_loss: 0.4566 - val_acc: 0.8274\n",
      "Epoch 6/10\n",
      "20000/20000 [==============================] - 8s 405us/sample - loss: 0.3927 - acc: 0.8540 - val_loss: 0.3759 - val_acc: 0.8468\n",
      "Epoch 7/10\n",
      "20000/20000 [==============================] - 8s 411us/sample - loss: 0.3216 - acc: 0.8773 - val_loss: 0.3413 - val_acc: 0.8558\n",
      "Epoch 8/10\n",
      "20000/20000 [==============================] - 8s 389us/sample - loss: 0.2816 - acc: 0.8901 - val_loss: 0.3245 - val_acc: 0.8594\n",
      "Epoch 9/10\n",
      "20000/20000 [==============================] - 7s 374us/sample - loss: 0.2540 - acc: 0.9011 - val_loss: 0.3171 - val_acc: 0.8652\n",
      "Epoch 10/10\n",
      "20000/20000 [==============================] - 8s 382us/sample - loss: 0.2330 - acc: 0.9104 - val_loss: 0.3152 - val_acc: 0.8650\n"
     ]
    }
   ],
   "source": [
    "model.compile(\n",
    "    optimizer=tf.keras.optimizers.RMSprop(lr=1e-4),\n",
    "    loss='binary_crossentropy',\n",
    "    metrics=['acc'])\n",
    "history = model.fit(\n",
    "    x_train,\n",
    "    y_train,\n",
    "    epochs=10,\n",
    "    batch_size=128,\n",
    "    validation_split=0.2)"
   ]
  },
  {
   "cell_type": "code",
   "execution_count": 5,
   "metadata": {
    "ExecuteTime": {
     "end_time": "2020-04-23T12:31:15.155459Z",
     "start_time": "2020-04-23T12:31:15.141386Z"
    },
    "code_folding": [
     0
    ]
   },
   "outputs": [],
   "source": [
    "def plot_history(history):\n",
    "    history_dict = history.history\n",
    "\n",
    "    loss_values = history_dict['loss']\n",
    "    val_loss_values = history_dict['val_loss']\n",
    "    acc = history_dict['acc']\n",
    "    val_acc = history_dict['val_acc']\n",
    "\n",
    "    epochs = [i + 1 for i in history.epoch]\n",
    "\n",
    "    # Plot the results\n",
    "    plt.figure(figsize=(14, 4.2))\n",
    "    plt.subplot(121)\n",
    "    plt.plot(epochs, loss_values, 'c+-', label='Training loss')\n",
    "    plt.plot(epochs, val_loss_values, 'm.-', label='Val loss')\n",
    "    plt.xlabel('Epochs', fontsize=12)\n",
    "    plt.xticks(epochs, rotation=90)\n",
    "    plt.ylabel('Loss', fontsize=12)\n",
    "    plt.legend(fontsize=18)\n",
    "    plt.title('Training and validation loss', fontsize=16)\n",
    "\n",
    "    plt.subplot(122)\n",
    "    plt.plot(epochs, acc, 'c+-', label='Training acc')\n",
    "    plt.plot(epochs, val_acc, 'm.-', label='Val acc')\n",
    "    plt.xlabel('Epochs', fontsize=12)\n",
    "    plt.xticks(epochs, rotation=90)\n",
    "    plt.ylabel('Acc', fontsize=12)\n",
    "    plt.legend(fontsize=18)\n",
    "    plt.title('Training and validation acc', fontsize=16)\n",
    "\n",
    "    plt.show()"
   ]
  },
  {
   "cell_type": "code",
   "execution_count": 6,
   "metadata": {
    "ExecuteTime": {
     "end_time": "2020-04-23T12:31:15.598886Z",
     "start_time": "2020-04-23T12:31:15.159541Z"
    }
   },
   "outputs": [
    {
     "data": {
      "image/png": "[encoded data removed]",
      "text/plain": [
       "<Figure size 1008x302.4 with 2 Axes>"
      ]
     },
     "metadata": {
      "needs_background": "light"
     },
     "output_type": "display_data"
    }
   ],
   "source": [
    "plot_history(history)"
   ]
  },
  {
   "cell_type": "markdown",
   "metadata": {},
   "source": [
    "ACC 和 LSTM 的差不多，但速度快多了。\n",
    "\n",
    "<font color='crimson'>在单词级的情感分类任务上，1D convnet 可以替代 RNN ，并且速度更快、计算代价 更低。</font>"
   ]
  },
  {
   "cell_type": "markdown",
   "metadata": {},
   "source": [
    "## 4. 结合 CNN 和 RNN 来处理长序列"
   ]
  },
  {
   "cell_type": "markdown",
   "metadata": {},
   "source": [
    "<font color='crimson'>1D convnet 分别处理每个输入序列段，所以它对时间步的顺序不敏感，这一点与 RNN 不同。(这里所说顺序的范围要大于局部尺度，即大于卷积窗口的大小。不关注局部的顺序，但是关注整体的顺序。)</font> \n",
    "\n",
    "当然，为了识别更长期的模式，可以将许多卷积层和池化层堆叠在一起，这样上面的层能够观察到原始输入中更长的序列段，但这仍然不是一种引入顺序敏感性的好方法。"
   ]
  },
  {
   "cell_type": "code",
   "execution_count": 7,
   "metadata": {
    "ExecuteTime": {
     "end_time": "2020-04-23T12:31:15.605561Z",
     "start_time": "2020-04-23T12:31:15.601060Z"
    },
    "code_folding": [
     0
    ]
   },
   "outputs": [],
   "source": [
    "def load_and_process_data():\n",
    "    data = pd.read_csv(\n",
    "        '/home/libing/datasets/jena_climate/jena_climate_2009_2016.csv')\n",
    "\n",
    "    float_data = data.values[:, 1:]\n",
    "    # 不然预处理时会出错\n",
    "    float_data = float_data.astype('float64')\n",
    "\n",
    "    # 数据预处理——让特征在相似的范围内都取较小的特征\n",
    "    mean = float_data[:200000].mean(axis=0)\n",
    "    float_data -= mean\n",
    "    std = float_data[:200000].std(axis=0)\n",
    "    float_data /= std\n",
    "\n",
    "    return float_data"
   ]
  },
  {
   "cell_type": "code",
   "execution_count": 8,
   "metadata": {
    "ExecuteTime": {
     "end_time": "2020-04-23T12:31:15.616585Z",
     "start_time": "2020-04-23T12:31:15.607409Z"
    },
    "code_folding": [
     0
    ]
   },
   "outputs": [],
   "source": [
    "def generator(data, lookback, delay, min_index, max_index, shuffle=False,\n",
    "              batch_size=128, step=6):\n",
    "    \"\"\"生成一个元组 (samples, targets)。\n",
    "\n",
    "    其中 samples 是输入数据的一个 batch，targets 是对应的目标温度数据。\n",
    "\n",
    "    Parameters\n",
    "    ----------\n",
    "    data: np.array, 原始数据\n",
    "    lookback: 输入数据应该包括过去多少个时间步\n",
    "    delay: 目标应该在未来多少个时间步之后\n",
    "    min_index 和 max_index: data 数组中的索引，用于界定需要抽取哪些时间步\n",
    "    shuffle: 是否打乱数据。默认按顺序抽取数据\n",
    "    batch_size: 每个 batch 的样本数\n",
    "    step: 数据采样的周期/时间步。默认，每小时 (6 个时间步) 抽取一个数据点\n",
    "    \"\"\"\n",
    "    # 确保在生成样本时，每个时间步之后都有 delay 个时间步数据，用于生成 target\n",
    "    if max_index is None:\n",
    "        max_index = len(data) - delay - 1\n",
    "\n",
    "    i = min_index + lookback  # 可以生成样本的起始时间步\n",
    "\n",
    "    while True:\n",
    "        if shuffle:  # 打乱数据，在范围内随机生成 batch_size 个时间步来生成样本\n",
    "            rows = np.random.randint(i, max_index, size=batch_size)\n",
    "            # rows = np.random.randint(min_index+lookback, max_index, size=batch_size)  # 原文代码\n",
    "        else:\n",
    "            # 如果超出 max_index，则从头开始\n",
    "            # 为了可以一直生成数据，每次调用这个函数结果都是一样的\n",
    "            if i + batch_size >= max_index:  # 神来之笔\n",
    "                i = min_index + lookback\n",
    "            # 生成 rows 数组，其范围从第 i 个时间步到第 i+batch_size 个时间步\n",
    "            rows = np.arange(i, i+batch_size)\n",
    "            # rows = np.arange(i, min(i+batch_size, max_index))  # 原文代码\n",
    "            i += len(rows)\n",
    "\n",
    "        # shape (batch_size, 采样数, 特征值)\n",
    "        samples = np.zeros(shape=(len(rows),\n",
    "                                  lookback // step,  # 每 step 采样一次数据\n",
    "                                  data.shape[-1]))\n",
    "        targets = np.zeros(shape=(len(rows), ))\n",
    "        for j, row in enumerate(rows):\n",
    "            # 在第 row 个时间步时，每隔 step 个时间步来采样过去 lookback 个时间步内的数据\n",
    "            indices = range(row-lookback, row, step)\n",
    "            samples[j] = data[indices]\n",
    "            targets[j] = data[row+delay][1]  # 第 row+delay 个时间步的温度作为 target\n",
    "        # 这里用的是 TensorFlow 2.0 GPU，不能加 [None]\n",
    "        yield samples, targets"
   ]
  },
  {
   "cell_type": "code",
   "execution_count": 9,
   "metadata": {
    "ExecuteTime": {
     "end_time": "2020-04-23T12:31:16.849398Z",
     "start_time": "2020-04-23T12:31:15.618344Z"
    },
    "code_folding": [
     7,
     15,
     22
    ]
   },
   "outputs": [],
   "source": [
    "lookback = 1440\n",
    "step = 6\n",
    "delay = 144\n",
    "batch_size = 128\n",
    "\n",
    "float_data = load_and_process_data()\n",
    "\n",
    "train_gen = generator(float_data,\n",
    "                      lookback=lookback,\n",
    "                      delay=delay,\n",
    "                      min_index=0,\n",
    "                      max_index=200000,\n",
    "                      shuffle=True,\n",
    "                      step=step,\n",
    "                      batch_size=batch_size)\n",
    "val_gen = generator(float_data,\n",
    "                    lookback=lookback,\n",
    "                    delay=delay,\n",
    "                    min_index=200001,\n",
    "                    max_index=300000,\n",
    "                    step=step,\n",
    "                    batch_size=batch_size)\n",
    "test_gen = generator(float_data,\n",
    "                     lookback=lookback,\n",
    "                     delay=delay,\n",
    "                     min_index=300001,\n",
    "                     max_index=None,\n",
    "                     step=step,\n",
    "                     batch_size=batch_size)\n",
    "\n",
    "val_steps = (300000 - 200001 - lookback) // batch_size\n",
    "test_steps = (len(float_data) - 300001 - lookback) // batch_size"
   ]
  },
  {
   "cell_type": "code",
   "execution_count": 10,
   "metadata": {
    "ExecuteTime": {
     "end_time": "2020-04-23T12:39:46.501241Z",
     "start_time": "2020-04-23T12:31:16.851396Z"
    }
   },
   "outputs": [
    {
     "name": "stdout",
     "output_type": "stream",
     "text": [
      "Model: \"sequential\"\n",
      "_________________________________________________________________\n",
      "Layer (type)                 Output Shape              Param #   \n",
      "=================================================================\n",
      "conv1d (Conv1D)              (None, None, 32)          2272      \n",
      "_________________________________________________________________\n",
      "max_pooling1d (MaxPooling1D) (None, None, 32)          0         \n",
      "_________________________________________________________________\n",
      "conv1d_1 (Conv1D)            (None, None, 32)          5152      \n",
      "_________________________________________________________________\n",
      "max_pooling1d_1 (MaxPooling1 (None, None, 32)          0         \n",
      "_________________________________________________________________\n",
      "conv1d_2 (Conv1D)            (None, None, 32)          5152      \n",
      "_________________________________________________________________\n",
      "global_max_pooling1d (Global (None, 32)                0         \n",
      "_________________________________________________________________\n",
      "dense (Dense)                (None, 1)                 33        \n",
      "=================================================================\n",
      "Total params: 12,609\n",
      "Trainable params: 12,609\n",
      "Non-trainable params: 0\n",
      "_________________________________________________________________\n",
      "Train for 500 steps, validate for 769 steps\n",
      "Epoch 1/20\n",
      "500/500 [==============================] - 26s 52ms/step - loss: 0.4199 - val_loss: 0.4301\n",
      "Epoch 2/20\n",
      "500/500 [==============================] - 25s 51ms/step - loss: 0.3625 - val_loss: 0.4385\n",
      "Epoch 3/20\n",
      "500/500 [==============================] - 25s 50ms/step - loss: 0.3392 - val_loss: 0.4419\n",
      "Epoch 4/20\n",
      "500/500 [==============================] - 26s 52ms/step - loss: 0.3228 - val_loss: 0.4422\n",
      "Epoch 5/20\n",
      "500/500 [==============================] - 25s 51ms/step - loss: 0.3102 - val_loss: 0.4698\n",
      "Epoch 6/20\n",
      "500/500 [==============================] - 26s 51ms/step - loss: 0.3018 - val_loss: 0.4846\n",
      "Epoch 7/20\n",
      "500/500 [==============================] - 25s 51ms/step - loss: 0.2941 - val_loss: 0.4570\n",
      "Epoch 8/20\n",
      "500/500 [==============================] - 25s 51ms/step - loss: 0.2875 - val_loss: 0.4795\n",
      "Epoch 9/20\n",
      "500/500 [==============================] - 25s 50ms/step - loss: 0.2800 - val_loss: 0.4698\n",
      "Epoch 10/20\n",
      "500/500 [==============================] - 25s 50ms/step - loss: 0.2759 - val_loss: 0.4730\n",
      "Epoch 11/20\n",
      "500/500 [==============================] - 26s 52ms/step - loss: 0.2725 - val_loss: 0.4818\n",
      "Epoch 12/20\n",
      "500/500 [==============================] - 25s 50ms/step - loss: 0.2670 - val_loss: 0.4680\n",
      "Epoch 13/20\n",
      "500/500 [==============================] - 25s 50ms/step - loss: 0.2648 - val_loss: 0.5059\n",
      "Epoch 14/20\n",
      "500/500 [==============================] - 25s 50ms/step - loss: 0.2611 - val_loss: 0.4804\n",
      "Epoch 15/20\n",
      "500/500 [==============================] - 25s 51ms/step - loss: 0.2580 - val_loss: 0.4866\n",
      "Epoch 16/20\n",
      "500/500 [==============================] - 25s 51ms/step - loss: 0.2560 - val_loss: 0.4822\n",
      "Epoch 17/20\n",
      "500/500 [==============================] - 26s 52ms/step - loss: 0.2514 - val_loss: 0.5040\n",
      "Epoch 18/20\n",
      "500/500 [==============================] - 25s 51ms/step - loss: 0.2512 - val_loss: 0.4988\n",
      "Epoch 19/20\n",
      "500/500 [==============================] - 26s 52ms/step - loss: 0.2475 - val_loss: 0.4997\n",
      "Epoch 20/20\n",
      "500/500 [==============================] - 26s 51ms/step - loss: 0.2440 - val_loss: 0.5141\n"
     ]
    }
   ],
   "source": [
    "tf.keras.backend.clear_session()\n",
    "model = tf.keras.Sequential([\n",
    "    tf.keras.layers.Conv1D(32, 5, activation='relu',\n",
    "                           # None for variable-length sequences\n",
    "                           input_shape=(None, float_data.shape[-1])),\n",
    "    tf.keras.layers.MaxPool1D(3),\n",
    "    tf.keras.layers.Conv1D(32, 5, activation='relu'),\n",
    "    tf.keras.layers.MaxPool1D(3),\n",
    "    tf.keras.layers.Conv1D(32, 5, activation='relu'),\n",
    "    tf.keras.layers.GlobalMaxPool1D(),\n",
    "    tf.keras.layers.Dense(1)\n",
    "])\n",
    "\n",
    "model.summary()\n",
    "\n",
    "model.compile(optimizer='rmsprop', loss='mae')\n",
    "history = model.fit(train_gen,\n",
    "          steps_per_epoch=500,\n",
    "          epochs=20,\n",
    "          validation_data=val_gen,\n",
    "          validation_steps=val_steps)"
   ]
  },
  {
   "cell_type": "code",
   "execution_count": 11,
   "metadata": {
    "ExecuteTime": {
     "end_time": "2020-04-23T12:39:46.515122Z",
     "start_time": "2020-04-23T12:39:46.504543Z"
    },
    "code_folding": [
     0
    ]
   },
   "outputs": [],
   "source": [
    "def plot_history(history):\n",
    "    history_dict = history.history\n",
    "\n",
    "    loss_values = history_dict['loss']\n",
    "    val_loss_values = history_dict['val_loss']\n",
    "\n",
    "    epochs = [i + 1 for i in history.epoch]\n",
    "\n",
    "    # Plot the results\n",
    "    plt.plot(epochs, loss_values, 'c+-', label='Training loss')\n",
    "    plt.plot(epochs, val_loss_values, 'm.-', label='Val loss')\n",
    "    plt.xlabel('Epochs', fontsize=16)\n",
    "    plt.xticks(epochs, rotation=90)\n",
    "    plt.ylabel('Loss', fontsize=16)\n",
    "    plt.legend(fontsize=18)\n",
    "    plt.title('Training and validation loss', fontsize=16)\n",
    "\n",
    "    plt.show()"
   ]
  },
  {
   "cell_type": "code",
   "execution_count": 12,
   "metadata": {
    "ExecuteTime": {
     "end_time": "2020-04-23T12:39:46.782554Z",
     "start_time": "2020-04-23T12:39:46.517502Z"
    }
   },
   "outputs": [
    {
     "data": {
      "image/png": "[encoded data removed]",
      "text/plain": [
       "<Figure size 432x273.6 with 1 Axes>"
      ]
     },
     "metadata": {
      "needs_background": "light"
     },
     "output_type": "display_data"
    }
   ],
   "source": [
    "plt.figure(figsize=(6, 3.8))\n",
    "plot_history(history)"
   ]
  },
  {
   "cell_type": "markdown",
   "metadata": {},
   "source": [
    "单纯使用 1D convnet 的结果很差。\n",
    "\n",
    "<font color='crimson'>这是因为 convnet 在输入时间序列的所有位置寻找模式，它并不知道所看到某个模式的时间位置 (距开始多长时间，距结束多长时间等)。</font> 对于这个具体的温度预测问题，对最新数据点的解释与对较早数据点的解释应该并不相同，所以 convnet 无法得到有意义的结果。<font color='crimson'>convnet 的这种限制对于 IMDB 数据来说并不是问题，因为对于与正面情绪或负面情绪相关联的关键词模式，无论出现在输入句子中的什么位置，它所包含的信息量是一样的。</font>"
   ]
  },
  {
   "cell_type": "markdown",
   "metadata": {},
   "source": [
    "<div class=\"alert alert-block alert-info\">\n",
    "    <b>要想结合 convnet 的速度和轻量与 RNN 的顺序敏感性，一种方法是在 RNN 前面使用 1D convnet 作为预处理步骤。对于那些非常长，以至于 RNN 无法处理的序列 (比如包含上千个时间步的序列)，这种方法尤其有用。convnet 可以将长的输入序列转换为高级特征组成的更短序列 (下采样)。然后，提取的特征组成的这些序列成为网络中 RNN 的输入。</b>\n",
    "</div>\n",
    "\n",
    "![CNN+RNN](figs/chap06-figs/cnn_and_rnn.png)"
   ]
  },
  {
   "cell_type": "markdown",
   "metadata": {},
   "source": [
    "<font color='crimson'>CNN+RNN 的方法可以处理更长的序列</font>，所以可以在这个问题中可以查看更早的数据 (增大 lookback) 或者查看分辨率更高的时间序列 (减小 step)。"
   ]
  },
  {
   "cell_type": "code",
   "execution_count": 13,
   "metadata": {
    "ExecuteTime": {
     "end_time": "2020-04-23T12:39:46.789680Z",
     "start_time": "2020-04-23T12:39:46.784026Z"
    }
   },
   "outputs": [],
   "source": [
    "step = 3\n",
    "lookback = 1440  # Unchanged\n",
    "delay = 144      # Unchanged\n",
    "\n",
    "train_gen = generator(float_data,\n",
    "                      lookback=lookback,\n",
    "                      delay=delay,\n",
    "                      min_index=0,\n",
    "                      max_index=200000,\n",
    "                      shuffle=True,\n",
    "                      step=step)\n",
    "val_gen = generator(float_data,\n",
    "                    lookback=lookback,\n",
    "                    delay=delay,\n",
    "                    min_index=200001,\n",
    "                    max_index=300000,\n",
    "                    step=step)\n",
    "test_gen = generator(float_data,\n",
    "                     lookback=lookback,\n",
    "                     delay=delay,\n",
    "                     min_index=300001,\n",
    "                     max_index=None,\n",
    "                     step=step)\n",
    "\n",
    "val_steps = (300000 - 200001 - lookback) // 128\n",
    "test_steps = (len(float_data) - 300001 - lookback) // 128"
   ]
  },
  {
   "cell_type": "code",
   "execution_count": 14,
   "metadata": {
    "ExecuteTime": {
     "end_time": "2020-04-23T12:55:16.703355Z",
     "start_time": "2020-04-23T12:39:46.791284Z"
    }
   },
   "outputs": [
    {
     "name": "stdout",
     "output_type": "stream",
     "text": [
      "Model: \"sequential\"\n",
      "_________________________________________________________________\n",
      "Layer (type)                 Output Shape              Param #   \n",
      "=================================================================\n",
      "conv1d (Conv1D)              (None, None, 32)          2272      \n",
      "_________________________________________________________________\n",
      "max_pooling1d (MaxPooling1D) (None, None, 32)          0         \n",
      "_________________________________________________________________\n",
      "conv1d_1 (Conv1D)            (None, None, 32)          5152      \n",
      "_________________________________________________________________\n",
      "gru (GRU)                    (None, 32)                6336      \n",
      "_________________________________________________________________\n",
      "dense (Dense)                (None, 1)                 33        \n",
      "=================================================================\n",
      "Total params: 13,793\n",
      "Trainable params: 13,793\n",
      "Non-trainable params: 0\n",
      "_________________________________________________________________\n",
      "Train for 500 steps, validate for 769 steps\n",
      "Epoch 1/20\n",
      "500/500 [==============================] - 48s 97ms/step - loss: 0.3257 - val_loss: 0.2871\n",
      "Epoch 2/20\n",
      "500/500 [==============================] - 48s 96ms/step - loss: 0.2911 - val_loss: 0.2747\n",
      "Epoch 3/20\n",
      "500/500 [==============================] - 46s 93ms/step - loss: 0.2785 - val_loss: 0.2818\n",
      "Epoch 4/20\n",
      "500/500 [==============================] - 48s 95ms/step - loss: 0.2710 - val_loss: 0.2761\n",
      "Epoch 5/20\n",
      "500/500 [==============================] - 44s 88ms/step - loss: 0.2616 - val_loss: 0.2881\n",
      "Epoch 6/20\n",
      "500/500 [==============================] - 47s 95ms/step - loss: 0.2543 - val_loss: 0.2941\n",
      "Epoch 7/20\n",
      "500/500 [==============================] - 48s 96ms/step - loss: 0.2457 - val_loss: 0.2934\n",
      "Epoch 8/20\n",
      "500/500 [==============================] - 45s 91ms/step - loss: 0.2366 - val_loss: 0.2875\n",
      "Epoch 9/20\n",
      "500/500 [==============================] - 45s 91ms/step - loss: 0.2295 - val_loss: 0.2973\n",
      "Epoch 10/20\n",
      "500/500 [==============================] - 45s 89ms/step - loss: 0.2213 - val_loss: 0.2962\n",
      "Epoch 11/20\n",
      "500/500 [==============================] - 47s 93ms/step - loss: 0.2125 - val_loss: 0.3153\n",
      "Epoch 12/20\n",
      "500/500 [==============================] - 46s 93ms/step - loss: 0.2059 - val_loss: 0.3073\n",
      "Epoch 13/20\n",
      "500/500 [==============================] - 48s 96ms/step - loss: 0.2026 - val_loss: 0.3042\n",
      "Epoch 14/20\n",
      "500/500 [==============================] - 45s 91ms/step - loss: 0.1969 - val_loss: 0.3138\n",
      "Epoch 15/20\n",
      "500/500 [==============================] - 48s 95ms/step - loss: 0.1915 - val_loss: 0.3226\n",
      "Epoch 16/20\n",
      "500/500 [==============================] - 46s 93ms/step - loss: 0.1855 - val_loss: 0.3247\n",
      "Epoch 17/20\n",
      "500/500 [==============================] - 46s 93ms/step - loss: 0.1836 - val_loss: 0.3240\n",
      "Epoch 18/20\n",
      "500/500 [==============================] - 45s 90ms/step - loss: 0.1799 - val_loss: 0.3287\n",
      "Epoch 19/20\n",
      "500/500 [==============================] - 47s 94ms/step - loss: 0.1758 - val_loss: 0.3272\n",
      "Epoch 20/20\n",
      "500/500 [==============================] - 46s 92ms/step - loss: 0.1732 - val_loss: 0.3214\n"
     ]
    }
   ],
   "source": [
    "tf.keras.backend.clear_session()\n",
    "model = tf.keras.Sequential([\n",
    "    tf.keras.layers.Conv1D(32, 5, activation='relu',\n",
    "                           # None for variable-length sequences\n",
    "                           input_shape=(None, float_data.shape[-1])),\n",
    "    tf.keras.layers.MaxPool1D(3),\n",
    "    tf.keras.layers.Conv1D(32, 5, activation='relu'),\n",
    "    tf.keras.layers.GRU(32, dropout=0.1),\n",
    "    tf.keras.layers.Dense(1)\n",
    "])\n",
    "\n",
    "model.summary()\n",
    "\n",
    "model.compile(optimizer='rmsprop', loss='mae')\n",
    "history = model.fit(train_gen,\n",
    "          steps_per_epoch=500,\n",
    "          epochs=20,\n",
    "          validation_data=val_gen,\n",
    "          validation_steps=val_steps)"
   ]
  },
  {
   "cell_type": "markdown",
   "metadata": {},
   "source": [
    "在本例中可能效果不是很好，但对于其他数据集可能非常重要。"
   ]
  },
  {
   "cell_type": "markdown",
   "metadata": {},
   "source": [
    "**<font color='blue'>Summary:</font>**\n",
    "\n",
    "- <font color='blue'>2D convnet 在二维空间中处理视觉模式时表现很好，与此相同，1D convnet 在处理时间模式时表现也很好。对于某些问题，特别是 NLP 任务，它可以替代 RNN，并且速度更快。</font>\n",
    "\n",
    "\n",
    "- <font color='blue'>通常情况下，1D convnet 的架构与 2D convnet 很相似，它将 `Conv1D` 层和 `MaxPool1D` 层堆叠在一起，最后是一个 `GlobalMaxPool1D` 或 `GlobalAveragePool1D` 或 `Flatten`。</font>\n",
    "\n",
    "\n",
    "- <font color='blue'>因为 RNN 在处理非常长的序列时计算代价很大，但 1D convnet 的计算代价很小， 所以在 RNN 之前使用 1D convnet 作为预处理步骤是一个好主意，这样可以使序列变短，并提取出有用的表示交给 RNN 来处理。</font>\n",
    "\n",
    "\n",
    "- <font color='crimson'>如果序列数据的整体顺序很重要，那么最好使用 RNN 来处理。时间序列通常都是这样，最近的数据可能比久远的数据包含更多的信息量。</font>\n",
    "\n",
    "\n",
    "- <font color='crimson'>如果整体顺序没有意义，那么 1D convnet 可以实现同样好的效果，而且计算代价更小。文本数据通常都是这样，在句首发现关键词和在句尾发现关键词一样都很有意义。</font>"
   ]
  }
 ],
 "metadata": {
  "kernelspec": {
   "display_name": "Python 3",
   "language": "python",
   "name": "python3"
  },
  "language_info": {
   "codemirror_mode": {
    "name": "ipython",
    "version": 3
   },
   "file_extension": ".py",
   "mimetype": "text/x-python",
   "name": "python",
   "nbconvert_exporter": "python",
   "pygments_lexer": "ipython3",
   "version": "3.6.9"
  },
  "toc": {
   "base_numbering": 1,
   "nav_menu": {},
   "number_sections": true,
   "sideBar": true,
   "skip_h1_title": false,
   "title_cell": "Table of Contents",
   "title_sidebar": "Contents",
   "toc_cell": false,
   "toc_position": {},
   "toc_section_display": true,
   "toc_window_display": false
  },
  "varInspector": {
   "cols": {
    "lenName": 16,
    "lenType": 16,
    "lenVar": 40
   },
   "kernels_config": {
    "python": {
     "delete_cmd_postfix": "",
     "delete_cmd_prefix": "del ",
     "library": "var_list.py",
     "varRefreshCmd": "print(var_dic_list())"
    },
    "r": {
     "delete_cmd_postfix": ") ",
     "delete_cmd_prefix": "rm(",
     "library": "var_list.r",
     "varRefreshCmd": "cat(var_dic_list()) "
    }
   },
   "types_to_exclude": [
    "module",
    "function",
    "builtin_function_or_method",
    "instance",
    "_Feature"
   ],
   "window_display": false
  }
 },
 "nbformat": 4,
 "nbformat_minor": 4
}
