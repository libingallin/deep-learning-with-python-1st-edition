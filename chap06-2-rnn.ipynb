{
 "cells": [
  {
   "cell_type": "markdown",
   "metadata": {},
   "source": [
    "# 理解 RNN"
   ]
  },
  {
   "cell_type": "markdown",
   "metadata": {},
   "source": [
    "**<font color='red'>前馈网络 (feedforward network)</font>** (如，FCNN 和 convnet) 没有记忆。它们单独处理每个输入，在输入与输入之间没有保存任何状态。对于这样的网络，要想处理数据点的序列或时间序列，你需要向网络同时展示整个序列，即将序列转换成单个数据点。\n",
    "\n",
    "\n",
    "**<font color='red'>循环神经网络 (RNN，recurrent neural network)</font>** 处理序列的方式是，遍历所有序列元素，并保存一个状态 (state)，其中包含与已查看内容相关的信息。\n",
    "\n",
    "实际上，RNN 是一类具有内部环的神经网络。在处理两个不同的独立序列 (比如两条不同的 IMDB 评论) 之间，RNN 状态会被重置，因此，你仍可以将一个序列看作单个数据点，即网络的单个输入。真正改变的是，数据点不再是在单个步骤中进行处理，相反，网络内部会对序列元素进行遍历。\n",
    "\n",
    "![rnn](figs/chap06-figs/rnn.png)\n",
    "\n",
    "<font color='crimson'>RNN 对时间步 (timestep) 进行遍历，在每个时间步，它考虑 t 时刻的当前状态与 t 时刻的输入 [形状为 `(input_ features,)`]，对二者计算得到 t 时刻的输出。然后，我们将下一个时间步的状态设置为上一个时间步的输出。</font>对于第一个时间步，上一个时间步的输出没有定义，所以它没有当前状态。因此，你需要将状态初始化为一个全零向量，这叫作网络的初始状态(initial state)。"
   ]
  },
  {
   "cell_type": "code",
   "execution_count": 1,
   "metadata": {
    "ExecuteTime": {
     "end_time": "2020-04-19T15:25:03.191336Z",
     "start_time": "2020-04-19T15:25:00.259436Z"
    }
   },
   "outputs": [],
   "source": [
    "# Common imports\n",
    "import os\n",
    "\n",
    "import matplotlib as mpl\n",
    "import matplotlib.pyplot as plt\n",
    "import numpy as np\n",
    "import tensorflow as tf\n",
    "from tensorflow import keras\n",
    "\n",
    "%matplotlib inline\n",
    "mpl.rc('axes', labelsize=14)\n",
    "mpl.rc('xtick', labelsize=12)\n",
    "mpl.rc('ytick', labelsize=12)\n",
    "\n",
    "np.random.seed(42)\n",
    "tf.random.set_seed(42)\n",
    "\n",
    "os.environ['CUDA_VISIBLE_DEVICES'] = '2'"
   ]
  },
  {
   "cell_type": "code",
   "execution_count": 2,
   "metadata": {
    "ExecuteTime": {
     "end_time": "2020-04-19T15:25:03.197062Z",
     "start_time": "2020-04-19T15:25:03.192987Z"
    }
   },
   "outputs": [
    {
     "data": {
      "text/plain": [
       "'2.0.0'"
      ]
     },
     "execution_count": 2,
     "metadata": {},
     "output_type": "execute_result"
    }
   ],
   "source": [
    "tf.__version__"
   ]
  },
  {
   "cell_type": "markdown",
   "metadata": {},
   "source": [
    "## 1. SimpleRNN"
   ]
  },
  {
   "cell_type": "code",
   "execution_count": 3,
   "metadata": {
    "ExecuteTime": {
     "end_time": "2020-04-19T15:25:03.250923Z",
     "start_time": "2020-04-19T15:25:03.198310Z"
    }
   },
   "outputs": [
    {
     "data": {
      "text/plain": [
       "(100, 64)"
      ]
     },
     "execution_count": 3,
     "metadata": {},
     "output_type": "execute_result"
    }
   ],
   "source": [
    "# 简单 RNN 的 NumPy 实现\n",
    "timesteps = 100       # 输入序列的时间步\n",
    "input_features = 32   # 输入特征空间的维度\n",
    "output_features = 64  # 输出特征空间的维度\n",
    "\n",
    "inputs = np.random.random((timesteps, input_features))\n",
    "state_t = np.zeros((output_features,))  # 初始状态为 0\n",
    "\n",
    "# 随机初始化权重\n",
    "W = np.random.random((output_features, input_features))\n",
    "U = np.random.random((output_features, output_features))\n",
    "b = np.random.random((output_features,))\n",
    "\n",
    "successive_outputs = []\n",
    "# 遍历 timesteps\n",
    "for input_t in inputs:  # shape: (input_features, ) \n",
    "    output_t = np.tanh(np.dot(W, input_t) + np.dot(U, state_t) + b)  # 当前输出\n",
    "    successive_outputs.append(output_t)\n",
    "    state_t = output_t  # 更新 state，用于下一个 timestep\n",
    "\n",
    "final_output_sequence = np.stack(successive_outputs, axis=0)\n",
    "final_output_sequence.shape  # (timesteps, output_features)"
   ]
  },
  {
   "cell_type": "markdown",
   "metadata": {},
   "source": [
    "总之，RNN 是一个 for 循环，它重复使用循环前一次迭代的计算结果。\n",
    "\n",
    "RNN 的特征在于其时间步函数：`output_t = np.tanh(np.dot(W, input_t) + np.dot(U, state_t) + b)`。\n",
    "\n",
    "![simple RNN](figs/chap06-figs/simple_rnn.png)\n",
    "<center>一个简单的 RNN，随时间展开</center>"
   ]
  },
  {
   "cell_type": "markdown",
   "metadata": {},
   "source": [
    "<div class=\"alert alert-block alert-info\">\n",
    "    <b>最终输出是一个形状为 (timesteps, output_features) 的二维张量，其中每个时间步是循环在 t 时刻的输出。输出张量中的每个时间步 t 包含输入序列中时间步 0~t 的信息，即关于全部过去的信息。因此，在多数情况下，并不需要这个所有输出组成的序列，只需要最后一个输出 (循环结束时的 output_t)，因为它已经包含了整个序列的信息。</b>\n",
    "</div>"
   ]
  },
  {
   "cell_type": "markdown",
   "metadata": {},
   "source": [
    "上面的代码对应于 `tf.keras.layers.SimpleRNN`。\n",
    "\n",
    "**`SimpleRNN` 层能够像其他 Keras 层一样处理序列批量**，而不是像 NumPy 示例那样只能处理单个序列。因此，它**接收形状为 `(batch_size, timesteps, input_features)` 的输入**，而不是 `(timesteps, input_features)`。"
   ]
  },
  {
   "cell_type": "markdown",
   "metadata": {},
   "source": [
    "**<font color='crimson'>SimpleRNN 可以在 2 种不同的模式下运行：</font>**\n",
    "\n",
    "- <font color='crimson'>返回每个 timestep 连续输出的完整序列，即形状为 `(batch_size, timesteps, output_features)` 的三维张量</font>\n",
    "\n",
    "\n",
    "- <font color='crimson'>只返回每个输入序列的最终输出，即形状为 `(batch_size, output_features)` 的二维张量</font>\n",
    "\n",
    "<font color='crimson'>这 2 种模式由参数 `return_sequences` 控制。</font>"
   ]
  },
  {
   "cell_type": "code",
   "execution_count": 4,
   "metadata": {
    "ExecuteTime": {
     "end_time": "2020-04-19T15:25:05.001979Z",
     "start_time": "2020-04-19T15:25:03.252398Z"
    }
   },
   "outputs": [
    {
     "data": {
      "text/plain": [
       "TensorShape([32, 10, 4])"
      ]
     },
     "execution_count": 4,
     "metadata": {},
     "output_type": "execute_result"
    }
   ],
   "source": [
    "inputs = np.random.random([32, 10, 8]).astype(np.float32)\n",
    "# 返回每个 timestep 连续输出的完整序列\n",
    "simple_rnn = tf.keras.layers.SimpleRNN(4, return_sequences=True)\n",
    "\n",
    "output = simple_rnn(inputs)\n",
    "output.shape  # shape [32, 10, 4]"
   ]
  },
  {
   "cell_type": "code",
   "execution_count": 5,
   "metadata": {
    "ExecuteTime": {
     "end_time": "2020-04-19T15:25:05.026277Z",
     "start_time": "2020-04-19T15:25:05.004016Z"
    }
   },
   "outputs": [
    {
     "data": {
      "text/plain": [
       "TensorShape([32, 4])"
      ]
     },
     "execution_count": 5,
     "metadata": {},
     "output_type": "execute_result"
    }
   ],
   "source": [
    "inputs = np.random.random([32, 10, 8]).astype(np.float32)\n",
    "# Return the last output in the output sequence\n",
    "simple_rnn = tf.keras.layers.SimpleRNN(4)\n",
    "\n",
    "output = simple_rnn(inputs)\n",
    "output.shape  # shape [32, 4]"
   ]
  },
  {
   "cell_type": "code",
   "execution_count": 6,
   "metadata": {
    "ExecuteTime": {
     "end_time": "2020-04-19T15:25:05.118990Z",
     "start_time": "2020-04-19T15:25:05.027892Z"
    }
   },
   "outputs": [
    {
     "name": "stdout",
     "output_type": "stream",
     "text": [
      "Model: \"sequential\"\n",
      "_________________________________________________________________\n",
      "Layer (type)                 Output Shape              Param #   \n",
      "=================================================================\n",
      "embedding (Embedding)        (None, None, 32)          320000    \n",
      "_________________________________________________________________\n",
      "simple_rnn (SimpleRNN)       (None, 32)                2080      \n",
      "=================================================================\n",
      "Total params: 322,080\n",
      "Trainable params: 322,080\n",
      "Non-trainable params: 0\n",
      "_________________________________________________________________\n"
     ]
    }
   ],
   "source": [
    "# 只返回最后一个 timestep 的输出\n",
    "tf.keras.backend.clear_session()\n",
    "model = tf.keras.Sequential([\n",
    "    tf.keras.layers.Embedding(10000, 32),\n",
    "    # Fully-connected RNN where the output is to be fed back to input.\n",
    "    tf.keras.layers.SimpleRNN(32,  # dimensionality of the output space.\n",
    "                              # Activation function to use\n",
    "                              # Default `'tanh'`\n",
    "                              # Ff pass `None`, no activation is applied, a(x)=x\n",
    "                              activation='tanh'),\n",
    "])\n",
    "model.summary()"
   ]
  },
  {
   "cell_type": "code",
   "execution_count": 7,
   "metadata": {
    "ExecuteTime": {
     "end_time": "2020-04-19T15:25:05.198045Z",
     "start_time": "2020-04-19T15:25:05.121407Z"
    }
   },
   "outputs": [
    {
     "name": "stdout",
     "output_type": "stream",
     "text": [
      "Model: \"sequential\"\n",
      "_________________________________________________________________\n",
      "Layer (type)                 Output Shape              Param #   \n",
      "=================================================================\n",
      "embedding (Embedding)        (None, None, 32)          320000    \n",
      "_________________________________________________________________\n",
      "simple_rnn (SimpleRNN)       (None, None, 32)          2080      \n",
      "=================================================================\n",
      "Total params: 322,080\n",
      "Trainable params: 322,080\n",
      "Non-trainable params: 0\n",
      "_________________________________________________________________\n"
     ]
    }
   ],
   "source": [
    "# Return the last output in the output sequence\n",
    "tf.keras.backend.clear_session()\n",
    "model = tf.keras.Sequential([\n",
    "    tf.keras.layers.Embedding(10000, 32),\n",
    "    # Fully-connected RNN where the output is to be fed back to input.\n",
    "    tf.keras.layers.SimpleRNN(32, return_sequences=True),\n",
    "])\n",
    "model.summary()"
   ]
  },
  {
   "cell_type": "markdown",
   "metadata": {},
   "source": [
    "**<font color='crimson'>为了提高网络的表示能力，将多个 RNN 逐个堆叠有时也是很有用的。在这种情况下，需要让所有中间层都返回完整的输出序列。</font>**"
   ]
  },
  {
   "cell_type": "code",
   "execution_count": 8,
   "metadata": {
    "ExecuteTime": {
     "end_time": "2020-04-19T15:25:05.597445Z",
     "start_time": "2020-04-19T15:25:05.199737Z"
    }
   },
   "outputs": [
    {
     "name": "stdout",
     "output_type": "stream",
     "text": [
      "Model: \"sequential\"\n",
      "_________________________________________________________________\n",
      "Layer (type)                 Output Shape              Param #   \n",
      "=================================================================\n",
      "embedding (Embedding)        (None, None, 32)          320000    \n",
      "_________________________________________________________________\n",
      "simple_rnn (SimpleRNN)       (None, None, 32)          2080      \n",
      "_________________________________________________________________\n",
      "simple_rnn_1 (SimpleRNN)     (None, None, 32)          2080      \n",
      "_________________________________________________________________\n",
      "simple_rnn_2 (SimpleRNN)     (None, None, 32)          2080      \n",
      "_________________________________________________________________\n",
      "simple_rnn_3 (SimpleRNN)     (None, 32)                2080      \n",
      "=================================================================\n",
      "Total params: 328,320\n",
      "Trainable params: 328,320\n",
      "Non-trainable params: 0\n",
      "_________________________________________________________________\n"
     ]
    }
   ],
   "source": [
    "tf.keras.backend.clear_session()\n",
    "model = tf.keras.Sequential([\n",
    "    tf.keras.layers.Embedding(10000, 32),\n",
    "    tf.keras.layers.SimpleRNN(32, return_sequences=True),\n",
    "    tf.keras.layers.SimpleRNN(32, return_sequences=True),\n",
    "    tf.keras.layers.SimpleRNN(32, return_sequences=True),\n",
    "    # 最后一层仅返回最后一个 timestep 的输出\n",
    "    tf.keras.layers.SimpleRNN(32), \n",
    "])\n",
    "model.summary()"
   ]
  },
  {
   "cell_type": "markdown",
   "metadata": {},
   "source": [
    "> `2080 = 32*32 + 32*32 + 32`"
   ]
  },
  {
   "cell_type": "code",
   "execution_count": 9,
   "metadata": {
    "ExecuteTime": {
     "end_time": "2020-04-19T15:25:11.576683Z",
     "start_time": "2020-04-19T15:25:05.600166Z"
    },
    "scrolled": true
   },
   "outputs": [
    {
     "name": "stdout",
     "output_type": "stream",
     "text": [
      "Loading data ...\n",
      "25000 train sequences\n",
      "25000 test sequences\n",
      "\n",
      "Pad sequences ...\n",
      "x_train shape: (25000, 2494)\n",
      "x_test shape: (25000, 2315)\n"
     ]
    }
   ],
   "source": [
    "# Load and process the IMDB data\n",
    "max_features = 10000\n",
    "maxlen = 500\n",
    "batch_size = 32\n",
    "\n",
    "print('Loading data ...')\n",
    "(input_train, y_train), (input_test, y_test) = tf.keras.datasets.imdb.load_data(\n",
    "    num_words=max_features)\n",
    "print(len(input_train), 'train sequences')\n",
    "print(len(input_test), 'test sequences')\n",
    "\n",
    "print('\\nPad sequences ...')\n",
    "x_train = tf.keras.preprocessing.sequence.pad_sequences(input_train)\n",
    "x_test = tf.keras.preprocessing.sequence.pad_sequences(input_test)\n",
    "print('x_train shape:', x_train.shape)\n",
    "print('x_test shape:', x_test.shape)"
   ]
  },
  {
   "cell_type": "code",
   "execution_count": 10,
   "metadata": {
    "ExecuteTime": {
     "end_time": "2020-04-19T15:30:17.806463Z",
     "start_time": "2020-04-19T15:25:11.578582Z"
    }
   },
   "outputs": [
    {
     "name": "stdout",
     "output_type": "stream",
     "text": [
      "Train on 20000 samples, validate on 5000 samples\n",
      "20000/20000 [==============================] - 306s 15ms/sample - loss: 0.6272 - acc: 0.6018 - val_loss: 0.4842 - val_acc: 0.7808\n"
     ]
    }
   ],
   "source": [
    "# Train a RNN model on IMDB data\n",
    "tf.keras.backend.clear_session()\n",
    "\n",
    "model = tf.keras.Sequential()\n",
    "model.add(tf.keras.layers.Embedding(max_features, 32))\n",
    "model.add(tf.keras.layers.SimpleRNN(32))\n",
    "model.add(tf.keras.layers.Dense(1))\n",
    "\n",
    "model.compile(optimizer='rmsprop',\n",
    "              loss=tf.keras.losses.BinaryCrossentropy(from_logits=True),\n",
    "              metrics=['acc'])\n",
    "\n",
    "history = model.fit(x_train, y_train,\n",
    "                    epochs=1,\n",
    "                    batch_size=128,\n",
    "                    validation_split=0.2)"
   ]
  },
  {
   "cell_type": "markdown",
   "metadata": {},
   "source": [
    "**`tf.keras.layers.SimpleRNN` 好像不能用 GPU 加速！**\n",
    "\n",
    "如果跑完，<font color='crimson'>模型的精度并不高，问题的部分原因在于输入只考虑了前 500 个单词，而不是整个序列。另一部分原因在于，`SimpleRNN` 不擅长处理长序列，比如文本。</font>"
   ]
  },
  {
   "cell_type": "markdown",
   "metadata": {},
   "source": [
    "## 2. LSTM and GRU"
   ]
  },
  {
   "cell_type": "markdown",
   "metadata": {},
   "source": [
    "<font color='blue'>SimpleRNN 通常过于简化，没有实用价值。</font>\n",
    "\n",
    "<font color='crimson'>SimpleRNN 的最大问题是，在时刻 t，理论上来说，它应该能够记住许多时间步之前见过的信息，但实际上它是不可能学到这种长期依赖的。其原因在于梯度消失问题 (vanishing gradient problem)，这一效应类似于在层数较多的非循环网络 (即前馈网络) 中观察到的效应：随着层数的增加，网络最终变得无法训练。</font>\n",
    "\n",
    "<font color='blue'>LSTM (long short-term memory) 层和 GRU (Gated Recurrent Unit) 层都是为了解决梯度消失问题而设计的。</font>\n",
    "\n",
    "<font color='crimson'>LSTM 层是 SimpleRNN 层的一种变体，它增加了一种携带信息跨越多个时间步的方法。</font> 假设有一条传送带，其运行方向平行于你所处理的序列。序列中的信息可以在任意位置跳上传送带，然后被传送到更晚的时间步，并在需要时原封不动地跳回来。这实际上就是 **<font color='crimson'>LSTM 的原理：它保存信息以便后面使用，从而防止较早期的信号在处理过程中逐渐消失</font>**。\n",
    "\n",
    "<font color='blue'>LSTM 中“输入门”、“遗忘门”和“输出门”其实没有多大意义，因为这些运算的实际效果是由参数化权重决定的，而权重是以端到端的方式进行学习，每次训练都要从头开始，不可能为某个运算赋予特定的目的。RNN 单元的类型决定了你的假设空间，即在训练期间搜索良好模型配置的空间，但它不能决定 RNN 单元的作用，那是由单元权重来决定的。同一个单元具有不同的权重，可以实现完全不同的作用。因此，组成 RNN 单元的运算组合，最好被解释为对搜索的一组约束，而不是一种工程意义上的设计。</font>\n",
    "\n",
    "对于研究人员来说，这种约束的选择(即如何实现 RNN 单元)似乎最好是留给最优化算法来完成(比如遗传算法或强化学习过程)，而不是让人类工程师来完成。\n",
    "\n",
    "**<font color='crimson'>总之，你不需要理解关于 LSTM 单元具体架构的任何内容。作为人类，理解它不应该是你要做的。你只需要记住 LSTM 单元的作用：允许过去的信息稍后重新进入，从而解决梯度消失问题。</font>**"
   ]
  },
  {
   "cell_type": "code",
   "execution_count": 11,
   "metadata": {
    "ExecuteTime": {
     "end_time": "2020-04-19T15:34:58.219008Z",
     "start_time": "2020-04-19T15:30:17.810118Z"
    }
   },
   "outputs": [
    {
     "name": "stdout",
     "output_type": "stream",
     "text": [
      "Train on 20000 samples, validate on 5000 samples\n",
      "Epoch 1/10\n",
      "20000/20000 [==============================] - 32s 2ms/sample - loss: 0.5213 - acc: 0.7179 - val_loss: 0.3595 - val_acc: 0.8416\n",
      "Epoch 2/10\n",
      "20000/20000 [==============================] - 27s 1ms/sample - loss: 0.3195 - acc: 0.8696 - val_loss: 0.3017 - val_acc: 0.8706\n",
      "Epoch 3/10\n",
      "20000/20000 [==============================] - 27s 1ms/sample - loss: 0.2427 - acc: 0.9067 - val_loss: 0.3211 - val_acc: 0.8610\n",
      "Epoch 4/10\n",
      "20000/20000 [==============================] - 27s 1ms/sample - loss: 0.2089 - acc: 0.9212 - val_loss: 0.3260 - val_acc: 0.8408\n",
      "Epoch 5/10\n",
      "20000/20000 [==============================] - 28s 1ms/sample - loss: 0.1830 - acc: 0.9325 - val_loss: 0.2999 - val_acc: 0.8918\n",
      "Epoch 6/10\n",
      "20000/20000 [==============================] - 27s 1ms/sample - loss: 0.1624 - acc: 0.9412 - val_loss: 0.3171 - val_acc: 0.8834\n",
      "Epoch 7/10\n",
      "20000/20000 [==============================] - 28s 1ms/sample - loss: 0.1502 - acc: 0.9471 - val_loss: 0.3160 - val_acc: 0.8716\n",
      "Epoch 8/10\n",
      "20000/20000 [==============================] - 27s 1ms/sample - loss: 0.1343 - acc: 0.9512 - val_loss: 0.3226 - val_acc: 0.8810\n",
      "Epoch 9/10\n",
      "20000/20000 [==============================] - 28s 1ms/sample - loss: 0.1238 - acc: 0.9556 - val_loss: 0.6022 - val_acc: 0.8276\n",
      "Epoch 10/10\n",
      "20000/20000 [==============================] - 27s 1ms/sample - loss: 0.1164 - acc: 0.9589 - val_loss: 0.3338 - val_acc: 0.8736\n"
     ]
    }
   ],
   "source": [
    "# Train a LSTM model on IMDB data\n",
    "tf.keras.backend.clear_session()\n",
    "\n",
    "model = tf.keras.Sequential()\n",
    "model.add(tf.keras.layers.Embedding(max_features, 32))\n",
    "model.add(tf.keras.layers.LSTM(32))\n",
    "model.add(tf.keras.layers.Dense(1))\n",
    "\n",
    "model.compile(optimizer='rmsprop',\n",
    "              loss=tf.keras.losses.BinaryCrossentropy(from_logits=True),\n",
    "              metrics=['acc'])\n",
    "\n",
    "history = model.fit(x_train, y_train,\n",
    "                    epochs=10,\n",
    "                    batch_size=128,\n",
    "                    validation_split=0.2)"
   ]
  },
  {
   "cell_type": "code",
   "execution_count": 12,
   "metadata": {
    "ExecuteTime": {
     "end_time": "2020-04-19T15:34:58.232166Z",
     "start_time": "2020-04-19T15:34:58.222502Z"
    }
   },
   "outputs": [
    {
     "name": "stdout",
     "output_type": "stream",
     "text": [
      "Model: \"sequential\"\n",
      "_________________________________________________________________\n",
      "Layer (type)                 Output Shape              Param #   \n",
      "=================================================================\n",
      "embedding (Embedding)        (None, None, 32)          320000    \n",
      "_________________________________________________________________\n",
      "lstm (LSTM)                  (None, 32)                8320      \n",
      "_________________________________________________________________\n",
      "dense (Dense)                (None, 1)                 33        \n",
      "=================================================================\n",
      "Total params: 328,353\n",
      "Trainable params: 328,353\n",
      "Non-trainable params: 0\n",
      "_________________________________________________________________\n"
     ]
    }
   ],
   "source": [
    "model.summary()"
   ]
  },
  {
   "cell_type": "code",
   "execution_count": 13,
   "metadata": {
    "ExecuteTime": {
     "end_time": "2020-04-19T15:34:58.249062Z",
     "start_time": "2020-04-19T15:34:58.234717Z"
    }
   },
   "outputs": [],
   "source": [
    "def plot_history(history):\n",
    "    history_dict = history.history\n",
    "\n",
    "    loss_values = history_dict['loss']\n",
    "    val_loss_values = history_dict['val_loss']\n",
    "    acc = history_dict['acc']\n",
    "    val_acc = history_dict['val_acc']\n",
    "\n",
    "    epochs = [i + 1 for i in history.epoch]\n",
    "\n",
    "    # Plot the results\n",
    "    plt.figure(figsize=(14, 4.2))\n",
    "    plt.subplot(121)\n",
    "    plt.plot(epochs, loss_values, 'c+-', label='Training loss')\n",
    "    plt.plot(epochs, val_loss_values, 'm.-', label='Val loss')\n",
    "    plt.xlabel('Epochs', fontsize=12)\n",
    "    plt.xticks(epochs, rotation=90)\n",
    "    plt.ylabel('Loss', fontsize=12)\n",
    "    plt.legend(fontsize=18)\n",
    "    plt.title('Training and validation loss', fontsize=16)\n",
    "\n",
    "    plt.subplot(122)\n",
    "    plt.plot(epochs, acc, 'c+-', label='Training acc')\n",
    "    plt.plot(epochs, val_acc, 'm.-', label='Val acc')\n",
    "    plt.xlabel('Epochs', fontsize=12)\n",
    "    plt.xticks(epochs, rotation=90)\n",
    "    plt.ylabel('Acc', fontsize=12)\n",
    "    plt.legend(fontsize=18)\n",
    "    plt.title('Training and validation acc', fontsize=16)\n",
    "\n",
    "    plt.show()"
   ]
  },
  {
   "cell_type": "code",
   "execution_count": 14,
   "metadata": {
    "ExecuteTime": {
     "end_time": "2020-04-19T15:34:59.144637Z",
     "start_time": "2020-04-19T15:34:58.251294Z"
    }
   },
   "outputs": [
    {
     "data": {
      "image/png": "[encoded data removed]",
      "text/plain": [
       "<Figure size 1008x302.4 with 2 Axes>"
      ]
     },
     "metadata": {
      "needs_background": "light"
     },
     "output_type": "display_data"
    }
   ],
   "source": [
    "plot_history(history)"
   ]
  },
  {
   "cell_type": "markdown",
   "metadata": {},
   "source": [
    "比 `SimpleRNN` 效果要好，这主要因为 LSTM 受梯度消失问题的影响要小很多。但结果没有非常好，一个原因是没有耗费时间来调参，另一个原因可能是缺少正则化。但主要原因是，<font color='crimson'>分析评论的全局、长期性结构（LSTM 所擅长的），对情感分析问题帮助不大。对于这样的问题，观察每条评论中出现了哪些词及其出现频率就可以很好地解决。</font>这也正是第一个全连接方法的做法。但还有更加困难的 nlp 问题，特别是问答和机器翻译，这时 LSTM 的优势就明显了。"
   ]
  },
  {
   "cell_type": "markdown",
   "metadata": {},
   "source": [
    "But honestly, the primary reason is that analyzing the global, long-term structure of the reviews (what LSTM is good at) isn’t helpful for a sentiment-analysis problem. Such a basic problem is well solved by looking at what words occur in each review, and at what frequency. "
   ]
  }
 ],
 "metadata": {
  "kernelspec": {
   "display_name": "Python 3",
   "language": "python",
   "name": "python3"
  },
  "toc": {
   "base_numbering": 1,
   "nav_menu": {},
   "number_sections": true,
   "sideBar": true,
   "skip_h1_title": false,
   "title_cell": "Table of Contents",
   "title_sidebar": "Contents",
   "toc_cell": false,
   "toc_position": {},
   "toc_section_display": true,
   "toc_window_display": false
  },
  "varInspector": {
   "cols": {
    "lenName": 16,
    "lenType": 16,
    "lenVar": 40
   },
   "kernels_config": {
    "python": {
     "delete_cmd_postfix": "",
     "delete_cmd_prefix": "del ",
     "library": "var_list.py",
     "varRefreshCmd": "print(var_dic_list())"
    },
    "r": {
     "delete_cmd_postfix": ") ",
     "delete_cmd_prefix": "rm(",
     "library": "var_list.r",
     "varRefreshCmd": "cat(var_dic_list()) "
    }
   },
   "types_to_exclude": [
    "module",
    "function",
    "builtin_function_or_method",
    "instance",
    "_Feature"
   ],
   "window_display": false
  }
 },
 "nbformat": 4,
 "nbformat_minor": 4
}
