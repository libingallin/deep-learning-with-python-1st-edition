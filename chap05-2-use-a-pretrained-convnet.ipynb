{
 "cells": [
  {
   "cell_type": "markdown",
   "metadata": {},
   "source": [
    "# 使用预训练的 convnet"
   ]
  },
  {
   "cell_type": "code",
   "execution_count": 1,
   "metadata": {
    "ExecuteTime": {
     "end_time": "2020-04-15T15:35:49.654685Z",
     "start_time": "2020-04-15T15:35:47.360765Z"
    }
   },
   "outputs": [],
   "source": [
    "import os\n",
    "\n",
    "import matplotlib as mpl\n",
    "import matplotlib.pyplot as plt\n",
    "import numpy as np\n",
    "import tensorflow as tf\n",
    "from tensorflow import keras\n",
    "\n",
    "%matplotlib inline\n",
    "mpl.rc('axes', labelsize=14)\n",
    "mpl.rc('xtick', labelsize=12)\n",
    "mpl.rc('ytick', labelsize=12)\n",
    "\n",
    "np.random.seed(42)\n",
    "tf.random.set_seed(42)\n",
    "\n",
    "os.environ['CUDA_VISIBLE_DEVICES'] = '0'"
   ]
  },
  {
   "cell_type": "markdown",
   "metadata": {},
   "source": [
    "想要将 DL 应用于小型图像数据集，一种常用且非常高效的方法是使用预训练网络。\n",
    "\n",
    "**<font color='red'>预训练网络 (pretrained network)</font>** 是一个保存好的网络，之前已在大型数据集 (通常是大规模图像分类任务) 上训练好。如果这个原始数据集足够大且足够通用，那么**预训练网络学到的特征的空间层次结构可以有效地作为视觉世界的通用模型**，因此这些特征可用于各种不同的计算机视觉问题，即使这些新问题涉及的类别和原始任务完全不同。\n",
    "\n",
    "<font color='crimson'>预训练网络学到的特征在不同问题之间的可移植性，是 DL 与许多早期浅层学习方法相比的重要优势，它使得 DL 对小数据问题非常有效。</font>\n",
    "\n",
    "这里将使用 VGG16 架构，其于 2014 年开发。\n",
    "\n",
    "<br>\n",
    "\n",
    "**<font color='blue'>使用预训练网络有 2 种方法：</font>**\n",
    "\n",
    "- <font color='blue'>特征提取 (feature extraction)</font>\n",
    "\n",
    "\n",
    "- <font color='blue'>微调模型 (fine-tuning)</font>"
   ]
  },
  {
   "cell_type": "markdown",
   "metadata": {},
   "source": [
    "# 1. 特征提取 (feature extraction)"
   ]
  },
  {
   "cell_type": "markdown",
   "metadata": {},
   "source": [
    "**<font color='crimson'>特征提取是使用之前网络学到的表示来从新样本中提取出有趣的特征。然后将这些特征输入一个新的分类器，从头开始训练。</font>**\n",
    "\n",
    "<font color='blue'>用于图像分类的 convnet 包含 2 个部分：</font>\n",
    "\n",
    "- 一系列的卷积层和池化层，称为模型的**<font color='red'>卷积基 (convolutional base)</font>**\n",
    "\n",
    "\n",
    "- 密集连接分类器 (densely connected classifier)\n",
    "\n",
    "**<font color='crimson'>对于 convnet 而言，特征提取就是取出之前训练好的网络的卷积基，在上面运行新数据，然后在输出上面训练一个新的分类器。</font>**"
   ]
  },
  {
   "cell_type": "markdown",
   "metadata": {},
   "source": [
    "<div class=\"alert alert-block alert-info\">\n",
    "    <b><center>为什么仅重复使用卷积基，不重复使用密集连接分类器？</center></b><br>\n",
    "    <b>卷积基学到的表示可能更加通用</b>，因此更适合重复使用。<b>convnet 的特征图表示通用概念在图像中是否存在，无论面对什么样的计算机视觉问题，这种特征图都可能很有用</b>。<br><br>\n",
    "    但是，<b>分类器学到的表示必然是针对于模型训练的类别，其中仅包含某个类别出现在整张图像中的概率信息</b>。<br><br>\n",
    "    此外，<b>密集连接层的表示不再包含物体在输入图像中的位置信息。密集连接层舍弃了空间的概念，而物体位置信息仍然由卷积特征图所描述。如果物体位置对于问题很重要，那么密集连接层的特征在很大程度上是无用的。</b>\n",
    "</div>"
   ]
  },
  {
   "cell_type": "markdown",
   "metadata": {},
   "source": [
    "**<font color='crimson'>某个卷积层提取的表示的通用性 (以及可复用性) 取决于该层在模型中的深度。</font>**\n",
    "\n",
    "- **模型中更靠近底部的层提取的是局部的、高度通用的特征图** (比如视觉边缘、颜色和纹理)\n",
    "\n",
    "\n",
    "- 而**更靠近顶部的层提取的是更加抽象的概念** (比如“猫耳朵”或“狗眼睛”)。\n",
    "\n",
    "\n",
    "因此，<font color='crimson'>如果你的新数据集与原始模型训练的数据集有很大差异，那么最好只使用模型的前几层来做特征提取，而不是使用整个卷积基</font>。\n",
    "\n",
    "这里，使用在 ImageNet 上训练的 VGG16 网络的卷积基从猫狗数据集中提取有趣的特征，然后在这些特征上训练一个猫狗分类器。"
   ]
  },
  {
   "cell_type": "code",
   "execution_count": 2,
   "metadata": {
    "ExecuteTime": {
     "end_time": "2020-04-15T15:35:52.461491Z",
     "start_time": "2020-04-15T15:35:49.658101Z"
    }
   },
   "outputs": [],
   "source": [
    "# Instantiate the VGG16 convolutional base\n",
    "conv_base = tf.keras.applications.VGG16(\n",
    "    weights='imagenet',  # 指定模型初始化的权重检查点\n",
    "    # 指定模型最后是否包含密集连接分类器.\n",
    "    # 默认情况下，这个密集连接分类器对应于 ImageNet 的 1000 个类别\n",
    "    include_top=False,\n",
    "    # 输入到网络中的图像张量的形状.\n",
    "    # 可选参数. 如果为不传入，则网络可以处理任意 shape 的输入\n",
    "    input_shape=(150, 150, 3))"
   ]
  },
  {
   "cell_type": "code",
   "execution_count": 3,
   "metadata": {
    "ExecuteTime": {
     "end_time": "2020-04-15T15:35:52.482881Z",
     "start_time": "2020-04-15T15:35:52.465130Z"
    }
   },
   "outputs": [
    {
     "name": "stdout",
     "output_type": "stream",
     "text": [
      "Model: \"vgg16\"\n",
      "_________________________________________________________________\n",
      "Layer (type)                 Output Shape              Param #   \n",
      "=================================================================\n",
      "input_1 (InputLayer)         [(None, 150, 150, 3)]     0         \n",
      "_________________________________________________________________\n",
      "block1_conv1 (Conv2D)        (None, 150, 150, 64)      1792      \n",
      "_________________________________________________________________\n",
      "block1_conv2 (Conv2D)        (None, 150, 150, 64)      36928     \n",
      "_________________________________________________________________\n",
      "block1_pool (MaxPooling2D)   (None, 75, 75, 64)        0         \n",
      "_________________________________________________________________\n",
      "block2_conv1 (Conv2D)        (None, 75, 75, 128)       73856     \n",
      "_________________________________________________________________\n",
      "block2_conv2 (Conv2D)        (None, 75, 75, 128)       147584    \n",
      "_________________________________________________________________\n",
      "block2_pool (MaxPooling2D)   (None, 37, 37, 128)       0         \n",
      "_________________________________________________________________\n",
      "block3_conv1 (Conv2D)        (None, 37, 37, 256)       295168    \n",
      "_________________________________________________________________\n",
      "block3_conv2 (Conv2D)        (None, 37, 37, 256)       590080    \n",
      "_________________________________________________________________\n",
      "block3_conv3 (Conv2D)        (None, 37, 37, 256)       590080    \n",
      "_________________________________________________________________\n",
      "block3_pool (MaxPooling2D)   (None, 18, 18, 256)       0         \n",
      "_________________________________________________________________\n",
      "block4_conv1 (Conv2D)        (None, 18, 18, 512)       1180160   \n",
      "_________________________________________________________________\n",
      "block4_conv2 (Conv2D)        (None, 18, 18, 512)       2359808   \n",
      "_________________________________________________________________\n",
      "block4_conv3 (Conv2D)        (None, 18, 18, 512)       2359808   \n",
      "_________________________________________________________________\n",
      "block4_pool (MaxPooling2D)   (None, 9, 9, 512)         0         \n",
      "_________________________________________________________________\n",
      "block5_conv1 (Conv2D)        (None, 9, 9, 512)         2359808   \n",
      "_________________________________________________________________\n",
      "block5_conv2 (Conv2D)        (None, 9, 9, 512)         2359808   \n",
      "_________________________________________________________________\n",
      "block5_conv3 (Conv2D)        (None, 9, 9, 512)         2359808   \n",
      "_________________________________________________________________\n",
      "block5_pool (MaxPooling2D)   (None, 4, 4, 512)         0         \n",
      "=================================================================\n",
      "Total params: 14,714,688\n",
      "Trainable params: 14,714,688\n",
      "Non-trainable params: 0\n",
      "_________________________________________________________________\n"
     ]
    }
   ],
   "source": [
    "conv_base.summary()"
   ]
  },
  {
   "cell_type": "code",
   "execution_count": 4,
   "metadata": {
    "ExecuteTime": {
     "end_time": "2020-04-15T15:35:52.494979Z",
     "start_time": "2020-04-15T15:35:52.485570Z"
    }
   },
   "outputs": [
    {
     "data": {
      "text/plain": [
       "(<tf.Tensor 'block5_pool/Identity:0' shape=(None, 4, 4, 512) dtype=float32>,\n",
       " [<tf.Tensor 'block5_pool/Identity:0' shape=(None, 4, 4, 512) dtype=float32>])"
      ]
     },
     "execution_count": 4,
     "metadata": {},
     "output_type": "execute_result"
    }
   ],
   "source": [
    "conv_base.output, conv_base.outputs"
   ]
  },
  {
   "cell_type": "code",
   "execution_count": 5,
   "metadata": {
    "ExecuteTime": {
     "end_time": "2020-04-15T15:35:52.503066Z",
     "start_time": "2020-04-15T15:35:52.497378Z"
    }
   },
   "outputs": [
    {
     "data": {
      "text/plain": [
       "(['block5_pool'], (None, 4, 4, 512))"
      ]
     },
     "execution_count": 5,
     "metadata": {},
     "output_type": "execute_result"
    }
   ],
   "source": [
    "conv_base.output_names, conv_base.output_shape"
   ]
  },
  {
   "cell_type": "code",
   "execution_count": 6,
   "metadata": {
    "ExecuteTime": {
     "end_time": "2020-04-15T15:35:52.510903Z",
     "start_time": "2020-04-15T15:35:52.505349Z"
    }
   },
   "outputs": [
    {
     "data": {
      "text/plain": [
       "(<tf.Tensor 'input_1:0' shape=(None, 150, 150, 3) dtype=float32>,\n",
       " [<tf.Tensor 'input_1:0' shape=(None, 150, 150, 3) dtype=float32>],\n",
       " ['input_1'])"
      ]
     },
     "execution_count": 6,
     "metadata": {},
     "output_type": "execute_result"
    }
   ],
   "source": [
    "conv_base.input, conv_base.inputs, conv_base.input_names"
   ]
  },
  {
   "cell_type": "markdown",
   "metadata": {},
   "source": [
    "接下来有 2 张方法可以选择：\n",
    "\n",
    "- <font color='crimson'>1. 在数据集上运行卷积基 (`conv_base`)，将输出保存成硬盘中的 NumPy 数组，然后用这个数据作为输入，输入到独立的密集连接分类器中。</font>\n",
    "  \n",
    "  该方法**速度快，计算代价低**，因为**对于每个输入图像只需运行一次卷积基**，而卷积基是目前流程中计算代价最高的 (2017)。但出于同样的原因，<font color='crimson'>这种方法不允许使用数据增强</font>。\n",
    "\n",
    "\n",
    "-  <font color='crimson'>2. 在顶部添加 Dense 层来扩展已有模型 (即 `conv_base`)，并在输入数据上端到端地运行整个模型。</font>\n",
    "\n",
    "  <font color='crimson'>可以使用数据增强</font>，因为每个输入图像进入模型时都会经过卷积基。但出于同样的原因，这种方法的计算代价比第一种要高很多。"
   ]
  },
  {
   "cell_type": "markdown",
   "metadata": {
    "ExecuteTime": {
     "end_time": "2020-04-14T15:09:49.283783Z",
     "start_time": "2020-04-14T15:09:49.279984Z"
    }
   },
   "source": [
    "## 1.1 不使用数据增强的快速特征提取"
   ]
  },
  {
   "cell_type": "markdown",
   "metadata": {},
   "source": [
    "首先将图像及其标签提取为 NumPy 数组，然后调用 `conv_base` 模型的 `predict` 方法来提取特征。"
   ]
  },
  {
   "cell_type": "code",
   "execution_count": 7,
   "metadata": {
    "ExecuteTime": {
     "end_time": "2020-04-15T15:36:11.009444Z",
     "start_time": "2020-04-15T15:35:52.515069Z"
    },
    "code_folding": [],
    "scrolled": true
   },
   "outputs": [
    {
     "name": "stdout",
     "output_type": "stream",
     "text": [
      "Found 2000 images belonging to 2 classes.\n",
      "Found 1000 images belonging to 2 classes.\n",
      "Found 1000 images belonging to 2 classes.\n"
     ]
    }
   ],
   "source": [
    "# Extract features using the pretrained convolutional base\n",
    "base_dir = '/home/libing/datasets/dogs_vs_cats_small'\n",
    "train_dir = os.path.join(base_dir, 'train')\n",
    "val_dir = os.path.join(base_dir, 'validation')\n",
    "test_dir = os.path.join(base_dir, 'test')\n",
    "\n",
    "datagen = tf.keras.preprocessing.image.ImageDataGenerator(rescale=1./255)\n",
    "batch_size = 32\n",
    "\n",
    "\n",
    "def extract_features(dirctory, sample_count):\n",
    "    # conv_base.output_shape: (None, 4, 4, 512)\n",
    "    features = np.zeros(shape=(sample_count, 4, 4, 512))\n",
    "    labels = np.zeros(shape=(sample_count))\n",
    "    generator = datagen.flow_from_directory(\n",
    "        dirctory,\n",
    "        target_size=(150, 150),\n",
    "        batch_size=batch_size,\n",
    "        class_mode='binary')\n",
    "\n",
    "    i = 0\n",
    "    for inputs_batch, labels_batch in generator:\n",
    "        features_batch = conv_base.predict(inputs_batch)\n",
    "        features[i*batch_size:(i+1)*batch_size] = features_batch\n",
    "        labels[i*batch_size:(i+1)*batch_size] = labels_batch\n",
    "\n",
    "        # Python generator 在不断生成数据，所以必须在读取所有图像后停止\n",
    "        i += 1\n",
    "        if i*batch_size >= sample_count:\n",
    "            break\n",
    "    return features, labels\n",
    "\n",
    "\n",
    "train_features, train_labels = extract_features(train_dir, 2000)\n",
    "val_features, val_labels = extract_features(val_dir, 1000)\n",
    "test_features, test_labels = extract_features(test_dir, 1000)"
   ]
  },
  {
   "cell_type": "code",
   "execution_count": 8,
   "metadata": {
    "ExecuteTime": {
     "end_time": "2020-04-15T15:36:11.024561Z",
     "start_time": "2020-04-15T15:36:11.016025Z"
    }
   },
   "outputs": [
    {
     "data": {
      "text/plain": [
       "((2000, 4, 4, 512), (2000,))"
      ]
     },
     "execution_count": 8,
     "metadata": {},
     "output_type": "execute_result"
    }
   ],
   "source": [
    "train_features.shape, train_labels.shape"
   ]
  },
  {
   "cell_type": "raw",
   "metadata": {},
   "source": [
    "train_features = np.reshape(train_features, (2000, 4 * 4 * 512))\n",
    "validation_features = np.reshape(validation_features, (1000, 4 * 4 * 512))\n",
    "test_features = np.reshape(test_features, (1000, 4 * 4 * 512))"
   ]
  },
  {
   "cell_type": "code",
   "execution_count": 9,
   "metadata": {
    "ExecuteTime": {
     "end_time": "2020-04-15T15:36:34.908521Z",
     "start_time": "2020-04-15T15:36:11.027256Z"
    },
    "collapsed": true
   },
   "outputs": [
    {
     "name": "stdout",
     "output_type": "stream",
     "text": [
      "Train on 2000 samples, validate on 1000 samples\n",
      "Epoch 1/30\n",
      "2000/2000 [==============================] - 2s 1ms/sample - loss: 0.6126 - acc: 0.6680 - val_loss: 0.4457 - val_acc: 0.8350\n",
      "Epoch 2/30\n",
      "2000/2000 [==============================] - 1s 380us/sample - loss: 0.4155 - acc: 0.8135 - val_loss: 0.3558 - val_acc: 0.8700\n",
      "Epoch 3/30\n",
      "2000/2000 [==============================] - 1s 430us/sample - loss: 0.3559 - acc: 0.8480 - val_loss: 0.3203 - val_acc: 0.8850\n",
      "Epoch 4/30\n",
      "2000/2000 [==============================] - 1s 372us/sample - loss: 0.3041 - acc: 0.8740 - val_loss: 0.2957 - val_acc: 0.8850\n",
      "Epoch 5/30\n",
      "2000/2000 [==============================] - 1s 359us/sample - loss: 0.2814 - acc: 0.8910 - val_loss: 0.2822 - val_acc: 0.8870\n",
      "Epoch 6/30\n",
      "2000/2000 [==============================] - 1s 342us/sample - loss: 0.2666 - acc: 0.8895 - val_loss: 0.2739 - val_acc: 0.8900\n",
      "Epoch 7/30\n",
      "2000/2000 [==============================] - 1s 335us/sample - loss: 0.2427 - acc: 0.9005 - val_loss: 0.2678 - val_acc: 0.8900\n",
      "Epoch 8/30\n",
      "2000/2000 [==============================] - 1s 342us/sample - loss: 0.2293 - acc: 0.9045 - val_loss: 0.2639 - val_acc: 0.8870\n",
      "Epoch 9/30\n",
      "2000/2000 [==============================] - 1s 330us/sample - loss: 0.2163 - acc: 0.9160 - val_loss: 0.2563 - val_acc: 0.9020\n",
      "Epoch 10/30\n",
      "2000/2000 [==============================] - 1s 357us/sample - loss: 0.2117 - acc: 0.9225 - val_loss: 0.2549 - val_acc: 0.8970\n",
      "Epoch 11/30\n",
      "2000/2000 [==============================] - 1s 340us/sample - loss: 0.2018 - acc: 0.9240 - val_loss: 0.2464 - val_acc: 0.9030\n",
      "Epoch 12/30\n",
      "2000/2000 [==============================] - 1s 347us/sample - loss: 0.1872 - acc: 0.9305 - val_loss: 0.2626 - val_acc: 0.8890\n",
      "Epoch 13/30\n",
      "2000/2000 [==============================] - 1s 362us/sample - loss: 0.1759 - acc: 0.9365 - val_loss: 0.2455 - val_acc: 0.9020\n",
      "Epoch 14/30\n",
      "2000/2000 [==============================] - 1s 371us/sample - loss: 0.1723 - acc: 0.9405 - val_loss: 0.2426 - val_acc: 0.9060\n",
      "Epoch 15/30\n",
      "2000/2000 [==============================] - 1s 397us/sample - loss: 0.1604 - acc: 0.9420 - val_loss: 0.2387 - val_acc: 0.9070\n",
      "Epoch 16/30\n",
      "2000/2000 [==============================] - 1s 369us/sample - loss: 0.1511 - acc: 0.9480 - val_loss: 0.2451 - val_acc: 0.8990\n",
      "Epoch 17/30\n",
      "2000/2000 [==============================] - 1s 357us/sample - loss: 0.1472 - acc: 0.9505 - val_loss: 0.2412 - val_acc: 0.9040\n",
      "Epoch 18/30\n",
      "2000/2000 [==============================] - 1s 359us/sample - loss: 0.1407 - acc: 0.9520 - val_loss: 0.2377 - val_acc: 0.9090\n",
      "Epoch 19/30\n",
      "2000/2000 [==============================] - 1s 355us/sample - loss: 0.1373 - acc: 0.9535 - val_loss: 0.2369 - val_acc: 0.9080\n",
      "Epoch 20/30\n",
      "2000/2000 [==============================] - 1s 354us/sample - loss: 0.1307 - acc: 0.9575 - val_loss: 0.2365 - val_acc: 0.9080\n",
      "Epoch 21/30\n",
      "2000/2000 [==============================] - 1s 397us/sample - loss: 0.1265 - acc: 0.9580 - val_loss: 0.2399 - val_acc: 0.9090\n",
      "Epoch 22/30\n",
      "2000/2000 [==============================] - 1s 374us/sample - loss: 0.1203 - acc: 0.9590 - val_loss: 0.2381 - val_acc: 0.9070\n",
      "Epoch 23/30\n",
      "2000/2000 [==============================] - 1s 363us/sample - loss: 0.1152 - acc: 0.9605 - val_loss: 0.2460 - val_acc: 0.8970\n",
      "Epoch 24/30\n",
      "2000/2000 [==============================] - 1s 353us/sample - loss: 0.1157 - acc: 0.9630 - val_loss: 0.2423 - val_acc: 0.9030\n",
      "Epoch 25/30\n",
      "2000/2000 [==============================] - 1s 363us/sample - loss: 0.1069 - acc: 0.9650 - val_loss: 0.2401 - val_acc: 0.9060\n",
      "Epoch 26/30\n",
      "2000/2000 [==============================] - 1s 345us/sample - loss: 0.1016 - acc: 0.9685 - val_loss: 0.2385 - val_acc: 0.9050\n",
      "Epoch 27/30\n",
      "2000/2000 [==============================] - 1s 342us/sample - loss: 0.0983 - acc: 0.9710 - val_loss: 0.2491 - val_acc: 0.8970\n",
      "Epoch 28/30\n",
      "2000/2000 [==============================] - 1s 376us/sample - loss: 0.0945 - acc: 0.9715 - val_loss: 0.2557 - val_acc: 0.8960\n",
      "Epoch 29/30\n",
      "2000/2000 [==============================] - 1s 368us/sample - loss: 0.0924 - acc: 0.9730 - val_loss: 0.2395 - val_acc: 0.9040\n",
      "Epoch 30/30\n",
      "2000/2000 [==============================] - 1s 334us/sample - loss: 0.0864 - acc: 0.9765 - val_loss: 0.2516 - val_acc: 0.8980\n"
     ]
    }
   ],
   "source": [
    "model = tf.keras.Sequential([\n",
    "    # 提取的特征 shape 为 (samples, 4, 4, 512)，需要 flatten 为 (samples, 4*4*512)\n",
    "    tf.keras.layers.Flatten(input_shape=(4, 4, 512)),\n",
    "    tf.keras.layers.Dense(256, activation='relu'),\n",
    "    tf.keras.layers.Dropout(0.5),\n",
    "    tf.keras.layers.Dense(1, activation='sigmoid'),\n",
    "])\n",
    "model.compile(optimizer=tf.keras.optimizers.RMSprop(lr=2e-5),\n",
    "              loss='binary_crossentropy',\n",
    "              metrics=['acc'])\n",
    "history = model.fit(train_features, train_labels,\n",
    "                    epochs=30,\n",
    "                    batch_size=20,\n",
    "                    validation_data=(val_features, val_labels))"
   ]
  },
  {
   "cell_type": "code",
   "execution_count": 10,
   "metadata": {
    "ExecuteTime": {
     "end_time": "2020-04-15T15:36:34.932511Z",
     "start_time": "2020-04-15T15:36:34.912409Z"
    },
    "code_folding": [
     0
    ]
   },
   "outputs": [],
   "source": [
    "def plot_history(history):\n",
    "    history_dict = history.history\n",
    "\n",
    "    loss_values = history_dict['loss']\n",
    "    val_loss_values = history_dict['val_loss']\n",
    "    acc = history_dict['acc']\n",
    "    val_acc = history_dict['val_acc']\n",
    "\n",
    "    epochs = [i + 1 for i in history.epoch]\n",
    "\n",
    "    # Plot the results\n",
    "    plt.figure(figsize=(14, 4.2))\n",
    "    plt.subplot(121)\n",
    "    plt.plot(epochs, loss_values, 'c+-', label='Training loss')\n",
    "    plt.plot(epochs, val_loss_values, 'm.-', label='Val loss')\n",
    "    plt.xlabel('Epochs', fontsize=12)\n",
    "    plt.xticks(epochs, rotation=90)\n",
    "    plt.ylabel('Loss', fontsize=12)\n",
    "    plt.legend(fontsize=18)\n",
    "    plt.title('Training and validation loss', fontsize=16)\n",
    "\n",
    "    plt.subplot(122)\n",
    "    plt.plot(epochs, acc, 'c+-', label='Training acc')\n",
    "    plt.plot(epochs, val_acc, 'm.-', label='Val acc')\n",
    "    plt.xlabel('Epochs', fontsize=12)\n",
    "    plt.xticks(epochs, rotation=90)\n",
    "    plt.ylabel('Acc', fontsize=12)\n",
    "    plt.legend(fontsize=18)\n",
    "    plt.title('Training and validation acc', fontsize=16)\n",
    "\n",
    "    plt.show()"
   ]
  },
  {
   "cell_type": "code",
   "execution_count": 11,
   "metadata": {
    "ExecuteTime": {
     "end_time": "2020-04-15T15:36:35.588017Z",
     "start_time": "2020-04-15T15:36:34.935013Z"
    }
   },
   "outputs": [
    {
     "data": {
      "image/png": "[encoded data removed]",
      "text/plain": [
       "<Figure size 1008x302.4 with 2 Axes>"
      ]
     },
     "metadata": {
      "needs_background": "light"
     },
     "output_type": "display_data"
    }
   ],
   "source": [
    "plot_history(history)"
   ]
  },
  {
   "cell_type": "markdown",
   "metadata": {},
   "source": [
    "在验证集上的精度达到了 ~90%，比从头开始训练的小型模型好得多。\n",
    "\n",
    "这里的模型仍然过拟合了。这是因为本方法没有使用数据增强，而数据增强对防止小型图像数据集的过拟合非常重要。"
   ]
  },
  {
   "cell_type": "markdown",
   "metadata": {},
   "source": [
    "## 1.2 使用数据增强的特征提取"
   ]
  },
  {
   "cell_type": "markdown",
   "metadata": {},
   "source": [
    "<font color='crimson'>在顶部添加 Dense 层来扩展已有模型 (即 `conv_base`)，并在输入数据上端到端地运行整个模型。</font>\n",
    "\n",
    "这种方法速度更慢，计算代价更高，但在训练期间可以使用数据增强。这种方法就是：扩展 `conv_base` 模型，然后在输入数据上端到端地运行模型。"
   ]
  },
  {
   "cell_type": "code",
   "execution_count": 12,
   "metadata": {
    "ExecuteTime": {
     "end_time": "2020-04-15T15:36:35.789881Z",
     "start_time": "2020-04-15T15:36:35.590259Z"
    }
   },
   "outputs": [
    {
     "name": "stdout",
     "output_type": "stream",
     "text": [
      "Model: \"model\"\n",
      "_________________________________________________________________\n",
      "Layer (type)                 Output Shape              Param #   \n",
      "=================================================================\n",
      "input_1 (InputLayer)         [(None, 150, 150, 3)]     0         \n",
      "_________________________________________________________________\n",
      "block1_conv1 (Conv2D)        (None, 150, 150, 64)      1792      \n",
      "_________________________________________________________________\n",
      "block1_conv2 (Conv2D)        (None, 150, 150, 64)      36928     \n",
      "_________________________________________________________________\n",
      "block1_pool (MaxPooling2D)   (None, 75, 75, 64)        0         \n",
      "_________________________________________________________________\n",
      "block2_conv1 (Conv2D)        (None, 75, 75, 128)       73856     \n",
      "_________________________________________________________________\n",
      "block2_conv2 (Conv2D)        (None, 75, 75, 128)       147584    \n",
      "_________________________________________________________________\n",
      "block2_pool (MaxPooling2D)   (None, 37, 37, 128)       0         \n",
      "_________________________________________________________________\n",
      "block3_conv1 (Conv2D)        (None, 37, 37, 256)       295168    \n",
      "_________________________________________________________________\n",
      "block3_conv2 (Conv2D)        (None, 37, 37, 256)       590080    \n",
      "_________________________________________________________________\n",
      "block3_conv3 (Conv2D)        (None, 37, 37, 256)       590080    \n",
      "_________________________________________________________________\n",
      "block3_pool (MaxPooling2D)   (None, 18, 18, 256)       0         \n",
      "_________________________________________________________________\n",
      "block4_conv1 (Conv2D)        (None, 18, 18, 512)       1180160   \n",
      "_________________________________________________________________\n",
      "block4_conv2 (Conv2D)        (None, 18, 18, 512)       2359808   \n",
      "_________________________________________________________________\n",
      "block4_conv3 (Conv2D)        (None, 18, 18, 512)       2359808   \n",
      "_________________________________________________________________\n",
      "block4_pool (MaxPooling2D)   (None, 9, 9, 512)         0         \n",
      "_________________________________________________________________\n",
      "block5_conv1 (Conv2D)        (None, 9, 9, 512)         2359808   \n",
      "_________________________________________________________________\n",
      "block5_conv2 (Conv2D)        (None, 9, 9, 512)         2359808   \n",
      "_________________________________________________________________\n",
      "block5_conv3 (Conv2D)        (None, 9, 9, 512)         2359808   \n",
      "_________________________________________________________________\n",
      "block5_pool (MaxPooling2D)   (None, 4, 4, 512)         0         \n",
      "_________________________________________________________________\n",
      "flatten (Flatten)            (None, 8192)              0         \n",
      "_________________________________________________________________\n",
      "dense (Dense)                (None, 256)               2097408   \n",
      "_________________________________________________________________\n",
      "dense_1 (Dense)              (None, 1)                 257       \n",
      "=================================================================\n",
      "Total params: 16,812,353\n",
      "Trainable params: 16,812,353\n",
      "Non-trainable params: 0\n",
      "_________________________________________________________________\n"
     ]
    }
   ],
   "source": [
    "# Way 1\n",
    "tf.keras.backend.clear_session()\n",
    "\n",
    "x = conv_base.output\n",
    "x = tf.keras.layers.Flatten()(x)\n",
    "# 添加一个 Dense\n",
    "x = tf.keras.layers.Dense(256, activation='relu')(x)\n",
    "# 添加一个分类器\n",
    "preds = tf.keras.layers.Dense(1, activation='sigmoid')(x)\n",
    "# 完整模型\n",
    "model = tf.keras.Model(inputs=conv_base.input, outputs=preds)\n",
    "model.summary()"
   ]
  },
  {
   "cell_type": "code",
   "execution_count": 13,
   "metadata": {
    "ExecuteTime": {
     "end_time": "2020-04-15T15:36:35.795175Z",
     "start_time": "2020-04-15T15:36:35.791488Z"
    }
   },
   "outputs": [
    {
     "data": {
      "text/plain": [
       "22"
      ]
     },
     "execution_count": 13,
     "metadata": {},
     "output_type": "execute_result"
    }
   ],
   "source": [
    "len(model.layers)"
   ]
  },
  {
   "cell_type": "code",
   "execution_count": 14,
   "metadata": {
    "ExecuteTime": {
     "end_time": "2020-04-15T15:36:35.931976Z",
     "start_time": "2020-04-15T15:36:35.796629Z"
    }
   },
   "outputs": [
    {
     "name": "stdout",
     "output_type": "stream",
     "text": [
      "Model: \"sequential\"\n",
      "_________________________________________________________________\n",
      "Layer (type)                 Output Shape              Param #   \n",
      "=================================================================\n",
      "vgg16 (Model)                (None, 4, 4, 512)         14714688  \n",
      "_________________________________________________________________\n",
      "flatten (Flatten)            (None, 8192)              0         \n",
      "_________________________________________________________________\n",
      "dense (Dense)                (None, 256)               2097408   \n",
      "_________________________________________________________________\n",
      "dense_1 (Dense)              (None, 1)                 257       \n",
      "=================================================================\n",
      "Total params: 16,812,353\n",
      "Trainable params: 16,812,353\n",
      "Non-trainable params: 0\n",
      "_________________________________________________________________\n"
     ]
    }
   ],
   "source": [
    "# Way 2\n",
    "tf.keras.backend.clear_session()\n",
    "\n",
    "model = tf.keras.Sequential()\n",
    "model.add(conv_base)\n",
    "model.add(tf.keras.layers.Flatten())\n",
    "model.add(tf.keras.layers.Dense(256, activation='relu'))\n",
    "model.add(tf.keras.layers.Dense(1, activation='sigmoid'))\n",
    "\n",
    "model.summary()"
   ]
  },
  {
   "cell_type": "code",
   "execution_count": 15,
   "metadata": {
    "ExecuteTime": {
     "end_time": "2020-04-15T15:36:35.936997Z",
     "start_time": "2020-04-15T15:36:35.933450Z"
    }
   },
   "outputs": [
    {
     "data": {
      "text/plain": [
       "4"
      ]
     },
     "execution_count": 15,
     "metadata": {},
     "output_type": "execute_result"
    }
   ],
   "source": [
    "len(model.layers)"
   ]
  },
  {
   "cell_type": "markdown",
   "metadata": {},
   "source": [
    "**<font color='crimson'>在编译和训练模型之前，一定要“冻结”卷积基。冻结 (freeze) 一个或多个层是指在训练过程中保持其权重不变。如果不这么做，那么卷积基之前学到的表示将会在训练过程中被修改。因为其上添加的 Dense 层是随机初始化的，所以非常大的权重更新将会在网络中传播，对之前学到的表示造成很大破坏。</font>**\n",
    "\n",
    "**冻结网络的方法是将其 `trainable` 属性设为 `False`。**"
   ]
  },
  {
   "cell_type": "code",
   "execution_count": 16,
   "metadata": {
    "ExecuteTime": {
     "end_time": "2020-04-15T15:36:35.943844Z",
     "start_time": "2020-04-15T15:36:35.938785Z"
    }
   },
   "outputs": [
    {
     "data": {
      "text/plain": [
       "30"
      ]
     },
     "execution_count": 16,
     "metadata": {},
     "output_type": "execute_result"
    }
   ],
   "source": [
    "# trainable weights before freezing the conv base\n",
    "len(model.trainable_weights)"
   ]
  },
  {
   "cell_type": "code",
   "execution_count": 17,
   "metadata": {
    "ExecuteTime": {
     "end_time": "2020-04-15T15:36:35.949918Z",
     "start_time": "2020-04-15T15:36:35.945418Z"
    }
   },
   "outputs": [],
   "source": [
    "# Freeze the conv base\n",
    "conv_base.trainable = False"
   ]
  },
  {
   "cell_type": "code",
   "execution_count": 18,
   "metadata": {
    "ExecuteTime": {
     "end_time": "2020-04-15T15:36:35.957336Z",
     "start_time": "2020-04-15T15:36:35.951503Z"
    },
    "scrolled": true
   },
   "outputs": [
    {
     "data": {
      "text/plain": [
       "4"
      ]
     },
     "execution_count": 18,
     "metadata": {},
     "output_type": "execute_result"
    }
   ],
   "source": [
    "# trainable weights after freezing the conv base\n",
    "len(model.trainable_weights)"
   ]
  },
  {
   "cell_type": "code",
   "execution_count": 19,
   "metadata": {
    "ExecuteTime": {
     "end_time": "2020-04-15T15:36:35.970563Z",
     "start_time": "2020-04-15T15:36:35.958927Z"
    }
   },
   "outputs": [
    {
     "name": "stdout",
     "output_type": "stream",
     "text": [
      "Model: \"vgg16\"\n",
      "_________________________________________________________________\n",
      "Layer (type)                 Output Shape              Param #   \n",
      "=================================================================\n",
      "input_1 (InputLayer)         [(None, 150, 150, 3)]     0         \n",
      "_________________________________________________________________\n",
      "block1_conv1 (Conv2D)        (None, 150, 150, 64)      1792      \n",
      "_________________________________________________________________\n",
      "block1_conv2 (Conv2D)        (None, 150, 150, 64)      36928     \n",
      "_________________________________________________________________\n",
      "block1_pool (MaxPooling2D)   (None, 75, 75, 64)        0         \n",
      "_________________________________________________________________\n",
      "block2_conv1 (Conv2D)        (None, 75, 75, 128)       73856     \n",
      "_________________________________________________________________\n",
      "block2_conv2 (Conv2D)        (None, 75, 75, 128)       147584    \n",
      "_________________________________________________________________\n",
      "block2_pool (MaxPooling2D)   (None, 37, 37, 128)       0         \n",
      "_________________________________________________________________\n",
      "block3_conv1 (Conv2D)        (None, 37, 37, 256)       295168    \n",
      "_________________________________________________________________\n",
      "block3_conv2 (Conv2D)        (None, 37, 37, 256)       590080    \n",
      "_________________________________________________________________\n",
      "block3_conv3 (Conv2D)        (None, 37, 37, 256)       590080    \n",
      "_________________________________________________________________\n",
      "block3_pool (MaxPooling2D)   (None, 18, 18, 256)       0         \n",
      "_________________________________________________________________\n",
      "block4_conv1 (Conv2D)        (None, 18, 18, 512)       1180160   \n",
      "_________________________________________________________________\n",
      "block4_conv2 (Conv2D)        (None, 18, 18, 512)       2359808   \n",
      "_________________________________________________________________\n",
      "block4_conv3 (Conv2D)        (None, 18, 18, 512)       2359808   \n",
      "_________________________________________________________________\n",
      "block4_pool (MaxPooling2D)   (None, 9, 9, 512)         0         \n",
      "_________________________________________________________________\n",
      "block5_conv1 (Conv2D)        (None, 9, 9, 512)         2359808   \n",
      "_________________________________________________________________\n",
      "block5_conv2 (Conv2D)        (None, 9, 9, 512)         2359808   \n",
      "_________________________________________________________________\n",
      "block5_conv3 (Conv2D)        (None, 9, 9, 512)         2359808   \n",
      "_________________________________________________________________\n",
      "block5_pool (MaxPooling2D)   (None, 4, 4, 512)         0         \n",
      "=================================================================\n",
      "Total params: 14,714,688\n",
      "Trainable params: 0\n",
      "Non-trainable params: 14,714,688\n",
      "_________________________________________________________________\n"
     ]
    }
   ],
   "source": [
    "conv_base.summary()"
   ]
  },
  {
   "cell_type": "code",
   "execution_count": 20,
   "metadata": {
    "ExecuteTime": {
     "end_time": "2020-04-15T15:36:35.978715Z",
     "start_time": "2020-04-15T15:36:35.971998Z"
    }
   },
   "outputs": [
    {
     "name": "stdout",
     "output_type": "stream",
     "text": [
      "Model: \"sequential\"\n",
      "_________________________________________________________________\n",
      "Layer (type)                 Output Shape              Param #   \n",
      "=================================================================\n",
      "vgg16 (Model)                (None, 4, 4, 512)         14714688  \n",
      "_________________________________________________________________\n",
      "flatten (Flatten)            (None, 8192)              0         \n",
      "_________________________________________________________________\n",
      "dense (Dense)                (None, 256)               2097408   \n",
      "_________________________________________________________________\n",
      "dense_1 (Dense)              (None, 1)                 257       \n",
      "=================================================================\n",
      "Total params: 16,812,353\n",
      "Trainable params: 2,097,665\n",
      "Non-trainable params: 14,714,688\n",
      "_________________________________________________________________\n"
     ]
    }
   ],
   "source": [
    "model.summary()"
   ]
  },
  {
   "cell_type": "markdown",
   "metadata": {},
   "source": [
    "此时，只有添加的 2 个 `Dense` 层的权重 (总共有 4 个权重张量，每层 2 个 (主权重矩阵和偏置向量)) 才会被训练。\n",
    "\n",
    "**<font color='crimson'>为了让这些修改生效，必须先编译模型。如果在编译之后修改了权重的 trainable 属性，那么应该重新编译模型，否则这些修改将被忽略。</font>**"
   ]
  },
  {
   "cell_type": "code",
   "execution_count": 21,
   "metadata": {
    "ExecuteTime": {
     "end_time": "2020-04-15T15:48:20.937769Z",
     "start_time": "2020-04-15T15:36:35.980195Z"
    },
    "scrolled": true
   },
   "outputs": [
    {
     "name": "stdout",
     "output_type": "stream",
     "text": [
      "Found 2000 images belonging to 2 classes.\n",
      "Found 1000 images belonging to 2 classes.\n",
      "Epoch 1/30\n",
      "100/100 - 25s - loss: 0.6054 - acc: 0.6725 - val_loss: 0.4580 - val_acc: 0.8190\n",
      "Epoch 2/30\n",
      "100/100 - 24s - loss: 0.4757 - acc: 0.7905 - val_loss: 0.3819 - val_acc: 0.8550\n",
      "Epoch 3/30\n",
      "100/100 - 23s - loss: 0.4236 - acc: 0.8130 - val_loss: 0.3310 - val_acc: 0.8750\n",
      "Epoch 4/30\n",
      "100/100 - 23s - loss: 0.3990 - acc: 0.8230 - val_loss: 0.3298 - val_acc: 0.8450\n",
      "Epoch 5/30\n",
      "100/100 - 24s - loss: 0.3800 - acc: 0.8410 - val_loss: 0.2935 - val_acc: 0.8880\n",
      "Epoch 6/30\n",
      "100/100 - 24s - loss: 0.3676 - acc: 0.8325 - val_loss: 0.2883 - val_acc: 0.8840\n",
      "Epoch 7/30\n",
      "100/100 - 21s - loss: 0.3604 - acc: 0.8425 - val_loss: 0.2758 - val_acc: 0.8910\n",
      "Epoch 8/30\n",
      "100/100 - 24s - loss: 0.3446 - acc: 0.8465 - val_loss: 0.2722 - val_acc: 0.8820\n",
      "Epoch 9/30\n",
      "100/100 - 24s - loss: 0.3390 - acc: 0.8495 - val_loss: 0.2677 - val_acc: 0.8860\n",
      "Epoch 10/30\n",
      "100/100 - 24s - loss: 0.3479 - acc: 0.8505 - val_loss: 0.2899 - val_acc: 0.8670\n",
      "Epoch 11/30\n",
      "100/100 - 23s - loss: 0.3285 - acc: 0.8615 - val_loss: 0.2587 - val_acc: 0.8950\n",
      "Epoch 12/30\n",
      "100/100 - 25s - loss: 0.3243 - acc: 0.8555 - val_loss: 0.2689 - val_acc: 0.8880\n",
      "Epoch 13/30\n",
      "100/100 - 24s - loss: 0.3279 - acc: 0.8540 - val_loss: 0.2562 - val_acc: 0.8900\n",
      "Epoch 14/30\n",
      "100/100 - 24s - loss: 0.3147 - acc: 0.8600 - val_loss: 0.2647 - val_acc: 0.8910\n",
      "Epoch 15/30\n",
      "100/100 - 24s - loss: 0.3109 - acc: 0.8640 - val_loss: 0.2546 - val_acc: 0.8960\n",
      "Epoch 16/30\n",
      "100/100 - 23s - loss: 0.3087 - acc: 0.8645 - val_loss: 0.2566 - val_acc: 0.8920\n",
      "Epoch 17/30\n",
      "100/100 - 25s - loss: 0.3062 - acc: 0.8705 - val_loss: 0.2608 - val_acc: 0.8910\n",
      "Epoch 18/30\n",
      "100/100 - 25s - loss: 0.3088 - acc: 0.8650 - val_loss: 0.2483 - val_acc: 0.8970\n",
      "Epoch 19/30\n",
      "100/100 - 23s - loss: 0.3057 - acc: 0.8690 - val_loss: 0.2589 - val_acc: 0.8920\n",
      "Epoch 20/30\n",
      "100/100 - 21s - loss: 0.3066 - acc: 0.8765 - val_loss: 0.2451 - val_acc: 0.9030\n",
      "Epoch 21/30\n",
      "100/100 - 23s - loss: 0.3010 - acc: 0.8745 - val_loss: 0.2435 - val_acc: 0.8940\n",
      "Epoch 22/30\n",
      "100/100 - 23s - loss: 0.2861 - acc: 0.8740 - val_loss: 0.2417 - val_acc: 0.8970\n",
      "Epoch 23/30\n",
      "100/100 - 22s - loss: 0.3019 - acc: 0.8650 - val_loss: 0.2423 - val_acc: 0.8980\n",
      "Epoch 24/30\n",
      "100/100 - 23s - loss: 0.2984 - acc: 0.8785 - val_loss: 0.2380 - val_acc: 0.9020\n",
      "Epoch 25/30\n",
      "100/100 - 24s - loss: 0.2842 - acc: 0.8785 - val_loss: 0.2428 - val_acc: 0.9030\n",
      "Epoch 26/30\n",
      "100/100 - 24s - loss: 0.2893 - acc: 0.8770 - val_loss: 0.2480 - val_acc: 0.9010\n",
      "Epoch 27/30\n",
      "100/100 - 22s - loss: 0.2887 - acc: 0.8725 - val_loss: 0.2600 - val_acc: 0.8920\n",
      "Epoch 28/30\n",
      "100/100 - 22s - loss: 0.2869 - acc: 0.8765 - val_loss: 0.2388 - val_acc: 0.9010\n",
      "Epoch 29/30\n",
      "100/100 - 24s - loss: 0.2868 - acc: 0.8790 - val_loss: 0.2407 - val_acc: 0.9030\n",
      "Epoch 30/30\n",
      "100/100 - 24s - loss: 0.2795 - acc: 0.8740 - val_loss: 0.2436 - val_acc: 0.9100\n"
     ]
    }
   ],
   "source": [
    "train_datagen = tf.keras.preprocessing.image.ImageDataGenerator(\n",
    "    rescale=1./255,\n",
    "    rotation_range=40,\n",
    "    width_shift_range=0.2,\n",
    "    height_shift_range=0.2,\n",
    "    shear_range=0.2,\n",
    "    zoom_range=0.2,\n",
    "    horizontal_flip=True,\n",
    "    fill_mode='nearest')\n",
    "# The validation data should not be augmented!\n",
    "test_datagen = tf.keras.preprocessing.image.ImageDataGenerator(rescale=1./255)\n",
    "\n",
    "train_generator = train_datagen.flow_from_directory(\n",
    "    train_dir,\n",
    "    target_size=(150, 150),\n",
    "    batch_size=20,\n",
    "    class_mode='binary')\n",
    "val_generator = test_datagen.flow_from_directory(\n",
    "    val_dir,\n",
    "    target_size=(150, 150),\n",
    "    batch_size=20,\n",
    "    class_mode='binary')\n",
    "\n",
    "# 必须重新编译\n",
    "model.compile(optimizer=tf.keras.optimizers.RMSprop(lr=2e-5),\n",
    "              loss='binary_crossentropy',\n",
    "              metrics=['acc'])\n",
    "history = model.fit_generator(\n",
    "    train_generator,\n",
    "    epochs=30,\n",
    "    steps_per_epoch=2000//20,\n",
    "    validation_data=val_generator,\n",
    "    validation_steps=1000//20,\n",
    "    verbose=2)"
   ]
  },
  {
   "cell_type": "code",
   "execution_count": 22,
   "metadata": {
    "ExecuteTime": {
     "end_time": "2020-04-15T15:48:21.635824Z",
     "start_time": "2020-04-15T15:48:20.942700Z"
    }
   },
   "outputs": [
    {
     "data": {
      "image/png": "[encoded data removed]",
      "text/plain": [
       "<Figure size 1008x302.4 with 2 Axes>"
      ]
     },
     "metadata": {
      "needs_background": "light"
     },
     "output_type": "display_data"
    }
   ],
   "source": [
    "plot_history(history)"
   ]
  },
  {
   "cell_type": "markdown",
   "metadata": {},
   "source": [
    "奇怪哦。按照书上参数，一直欠拟合。精度也没达到 ~96%。sad."
   ]
  },
  {
   "cell_type": "code",
   "execution_count": 23,
   "metadata": {
    "ExecuteTime": {
     "end_time": "2020-04-15T15:48:21.814503Z",
     "start_time": "2020-04-15T15:48:21.637600Z"
    }
   },
   "outputs": [],
   "source": [
    "model.save('models/chap05-models/cats_and_dogs_small_3.h5')"
   ]
  },
  {
   "cell_type": "markdown",
   "metadata": {},
   "source": [
    "# 2. Fine-tuning"
   ]
  },
  {
   "cell_type": "markdown",
   "metadata": {},
   "source": [
    "模型微调 (fine-tuning)，与特征提取互为补充。\n",
    "\n",
    "**<font color='crimson'>对于用于特征提取的冻结的模型基，微调是指将其顶部的几层“解冻”，并将这解冻的几层和新增加的部分 (本例中是全连接分类器) 联合训练。之所以叫作微调，是因为它只是略微调整了所复用模型中更加抽象的表示，以便让这些表示与手头的问题更加相关。</font>**\n",
    "\n",
    "前面说过，冻结 VGG16 的卷积基是为了能够在上面训练一个随机初始化的分类器。同理，<font color='crimson'>只有上面的分类器已经训练好了，才能微调卷积基的顶部几层。如果分类器没有训练好，那么训练期间通过网络传播的误差信号会特别大，微调的几层之前学到的表示都会被破坏。</font>\n",
    "\n",
    "因此，**<font color='blue'>微调网络的步骤如下:</font>**\n",
    "\n",
    "1. 在已经训练好的基网络 (base network) 上添加自定义网络\n",
    "\n",
    "2. 冻结基网络\n",
    "\n",
    "3. 训练所添加的部分\n",
    "\n",
    "4. 解冻基网络的一些层 (先解冻基网络，再冻结部分层)\n",
    "\n",
    "5. 联合训练解冻的这些层和添加的部分\n",
    "\n",
    "\n",
    "上面已经做到了第 3 步。\n",
    "\n",
    "这里将微调最后三个卷积层，也就是说，直到 block4_pool 的所有层都应该被冻结，而 block5_conv1、block5_conv2 和 block5_conv3 三层应该是可训练的。\n",
    "\n",
    "<div class=\"alert alert-block alert-info\">\n",
    "    <b><center>为什么不微调更多层?为什么不微调整个卷积基?</center></b><br>\n",
    "    <b>1) 卷积基中更靠底部的层编码的是更加通用的可复用特征，而更靠顶部的层编码的是更专业化的特征。</b>微调这些更专业化的特征更加有用，因为它们需要在你的新问题上改变用途。<b>微调更靠底部的层，得到的回报会更少。</b><br><br>\n",
    "    2) 训练的参数越多，过拟合的风险越大。卷积基有 1500 万个参数，所以在你的小型数据集上训练这么多参数是有风险的。\n",
    "</div>"
   ]
  },
  {
   "cell_type": "code",
   "execution_count": 24,
   "metadata": {
    "ExecuteTime": {
     "end_time": "2020-04-15T15:48:21.831678Z",
     "start_time": "2020-04-15T15:48:21.818918Z"
    },
    "collapsed": true
   },
   "outputs": [
    {
     "name": "stdout",
     "output_type": "stream",
     "text": [
      "Model: \"vgg16\"\n",
      "_________________________________________________________________\n",
      "Layer (type)                 Output Shape              Param #   \n",
      "=================================================================\n",
      "input_1 (InputLayer)         [(None, 150, 150, 3)]     0         \n",
      "_________________________________________________________________\n",
      "block1_conv1 (Conv2D)        (None, 150, 150, 64)      1792      \n",
      "_________________________________________________________________\n",
      "block1_conv2 (Conv2D)        (None, 150, 150, 64)      36928     \n",
      "_________________________________________________________________\n",
      "block1_pool (MaxPooling2D)   (None, 75, 75, 64)        0         \n",
      "_________________________________________________________________\n",
      "block2_conv1 (Conv2D)        (None, 75, 75, 128)       73856     \n",
      "_________________________________________________________________\n",
      "block2_conv2 (Conv2D)        (None, 75, 75, 128)       147584    \n",
      "_________________________________________________________________\n",
      "block2_pool (MaxPooling2D)   (None, 37, 37, 128)       0         \n",
      "_________________________________________________________________\n",
      "block3_conv1 (Conv2D)        (None, 37, 37, 256)       295168    \n",
      "_________________________________________________________________\n",
      "block3_conv2 (Conv2D)        (None, 37, 37, 256)       590080    \n",
      "_________________________________________________________________\n",
      "block3_conv3 (Conv2D)        (None, 37, 37, 256)       590080    \n",
      "_________________________________________________________________\n",
      "block3_pool (MaxPooling2D)   (None, 18, 18, 256)       0         \n",
      "_________________________________________________________________\n",
      "block4_conv1 (Conv2D)        (None, 18, 18, 512)       1180160   \n",
      "_________________________________________________________________\n",
      "block4_conv2 (Conv2D)        (None, 18, 18, 512)       2359808   \n",
      "_________________________________________________________________\n",
      "block4_conv3 (Conv2D)        (None, 18, 18, 512)       2359808   \n",
      "_________________________________________________________________\n",
      "block4_pool (MaxPooling2D)   (None, 9, 9, 512)         0         \n",
      "_________________________________________________________________\n",
      "block5_conv1 (Conv2D)        (None, 9, 9, 512)         2359808   \n",
      "_________________________________________________________________\n",
      "block5_conv2 (Conv2D)        (None, 9, 9, 512)         2359808   \n",
      "_________________________________________________________________\n",
      "block5_conv3 (Conv2D)        (None, 9, 9, 512)         2359808   \n",
      "_________________________________________________________________\n",
      "block5_pool (MaxPooling2D)   (None, 4, 4, 512)         0         \n",
      "=================================================================\n",
      "Total params: 14,714,688\n",
      "Trainable params: 0\n",
      "Non-trainable params: 14,714,688\n",
      "_________________________________________________________________\n"
     ]
    }
   ],
   "source": [
    "conv_base.summary()"
   ]
  },
  {
   "cell_type": "code",
   "execution_count": 25,
   "metadata": {
    "ExecuteTime": {
     "end_time": "2020-04-15T15:48:21.965520Z",
     "start_time": "2020-04-15T15:48:21.836330Z"
    }
   },
   "outputs": [],
   "source": [
    "# 冻结直到某一层的所有层\n",
    "conv_base.trainable = True\n",
    "\n",
    "set_trainable = False\n",
    "for layer in conv_base.layers:\n",
    "    if layer.name == 'block5_conv1':\n",
    "        set_trainable = True\n",
    "    if set_trainable:\n",
    "        layer.trainable = True\n",
    "    else:\n",
    "        layer.trainable = False"
   ]
  },
  {
   "cell_type": "code",
   "execution_count": 26,
   "metadata": {
    "ExecuteTime": {
     "end_time": "2020-04-15T15:48:21.984986Z",
     "start_time": "2020-04-15T15:48:21.968498Z"
    },
    "collapsed": true
   },
   "outputs": [
    {
     "name": "stdout",
     "output_type": "stream",
     "text": [
      "Model: \"vgg16\"\n",
      "_________________________________________________________________\n",
      "Layer (type)                 Output Shape              Param #   \n",
      "=================================================================\n",
      "input_1 (InputLayer)         [(None, 150, 150, 3)]     0         \n",
      "_________________________________________________________________\n",
      "block1_conv1 (Conv2D)        (None, 150, 150, 64)      1792      \n",
      "_________________________________________________________________\n",
      "block1_conv2 (Conv2D)        (None, 150, 150, 64)      36928     \n",
      "_________________________________________________________________\n",
      "block1_pool (MaxPooling2D)   (None, 75, 75, 64)        0         \n",
      "_________________________________________________________________\n",
      "block2_conv1 (Conv2D)        (None, 75, 75, 128)       73856     \n",
      "_________________________________________________________________\n",
      "block2_conv2 (Conv2D)        (None, 75, 75, 128)       147584    \n",
      "_________________________________________________________________\n",
      "block2_pool (MaxPooling2D)   (None, 37, 37, 128)       0         \n",
      "_________________________________________________________________\n",
      "block3_conv1 (Conv2D)        (None, 37, 37, 256)       295168    \n",
      "_________________________________________________________________\n",
      "block3_conv2 (Conv2D)        (None, 37, 37, 256)       590080    \n",
      "_________________________________________________________________\n",
      "block3_conv3 (Conv2D)        (None, 37, 37, 256)       590080    \n",
      "_________________________________________________________________\n",
      "block3_pool (MaxPooling2D)   (None, 18, 18, 256)       0         \n",
      "_________________________________________________________________\n",
      "block4_conv1 (Conv2D)        (None, 18, 18, 512)       1180160   \n",
      "_________________________________________________________________\n",
      "block4_conv2 (Conv2D)        (None, 18, 18, 512)       2359808   \n",
      "_________________________________________________________________\n",
      "block4_conv3 (Conv2D)        (None, 18, 18, 512)       2359808   \n",
      "_________________________________________________________________\n",
      "block4_pool (MaxPooling2D)   (None, 9, 9, 512)         0         \n",
      "_________________________________________________________________\n",
      "block5_conv1 (Conv2D)        (None, 9, 9, 512)         2359808   \n",
      "_________________________________________________________________\n",
      "block5_conv2 (Conv2D)        (None, 9, 9, 512)         2359808   \n",
      "_________________________________________________________________\n",
      "block5_conv3 (Conv2D)        (None, 9, 9, 512)         2359808   \n",
      "_________________________________________________________________\n",
      "block5_pool (MaxPooling2D)   (None, 4, 4, 512)         0         \n",
      "=================================================================\n",
      "Total params: 14,714,688\n",
      "Trainable params: 7,079,424\n",
      "Non-trainable params: 7,635,264\n",
      "_________________________________________________________________\n"
     ]
    }
   ],
   "source": [
    "conv_base.summary()"
   ]
  },
  {
   "cell_type": "markdown",
   "metadata": {},
   "source": [
    "<font color='crimson'>将使用学习率非常小的 RMSProp 优化器来实现。之所以让学习率很小，是因为对于微调的三层表示，我们希望其变化范围不要太大。太大的权重更新可能会破坏这些表示。</font>"
   ]
  },
  {
   "cell_type": "code",
   "execution_count": 27,
   "metadata": {
    "ExecuteTime": {
     "end_time": "2020-04-15T15:48:22.073650Z",
     "start_time": "2020-04-15T15:48:21.987665Z"
    }
   },
   "outputs": [],
   "source": [
    "model.compile(loss='binary_crossentropy',\n",
    "              optimizer=tf.keras.optimizers.RMSprop(lr=1e-5),\n",
    "              metrics=['acc'])"
   ]
  },
  {
   "cell_type": "code",
   "execution_count": 28,
   "metadata": {
    "ExecuteTime": {
     "end_time": "2020-04-15T15:48:22.084609Z",
     "start_time": "2020-04-15T15:48:22.075934Z"
    },
    "collapsed": true
   },
   "outputs": [
    {
     "name": "stdout",
     "output_type": "stream",
     "text": [
      "Model: \"sequential\"\n",
      "_________________________________________________________________\n",
      "Layer (type)                 Output Shape              Param #   \n",
      "=================================================================\n",
      "vgg16 (Model)                (None, 4, 4, 512)         14714688  \n",
      "_________________________________________________________________\n",
      "flatten (Flatten)            (None, 8192)              0         \n",
      "_________________________________________________________________\n",
      "dense (Dense)                (None, 256)               2097408   \n",
      "_________________________________________________________________\n",
      "dense_1 (Dense)              (None, 1)                 257       \n",
      "=================================================================\n",
      "Total params: 16,812,353\n",
      "Trainable params: 9,177,089\n",
      "Non-trainable params: 7,635,264\n",
      "_________________________________________________________________\n"
     ]
    }
   ],
   "source": [
    "model.summary()"
   ]
  },
  {
   "cell_type": "code",
   "execution_count": 29,
   "metadata": {
    "ExecuteTime": {
     "end_time": "2020-04-15T16:26:02.404739Z",
     "start_time": "2020-04-15T15:48:22.087292Z"
    },
    "collapsed": true
   },
   "outputs": [
    {
     "name": "stdout",
     "output_type": "stream",
     "text": [
      "Epoch 1/100\n",
      "100/100 - 22s - loss: 0.2846 - acc: 0.8770 - val_loss: 0.2361 - val_acc: 0.9080\n",
      "Epoch 2/100\n",
      "100/100 - 23s - loss: 0.2515 - acc: 0.8920 - val_loss: 0.2509 - val_acc: 0.8940\n",
      "Epoch 3/100\n",
      "100/100 - 23s - loss: 0.2363 - acc: 0.9030 - val_loss: 0.2017 - val_acc: 0.9130\n",
      "Epoch 4/100\n",
      "100/100 - 24s - loss: 0.2170 - acc: 0.9100 - val_loss: 0.1946 - val_acc: 0.9230\n",
      "Epoch 5/100\n",
      "100/100 - 24s - loss: 0.2158 - acc: 0.9105 - val_loss: 0.1919 - val_acc: 0.9160\n",
      "Epoch 6/100\n",
      "100/100 - 24s - loss: 0.1860 - acc: 0.9260 - val_loss: 0.1821 - val_acc: 0.9220\n",
      "Epoch 7/100\n",
      "100/100 - 23s - loss: 0.1729 - acc: 0.9290 - val_loss: 0.1905 - val_acc: 0.9230\n",
      "Epoch 8/100\n",
      "100/100 - 25s - loss: 0.1796 - acc: 0.9310 - val_loss: 0.2539 - val_acc: 0.9070\n",
      "Epoch 9/100\n",
      "100/100 - 24s - loss: 0.1650 - acc: 0.9315 - val_loss: 0.1957 - val_acc: 0.9270\n",
      "Epoch 10/100\n",
      "100/100 - 22s - loss: 0.1435 - acc: 0.9405 - val_loss: 0.2592 - val_acc: 0.9120\n",
      "Epoch 11/100\n",
      "100/100 - 22s - loss: 0.1530 - acc: 0.9430 - val_loss: 0.1785 - val_acc: 0.9350\n",
      "Epoch 12/100\n",
      "100/100 - 22s - loss: 0.1427 - acc: 0.9355 - val_loss: 0.1732 - val_acc: 0.9310\n",
      "Epoch 13/100\n",
      "100/100 - 22s - loss: 0.1325 - acc: 0.9460 - val_loss: 0.1948 - val_acc: 0.9350\n",
      "Epoch 14/100\n",
      "100/100 - 22s - loss: 0.1392 - acc: 0.9470 - val_loss: 0.1946 - val_acc: 0.9250\n",
      "Epoch 15/100\n",
      "100/100 - 23s - loss: 0.1227 - acc: 0.9490 - val_loss: 0.1838 - val_acc: 0.9320\n",
      "Epoch 16/100\n",
      "100/100 - 20s - loss: 0.1164 - acc: 0.9525 - val_loss: 0.1819 - val_acc: 0.9300\n",
      "Epoch 17/100\n",
      "100/100 - 23s - loss: 0.1226 - acc: 0.9510 - val_loss: 0.1602 - val_acc: 0.9320\n",
      "Epoch 18/100\n",
      "100/100 - 25s - loss: 0.1051 - acc: 0.9630 - val_loss: 0.1847 - val_acc: 0.9340\n",
      "Epoch 19/100\n",
      "100/100 - 24s - loss: 0.1013 - acc: 0.9605 - val_loss: 0.1628 - val_acc: 0.9330\n",
      "Epoch 20/100\n",
      "100/100 - 24s - loss: 0.0906 - acc: 0.9655 - val_loss: 0.1694 - val_acc: 0.9370\n",
      "Epoch 21/100\n",
      "100/100 - 23s - loss: 0.0859 - acc: 0.9700 - val_loss: 0.1645 - val_acc: 0.9360\n",
      "Epoch 22/100\n",
      "100/100 - 24s - loss: 0.0803 - acc: 0.9685 - val_loss: 0.2586 - val_acc: 0.9140\n",
      "Epoch 23/100\n",
      "100/100 - 22s - loss: 0.0861 - acc: 0.9665 - val_loss: 0.1523 - val_acc: 0.9420\n",
      "Epoch 24/100\n",
      "100/100 - 24s - loss: 0.0883 - acc: 0.9630 - val_loss: 0.1905 - val_acc: 0.9320\n",
      "Epoch 25/100\n",
      "100/100 - 22s - loss: 0.0806 - acc: 0.9670 - val_loss: 0.1657 - val_acc: 0.9430\n",
      "Epoch 26/100\n",
      "100/100 - 21s - loss: 0.0669 - acc: 0.9760 - val_loss: 0.1802 - val_acc: 0.9410\n",
      "Epoch 27/100\n",
      "100/100 - 19s - loss: 0.0750 - acc: 0.9710 - val_loss: 0.1795 - val_acc: 0.9450\n",
      "Epoch 28/100\n",
      "100/100 - 21s - loss: 0.0700 - acc: 0.9725 - val_loss: 0.1798 - val_acc: 0.9400\n",
      "Epoch 29/100\n",
      "100/100 - 22s - loss: 0.0622 - acc: 0.9785 - val_loss: 0.2410 - val_acc: 0.9290\n",
      "Epoch 30/100\n",
      "100/100 - 24s - loss: 0.0789 - acc: 0.9675 - val_loss: 0.2049 - val_acc: 0.9370\n",
      "Epoch 31/100\n",
      "100/100 - 22s - loss: 0.0781 - acc: 0.9700 - val_loss: 0.1758 - val_acc: 0.9340\n",
      "Epoch 32/100\n",
      "100/100 - 24s - loss: 0.0642 - acc: 0.9745 - val_loss: 0.1795 - val_acc: 0.9430\n",
      "Epoch 33/100\n",
      "100/100 - 21s - loss: 0.0638 - acc: 0.9750 - val_loss: 0.3190 - val_acc: 0.9110\n",
      "Epoch 34/100\n",
      "100/100 - 24s - loss: 0.0565 - acc: 0.9785 - val_loss: 0.2543 - val_acc: 0.9290\n",
      "Epoch 35/100\n",
      "100/100 - 23s - loss: 0.0630 - acc: 0.9785 - val_loss: 0.1763 - val_acc: 0.9390\n",
      "Epoch 36/100\n",
      "100/100 - 22s - loss: 0.0547 - acc: 0.9820 - val_loss: 0.1850 - val_acc: 0.9410\n",
      "Epoch 37/100\n",
      "100/100 - 24s - loss: 0.0448 - acc: 0.9805 - val_loss: 0.2541 - val_acc: 0.9240\n",
      "Epoch 38/100\n",
      "100/100 - 23s - loss: 0.0477 - acc: 0.9845 - val_loss: 0.2027 - val_acc: 0.9350\n",
      "Epoch 39/100\n",
      "100/100 - 24s - loss: 0.0551 - acc: 0.9805 - val_loss: 0.2814 - val_acc: 0.9180\n",
      "Epoch 40/100\n",
      "100/100 - 21s - loss: 0.0470 - acc: 0.9795 - val_loss: 0.2644 - val_acc: 0.9260\n",
      "Epoch 41/100\n",
      "100/100 - 22s - loss: 0.0566 - acc: 0.9810 - val_loss: 0.2208 - val_acc: 0.9340\n",
      "Epoch 42/100\n",
      "100/100 - 23s - loss: 0.0526 - acc: 0.9825 - val_loss: 0.1872 - val_acc: 0.9370\n",
      "Epoch 43/100\n",
      "100/100 - 22s - loss: 0.0481 - acc: 0.9790 - val_loss: 0.2089 - val_acc: 0.9350\n",
      "Epoch 44/100\n",
      "100/100 - 23s - loss: 0.0501 - acc: 0.9805 - val_loss: 0.2020 - val_acc: 0.9370\n",
      "Epoch 45/100\n",
      "100/100 - 23s - loss: 0.0352 - acc: 0.9870 - val_loss: 0.2443 - val_acc: 0.9270\n",
      "Epoch 46/100\n",
      "100/100 - 20s - loss: 0.0482 - acc: 0.9830 - val_loss: 0.2263 - val_acc: 0.9390\n",
      "Epoch 47/100\n",
      "100/100 - 22s - loss: 0.0475 - acc: 0.9850 - val_loss: 0.2886 - val_acc: 0.9250\n",
      "Epoch 48/100\n",
      "100/100 - 23s - loss: 0.0449 - acc: 0.9845 - val_loss: 0.3134 - val_acc: 0.9200\n",
      "Epoch 49/100\n",
      "100/100 - 20s - loss: 0.0384 - acc: 0.9870 - val_loss: 0.2751 - val_acc: 0.9310\n",
      "Epoch 50/100\n",
      "100/100 - 23s - loss: 0.0349 - acc: 0.9850 - val_loss: 0.3203 - val_acc: 0.9110\n",
      "Epoch 51/100\n",
      "100/100 - 22s - loss: 0.0373 - acc: 0.9870 - val_loss: 0.2487 - val_acc: 0.9280\n",
      "Epoch 52/100\n",
      "100/100 - 23s - loss: 0.0400 - acc: 0.9865 - val_loss: 0.2576 - val_acc: 0.9310\n",
      "Epoch 53/100\n",
      "100/100 - 23s - loss: 0.0358 - acc: 0.9860 - val_loss: 0.2066 - val_acc: 0.9410\n",
      "Epoch 54/100\n",
      "100/100 - 22s - loss: 0.0331 - acc: 0.9875 - val_loss: 0.2222 - val_acc: 0.9350\n",
      "Epoch 55/100\n",
      "100/100 - 22s - loss: 0.0396 - acc: 0.9830 - val_loss: 0.2233 - val_acc: 0.9380\n",
      "Epoch 56/100\n",
      "100/100 - 24s - loss: 0.0404 - acc: 0.9890 - val_loss: 0.2101 - val_acc: 0.9420\n",
      "Epoch 57/100\n",
      "100/100 - 24s - loss: 0.0280 - acc: 0.9905 - val_loss: 0.5925 - val_acc: 0.8920\n",
      "Epoch 58/100\n",
      "100/100 - 22s - loss: 0.0355 - acc: 0.9875 - val_loss: 0.2230 - val_acc: 0.9340\n",
      "Epoch 59/100\n",
      "100/100 - 22s - loss: 0.0363 - acc: 0.9885 - val_loss: 0.2530 - val_acc: 0.9320\n",
      "Epoch 60/100\n",
      "100/100 - 22s - loss: 0.0257 - acc: 0.9920 - val_loss: 0.2418 - val_acc: 0.9340\n",
      "Epoch 61/100\n",
      "100/100 - 22s - loss: 0.0273 - acc: 0.9915 - val_loss: 0.2417 - val_acc: 0.9370\n",
      "Epoch 62/100\n",
      "100/100 - 22s - loss: 0.0376 - acc: 0.9855 - val_loss: 0.2071 - val_acc: 0.9410\n",
      "Epoch 63/100\n",
      "100/100 - 22s - loss: 0.0341 - acc: 0.9885 - val_loss: 0.2455 - val_acc: 0.9370\n",
      "Epoch 64/100\n",
      "100/100 - 24s - loss: 0.0302 - acc: 0.9885 - val_loss: 0.2214 - val_acc: 0.9370\n",
      "Epoch 65/100\n",
      "100/100 - 21s - loss: 0.0241 - acc: 0.9925 - val_loss: 0.2881 - val_acc: 0.9310\n",
      "Epoch 66/100\n",
      "100/100 - 24s - loss: 0.0300 - acc: 0.9860 - val_loss: 0.2230 - val_acc: 0.9390\n",
      "Epoch 67/100\n",
      "100/100 - 23s - loss: 0.0200 - acc: 0.9935 - val_loss: 0.2202 - val_acc: 0.9410\n",
      "Epoch 68/100\n",
      "100/100 - 23s - loss: 0.0333 - acc: 0.9890 - val_loss: 0.2330 - val_acc: 0.9360\n",
      "Epoch 69/100\n",
      "100/100 - 22s - loss: 0.0326 - acc: 0.9880 - val_loss: 0.2506 - val_acc: 0.9400\n",
      "Epoch 70/100\n",
      "100/100 - 24s - loss: 0.0215 - acc: 0.9935 - val_loss: 0.3318 - val_acc: 0.9190\n",
      "Epoch 71/100\n",
      "100/100 - 23s - loss: 0.0334 - acc: 0.9905 - val_loss: 0.3506 - val_acc: 0.9220\n",
      "Epoch 72/100\n",
      "100/100 - 24s - loss: 0.0295 - acc: 0.9895 - val_loss: 0.2297 - val_acc: 0.9380\n",
      "Epoch 73/100\n",
      "100/100 - 24s - loss: 0.0270 - acc: 0.9905 - val_loss: 0.2495 - val_acc: 0.9380\n",
      "Epoch 74/100\n",
      "100/100 - 21s - loss: 0.0227 - acc: 0.9940 - val_loss: 0.2453 - val_acc: 0.9370\n",
      "Epoch 75/100\n",
      "100/100 - 24s - loss: 0.0211 - acc: 0.9920 - val_loss: 0.2863 - val_acc: 0.9340\n",
      "Epoch 76/100\n",
      "100/100 - 20s - loss: 0.0153 - acc: 0.9945 - val_loss: 0.2732 - val_acc: 0.9360\n",
      "Epoch 77/100\n",
      "100/100 - 22s - loss: 0.0302 - acc: 0.9890 - val_loss: 0.2231 - val_acc: 0.9430\n",
      "Epoch 78/100\n",
      "100/100 - 22s - loss: 0.0235 - acc: 0.9910 - val_loss: 0.2182 - val_acc: 0.9410\n",
      "Epoch 79/100\n",
      "100/100 - 23s - loss: 0.0243 - acc: 0.9910 - val_loss: 0.3208 - val_acc: 0.9310\n",
      "Epoch 80/100\n",
      "100/100 - 21s - loss: 0.0259 - acc: 0.9885 - val_loss: 0.2537 - val_acc: 0.9390\n",
      "Epoch 81/100\n",
      "100/100 - 22s - loss: 0.0216 - acc: 0.9905 - val_loss: 0.3234 - val_acc: 0.9270\n",
      "Epoch 82/100\n",
      "100/100 - 22s - loss: 0.0212 - acc: 0.9945 - val_loss: 0.2195 - val_acc: 0.9420\n",
      "Epoch 83/100\n",
      "100/100 - 22s - loss: 0.0162 - acc: 0.9945 - val_loss: 0.2873 - val_acc: 0.9400\n",
      "Epoch 84/100\n",
      "100/100 - 24s - loss: 0.0287 - acc: 0.9920 - val_loss: 0.3718 - val_acc: 0.9240\n",
      "Epoch 85/100\n",
      "100/100 - 23s - loss: 0.0253 - acc: 0.9905 - val_loss: 0.3072 - val_acc: 0.9290\n",
      "Epoch 86/100\n",
      "100/100 - 20s - loss: 0.0170 - acc: 0.9940 - val_loss: 0.2708 - val_acc: 0.9370\n",
      "Epoch 92/100\n",
      "100/100 - 24s - loss: 0.0156 - acc: 0.9935 - val_loss: 0.4590 - val_acc: 0.9160\n",
      "Epoch 93/100\n",
      "100/100 - 25s - loss: 0.0147 - acc: 0.9940 - val_loss: 0.2743 - val_acc: 0.9350\n",
      "Epoch 94/100\n",
      "100/100 - 23s - loss: 0.0203 - acc: 0.9905 - val_loss: 0.4374 - val_acc: 0.9250\n"
     ]
    },
    {
     "name": "stdout",
     "output_type": "stream",
     "text": [
      "Epoch 95/100\n",
      "100/100 - 24s - loss: 0.0192 - acc: 0.9945 - val_loss: 0.2763 - val_acc: 0.9370\n",
      "Epoch 96/100\n",
      "100/100 - 20s - loss: 0.0204 - acc: 0.9940 - val_loss: 0.3206 - val_acc: 0.9250\n",
      "Epoch 97/100\n",
      "100/100 - 23s - loss: 0.0224 - acc: 0.9940 - val_loss: 0.2854 - val_acc: 0.9350\n",
      "Epoch 98/100\n",
      "100/100 - 24s - loss: 0.0244 - acc: 0.9895 - val_loss: 0.2408 - val_acc: 0.9420\n",
      "Epoch 99/100\n",
      "100/100 - 24s - loss: 0.0152 - acc: 0.9950 - val_loss: 0.3952 - val_acc: 0.9200\n",
      "Epoch 100/100\n",
      "100/100 - 22s - loss: 0.0156 - acc: 0.9940 - val_loss: 0.3200 - val_acc: 0.9330\n"
     ]
    }
   ],
   "source": [
    "history = model.fit_generator(\n",
    "    train_generator,\n",
    "    epochs=100,\n",
    "    steps_per_epoch=2000//20,\n",
    "    validation_data=val_generator,\n",
    "    validation_steps=1000//20,\n",
    "    verbose=2)"
   ]
  },
  {
   "cell_type": "code",
   "execution_count": 33,
   "metadata": {
    "ExecuteTime": {
     "end_time": "2020-04-16T01:15:16.131907Z",
     "start_time": "2020-04-16T01:15:15.893706Z"
    }
   },
   "outputs": [],
   "source": [
    "model.save('models/chap05-models/cats_and_dogs_small_4.h5')"
   ]
  },
  {
   "cell_type": "code",
   "execution_count": 32,
   "metadata": {
    "ExecuteTime": {
     "end_time": "2020-04-16T01:13:57.163388Z",
     "start_time": "2020-04-16T01:13:55.472129Z"
    }
   },
   "outputs": [
    {
     "data": {
      "image/png": "[encoded data removed]",
      "text/plain": [
       "<Figure size 1008x302.4 with 2 Axes>"
      ]
     },
     "metadata": {
      "needs_background": "light"
     },
     "output_type": "display_data"
    }
   ],
   "source": [
    "plot_history(history)"
   ]
  },
  {
   "cell_type": "code",
   "execution_count": 38,
   "metadata": {
    "ExecuteTime": {
     "end_time": "2020-04-16T01:21:57.268539Z",
     "start_time": "2020-04-16T01:21:56.619448Z"
    },
    "scrolled": true
   },
   "outputs": [
    {
     "data": {
      "image/png": "[encoded data removed]",
      "text/plain": [
       "<Figure size 1008x302.4 with 2 Axes>"
      ]
     },
     "metadata": {
      "needs_background": "light"
     },
     "output_type": "display_data"
    }
   ],
   "source": [
    "def smooth_curve(points, factor=0.8):\n",
    "    \"\"\"为了让图像更具可读性，可以将每个损失和精度都替换为指数移动平均值，从而让曲线变得平滑\"\"\"\n",
    "    smoothed_points = []\n",
    "    for point in points:\n",
    "        if smoothed_points:\n",
    "            previous = smoothed_points[-1]\n",
    "            smoothed_points.append(previous * factor + point * (1 - factor))\n",
    "        else:\n",
    "            smoothed_points.append(point)\n",
    "    return smoothed_points\n",
    "\n",
    "\n",
    "epochs = [i + 1 for i in history.epoch]\n",
    "plt.figure(figsize=(14, 4.2))\n",
    "plt.subplot(121)\n",
    "plt.plot(epochs, smooth_curve(history.history['loss']),\n",
    "         'c+-', label='Smoothed training loss')\n",
    "plt.plot(epochs, smooth_curve(history.history['val_loss']),\n",
    "         'm.-', label='Smoothed validation loss')\n",
    "plt.xticks(np.arange(1, 101, 5))\n",
    "plt.xlabel('Epochs', fontsize=12)\n",
    "plt.ylabel('Loss', fontsize=12)\n",
    "plt.title('Training and validation loss')\n",
    "plt.legend(fontsize=18)\n",
    "plt.title('Training and validation loss', fontsize=16)\n",
    "\n",
    "plt.subplot(122)\n",
    "plt.plot(epochs, smooth_curve(history.history['acc']),\n",
    "         'c+-', label='Smoothed training acc')\n",
    "plt.plot(epochs, smooth_curve(history.history['val_acc']),\n",
    "         'm.-', label='Smoothed validation acc')\n",
    "plt.xticks(np.arange(1, 101, 5))\n",
    "plt.xlabel('Epochs', fontsize=12)\n",
    "plt.ylabel('Acc', fontsize=12)\n",
    "plt.title('Training and validation acc', fontsize=16)\n",
    "plt.legend(fontsize=18)\n",
    "\n",
    "plt.show()"
   ]
  },
  {
   "cell_type": "code",
   "execution_count": 39,
   "metadata": {
    "ExecuteTime": {
     "end_time": "2020-04-16T01:23:31.658780Z",
     "start_time": "2020-04-16T01:23:28.379770Z"
    }
   },
   "outputs": [
    {
     "name": "stdout",
     "output_type": "stream",
     "text": [
      "Found 1000 images belonging to 2 classes.\n",
      "test acc: 0.929\n"
     ]
    }
   ],
   "source": [
    "test_generator = test_datagen.flow_from_directory(\n",
    "        test_dir,\n",
    "        target_size=(150, 150),\n",
    "        batch_size=20,\n",
    "        class_mode='binary')\n",
    "\n",
    "test_loss, test_acc = model.evaluate_generator(test_generator, steps=50)\n",
    "print('test acc:', test_acc)"
   ]
  },
  {
   "cell_type": "markdown",
   "metadata": {},
   "source": [
    "后面的代码的结果已经偏离书中的结果了。知道思想即可。"
   ]
  }
 ],
 "metadata": {
  "kernelspec": {
   "display_name": "Python 3",
   "language": "python",
   "name": "python3"
  },
  "language_info": {
   "codemirror_mode": {
    "name": "ipython",
    "version": 3
   },
   "file_extension": ".py",
   "mimetype": "text/x-python",
   "name": "python",
   "nbconvert_exporter": "python",
   "pygments_lexer": "ipython3",
   "version": "3.6.10"
  },
  "toc": {
   "base_numbering": 1,
   "nav_menu": {},
   "number_sections": true,
   "sideBar": true,
   "skip_h1_title": false,
   "title_cell": "Table of Contents",
   "title_sidebar": "Contents",
   "toc_cell": false,
   "toc_position": {},
   "toc_section_display": true,
   "toc_window_display": false
  },
  "varInspector": {
   "cols": {
    "lenName": 16,
    "lenType": 16,
    "lenVar": 40
   },
   "kernels_config": {
    "python": {
     "delete_cmd_postfix": "",
     "delete_cmd_prefix": "del ",
     "library": "var_list.py",
     "varRefreshCmd": "print(var_dic_list())"
    },
    "r": {
     "delete_cmd_postfix": ") ",
     "delete_cmd_prefix": "rm(",
     "library": "var_list.r",
     "varRefreshCmd": "cat(var_dic_list()) "
    }
   },
   "types_to_exclude": [
    "module",
    "function",
    "builtin_function_or_method",
    "instance",
    "_Feature"
   ],
   "window_display": false
  }
 },
 "nbformat": 4,
 "nbformat_minor": 4
}
