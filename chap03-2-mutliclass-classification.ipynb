{
 "cells": [
  {
   "cell_type": "markdown",
   "metadata": {},
   "source": [
    "# Reuters 新闻多分类"
   ]
  },
  {
   "cell_type": "markdown",
   "metadata": {},
   "source": [
    "将新闻划分为 46 个互斥的主题，这是一个 **<font color='red'>mulitclass classification</font>** 问题，每个 sample 只能划分到一个类别，也可以说是一个 **<font color='red'>single-label, mulitclass classification</font>** 问题。\n",
    "\n",
    "如果一条新闻被划分到多个主题（类别），那就是一个 **<font color='red'>multilabel, multiclass classification</font>** 问题。"
   ]
  },
  {
   "cell_type": "code",
   "execution_count": 1,
   "metadata": {
    "ExecuteTime": {
     "end_time": "2020-04-07T16:14:35.744822Z",
     "start_time": "2020-04-07T16:14:33.298081Z"
    }
   },
   "outputs": [],
   "source": [
    "import matplotlib.pyplot as plt\n",
    "import numpy as np\n",
    "import tensorflow as tf\n",
    "\n",
    "%matplotlib inline\n",
    "\n",
    "np.random.seed(42)\n",
    "tf.random.set_seed(42)"
   ]
  },
  {
   "cell_type": "code",
   "execution_count": 2,
   "metadata": {
    "ExecuteTime": {
     "end_time": "2020-04-07T16:14:35.750814Z",
     "start_time": "2020-04-07T16:14:35.746470Z"
    }
   },
   "outputs": [
    {
     "data": {
      "text/plain": [
       "'2.1.0'"
      ]
     },
     "execution_count": 2,
     "metadata": {},
     "output_type": "execute_result"
    }
   ],
   "source": [
    "tf.__version__"
   ]
  },
  {
   "cell_type": "code",
   "execution_count": 3,
   "metadata": {
    "ExecuteTime": {
     "end_time": "2020-04-07T16:14:36.281332Z",
     "start_time": "2020-04-07T16:14:35.752501Z"
    }
   },
   "outputs": [],
   "source": [
    "# Load the data\n",
    "(train_data, train_labels), (test_data, test_labels) = tf.keras.datasets.reuters.load_data(\n",
    "    # Words are ranked by how often they occur (in the training set)\n",
    "    # and only the most frequent words are kept.\n",
    "    num_words=10000)  # Max number of words to include."
   ]
  },
  {
   "cell_type": "code",
   "execution_count": 4,
   "metadata": {
    "ExecuteTime": {
     "end_time": "2020-04-07T16:14:36.286738Z",
     "start_time": "2020-04-07T16:14:36.282959Z"
    }
   },
   "outputs": [
    {
     "data": {
      "text/plain": [
       "((8982,), (2246,))"
      ]
     },
     "execution_count": 4,
     "metadata": {},
     "output_type": "execute_result"
    }
   ],
   "source": [
    "train_data.shape, test_data.shape"
   ]
  },
  {
   "cell_type": "code",
   "execution_count": 5,
   "metadata": {
    "ExecuteTime": {
     "end_time": "2020-04-07T16:14:36.290895Z",
     "start_time": "2020-04-07T16:14:36.288153Z"
    }
   },
   "outputs": [
    {
     "name": "stdout",
     "output_type": "stream",
     "text": [
      "[1, 2, 2, 8, 43, 10, 447, 5, 25, 207, 270, 5, 3095, 111, 16, 369, 186, 90, 67, 7, 89, 5, 19, 102, 6, 19, 124, 15, 90, 67, 84, 22, 482, 26, 7, 48, 4, 49, 8, 864, 39, 209, 154, 6, 151, 6, 83, 11, 15, 22, 155, 11, 15, 7, 48, 9, 4579, 1005, 504, 6, 258, 6, 272, 11, 15, 22, 134, 44, 11, 15, 16, 8, 197, 1245, 90, 67, 52, 29, 209, 30, 32, 132, 6, 109, 15, 17, 12]\n"
     ]
    }
   ],
   "source": [
    "print(train_data[0])"
   ]
  },
  {
   "cell_type": "code",
   "execution_count": 6,
   "metadata": {
    "ExecuteTime": {
     "end_time": "2020-04-07T16:14:36.329581Z",
     "start_time": "2020-04-07T16:14:36.293873Z"
    }
   },
   "outputs": [
    {
     "data": {
      "text/plain": [
       "'? ? ? said as a result of its december acquisition of space co it expects earnings per share in 1987 of 1 15 to 1 30 dlrs per share up from 70 cts in 1986 the company said pretax net should rise to nine to 10 mln dlrs from six mln dlrs in 1986 and rental operation revenues to 19 to 22 mln dlrs from 12 5 mln dlrs it said cash flow per share this year should be 2 50 to three dlrs reuter 3'"
      ]
     },
     "execution_count": 6,
     "metadata": {},
     "output_type": "execute_result"
    }
   ],
   "source": [
    "word_index = tf.keras.datasets.reuters.get_word_index()\n",
    "index_word = dict([(value, key) for key, value in word_index.items()])\n",
    "# 减去 3 是因为 0, 1, 2 分别是为 padding, start of sequence, unknown 保留的 index\n",
    "' '.join([index_word.get(i-3, '?') for i in train_data[0]])"
   ]
  },
  {
   "cell_type": "code",
   "execution_count": 7,
   "metadata": {
    "ExecuteTime": {
     "end_time": "2020-04-07T16:14:36.336517Z",
     "start_time": "2020-04-07T16:14:36.332689Z"
    }
   },
   "outputs": [
    {
     "data": {
      "text/plain": [
       "array([ 0,  1,  2,  3,  4,  5,  6,  7,  8,  9, 10, 11, 12, 13, 14, 15, 16,\n",
       "       17, 18, 19, 20, 21, 22, 23, 24, 25, 26, 27, 28, 29, 30, 31, 32, 33,\n",
       "       34, 35, 36, 37, 38, 39, 40, 41, 42, 43, 44, 45])"
      ]
     },
     "execution_count": 7,
     "metadata": {},
     "output_type": "execute_result"
    }
   ],
   "source": [
    "np.unique(train_labels)"
   ]
  },
  {
   "cell_type": "code",
   "execution_count": 8,
   "metadata": {
    "ExecuteTime": {
     "end_time": "2020-04-07T16:14:36.341209Z",
     "start_time": "2020-04-07T16:14:36.338087Z"
    }
   },
   "outputs": [
    {
     "data": {
      "text/plain": [
       "array([ 3,  4,  3, ..., 25,  3, 25])"
      ]
     },
     "execution_count": 8,
     "metadata": {},
     "output_type": "execute_result"
    }
   ],
   "source": [
    "train_labels"
   ]
  },
  {
   "cell_type": "code",
   "execution_count": 9,
   "metadata": {
    "ExecuteTime": {
     "end_time": "2020-04-07T16:14:36.656562Z",
     "start_time": "2020-04-07T16:14:36.342836Z"
    }
   },
   "outputs": [],
   "source": [
    "def vectorize_sequence(sequences, dimension=10000):\n",
    "    result = np.zeros(shape=(len(sequences), dimension))\n",
    "    for i, seq in enumerate(sequences):\n",
    "        result[i, seq] = 1.\n",
    "    return result\n",
    "\n",
    "\n",
    "x_train = vectorize_sequence(train_data)  # 训练数据向量化\n",
    "x_test = vectorize_sequence(test_data)  # 测试数据向量化"
   ]
  },
  {
   "cell_type": "markdown",
   "metadata": {},
   "source": [
    "**<font color='crimson'>标签向量化有 2 种方法：</font>**\n",
    "\n",
    "1. 将标签列表转换为整数张量\n",
    "\n",
    "2. 使用 one-hot 编码"
   ]
  },
  {
   "cell_type": "markdown",
   "metadata": {},
   "source": [
    "**<font color='blue'>标签向量化——one-hot</font>**"
   ]
  },
  {
   "cell_type": "code",
   "execution_count": 10,
   "metadata": {
    "ExecuteTime": {
     "end_time": "2020-04-07T16:14:36.662977Z",
     "start_time": "2020-04-07T16:14:36.657967Z"
    }
   },
   "outputs": [
    {
     "data": {
      "text/plain": [
       "array([[0., 0., 0., ..., 0., 0., 0.],\n",
       "       [0., 0., 0., ..., 0., 0., 0.],\n",
       "       [0., 0., 0., ..., 0., 0., 0.],\n",
       "       ...,\n",
       "       [0., 0., 0., ..., 0., 0., 0.],\n",
       "       [0., 0., 0., ..., 0., 0., 0.],\n",
       "       [0., 0., 0., ..., 0., 0., 0.]], dtype=float32)"
      ]
     },
     "execution_count": 10,
     "metadata": {},
     "output_type": "execute_result"
    }
   ],
   "source": [
    "# one-hot 编码标签向量\n",
    "one_hot_train_labels = tf.keras.utils.to_categorical(train_labels)\n",
    "one_hot_test_labels = tf.keras.utils.to_categorical(test_labels)\n",
    "\n",
    "one_hot_train_labels"
   ]
  },
  {
   "cell_type": "markdown",
   "metadata": {},
   "source": [
    "<div class=\"alert alert-block alert-info\">\n",
    "\n",
    "<b>对于 Dense 层的堆叠，每层只能访问上一层输出的信息。如果每一层丢失了与任务（这里是分类问题）相关的一些信息，那么这些信息无法被后面的层找回，也就是说，每一层都可能成为信息瓶颈。</b>\n",
    "\n",
    "<b>较少维度的层可能会成为信息瓶颈，永久地丢失信息。</b>\n",
    "\n",
    "</div>"
   ]
  },
  {
   "cell_type": "code",
   "execution_count": 11,
   "metadata": {
    "ExecuteTime": {
     "end_time": "2020-04-07T16:14:36.715381Z",
     "start_time": "2020-04-07T16:14:36.664657Z"
    }
   },
   "outputs": [
    {
     "name": "stdout",
     "output_type": "stream",
     "text": [
      "Model: \"sequential\"\n",
      "_________________________________________________________________\n",
      "Layer (type)                 Output Shape              Param #   \n",
      "=================================================================\n",
      "dense (Dense)                (None, 64)                640064    \n",
      "_________________________________________________________________\n",
      "dense_1 (Dense)              (None, 64)                4160      \n",
      "_________________________________________________________________\n",
      "dense_2 (Dense)              (None, 46)                2990      \n",
      "=================================================================\n",
      "Total params: 647,214\n",
      "Trainable params: 647,214\n",
      "Non-trainable params: 0\n",
      "_________________________________________________________________\n"
     ]
    }
   ],
   "source": [
    "tf.keras.backend.clear_session()\n",
    "\n",
    "model = tf.keras.models.Sequential([\n",
    "    tf.keras.layers.Dense(64, activation='relu', input_shape=(10000, )),\n",
    "    tf.keras.layers.Dense(64, activation='relu'),\n",
    "    tf.keras.layers.Dense(46, activation='softmax')\n",
    "])\n",
    "\n",
    "model.summary()"
   ]
  },
  {
   "cell_type": "markdown",
   "metadata": {},
   "source": [
    "- NN 的最后一层 unit 等于 46。这意味着，对于每个输入 sample，NN 都会输出一个 46 维向量。这个向量的每个元素（每个维度）代表不同的输出类别。\n",
    "\n",
    "\n",
    "- NN 最后一层使用了 `activation='softmax'`。NN 将输出在 46 个不同输出类别上的**概率分布**——对于每一个输入 sample，NN 都会输出一个 46 维向量，其中 `output[i]` 是 sample 属于第 i 个类别的概率。46 个概率之和等于 1。"
   ]
  },
  {
   "cell_type": "markdown",
   "metadata": {},
   "source": [
    "这里，最好的损失函数是 categorical_crossentropy (分类交叉熵)。它用于衡量两个概率分布之间的距离，这里两个概率分布分别是 NN 输出的概率分布和真实标签的分布。通过将两个分布的距离最小化，训练 NN 可使输出结果尽可能接近真实标签。"
   ]
  },
  {
   "cell_type": "code",
   "execution_count": 12,
   "metadata": {
    "ExecuteTime": {
     "end_time": "2020-04-07T16:14:36.818785Z",
     "start_time": "2020-04-07T16:14:36.717316Z"
    }
   },
   "outputs": [],
   "source": [
    "model.compile(optimizer='rmsprop',\n",
    "              loss='categorical_crossentropy',\n",
    "              metrics=['acc'])"
   ]
  },
  {
   "cell_type": "code",
   "execution_count": 13,
   "metadata": {
    "ExecuteTime": {
     "end_time": "2020-04-07T16:14:36.824453Z",
     "start_time": "2020-04-07T16:14:36.820914Z"
    }
   },
   "outputs": [],
   "source": [
    "x_val = x_train[:1000]\n",
    "x_train_partial = x_train[1000:]\n",
    "\n",
    "y_val = one_hot_train_labels[:1000]\n",
    "y_train_partial = one_hot_train_labels[1000:]"
   ]
  },
  {
   "cell_type": "code",
   "execution_count": 14,
   "metadata": {
    "ExecuteTime": {
     "end_time": "2020-04-07T16:14:46.812772Z",
     "start_time": "2020-04-07T16:14:36.826888Z"
    },
    "scrolled": true
   },
   "outputs": [
    {
     "name": "stdout",
     "output_type": "stream",
     "text": [
      "Train on 7982 samples, validate on 1000 samples\n",
      "Epoch 1/20\n",
      "7982/7982 [==============================] - 1s 117us/sample - loss: 2.6639 - acc: 0.5500 - val_loss: 1.7440 - val_acc: 0.6560\n",
      "Epoch 2/20\n",
      "7982/7982 [==============================] - 0s 60us/sample - loss: 1.4056 - acc: 0.7111 - val_loss: 1.3053 - val_acc: 0.7100\n",
      "Epoch 3/20\n",
      "7982/7982 [==============================] - 0s 59us/sample - loss: 1.0433 - acc: 0.7762 - val_loss: 1.1426 - val_acc: 0.7480\n",
      "Epoch 4/20\n",
      "7982/7982 [==============================] - 0s 61us/sample - loss: 0.8306 - acc: 0.8225 - val_loss: 1.0451 - val_acc: 0.7760\n",
      "Epoch 5/20\n",
      "7982/7982 [==============================] - 0s 59us/sample - loss: 0.6646 - acc: 0.8616 - val_loss: 0.9732 - val_acc: 0.7920\n",
      "Epoch 6/20\n",
      "7982/7982 [==============================] - 0s 60us/sample - loss: 0.5332 - acc: 0.8890 - val_loss: 0.9425 - val_acc: 0.8080\n",
      "Epoch 7/20\n",
      "7982/7982 [==============================] - 0s 59us/sample - loss: 0.4308 - acc: 0.9074 - val_loss: 0.9322 - val_acc: 0.8060\n",
      "Epoch 8/20\n",
      "7982/7982 [==============================] - 0s 60us/sample - loss: 0.3524 - acc: 0.9217 - val_loss: 0.9074 - val_acc: 0.8140\n",
      "Epoch 9/20\n",
      "7982/7982 [==============================] - 0s 58us/sample - loss: 0.2906 - acc: 0.9367 - val_loss: 0.9120 - val_acc: 0.8070\n",
      "Epoch 10/20\n",
      "7982/7982 [==============================] - 0s 59us/sample - loss: 0.2476 - acc: 0.9424 - val_loss: 0.8923 - val_acc: 0.8250\n",
      "Epoch 11/20\n",
      "7982/7982 [==============================] - 0s 59us/sample - loss: 0.2125 - acc: 0.9483 - val_loss: 0.9485 - val_acc: 0.8080\n",
      "Epoch 12/20\n",
      "7982/7982 [==============================] - 0s 59us/sample - loss: 0.1886 - acc: 0.9519 - val_loss: 0.9300 - val_acc: 0.8170\n",
      "Epoch 13/20\n",
      "7982/7982 [==============================] - 0s 60us/sample - loss: 0.1747 - acc: 0.9528 - val_loss: 0.9628 - val_acc: 0.8110\n",
      "Epoch 14/20\n",
      "7982/7982 [==============================] - 1s 63us/sample - loss: 0.1560 - acc: 0.9551 - val_loss: 0.9783 - val_acc: 0.8090\n",
      "Epoch 15/20\n",
      "7982/7982 [==============================] - 0s 59us/sample - loss: 0.1434 - acc: 0.9557 - val_loss: 0.9751 - val_acc: 0.8090\n",
      "Epoch 16/20\n",
      "7982/7982 [==============================] - 0s 59us/sample - loss: 0.1326 - acc: 0.9559 - val_loss: 1.0060 - val_acc: 0.8090\n",
      "Epoch 17/20\n",
      "7982/7982 [==============================] - 0s 58us/sample - loss: 0.1283 - acc: 0.9588 - val_loss: 1.0253 - val_acc: 0.8080\n",
      "Epoch 18/20\n",
      "7982/7982 [==============================] - 0s 58us/sample - loss: 0.1246 - acc: 0.9568 - val_loss: 1.0410 - val_acc: 0.8070\n",
      "Epoch 19/20\n",
      "7982/7982 [==============================] - 0s 59us/sample - loss: 0.1190 - acc: 0.9565 - val_loss: 1.0356 - val_acc: 0.8180\n",
      "Epoch 20/20\n",
      "7982/7982 [==============================] - 0s 56us/sample - loss: 0.1138 - acc: 0.9575 - val_loss: 1.0487 - val_acc: 0.8100\n"
     ]
    }
   ],
   "source": [
    "history = model.fit(x_train_partial,\n",
    "                    y_train_partial,\n",
    "                    epochs=20,\n",
    "                    batch_size=512,\n",
    "                    validation_data=(x_val, y_val))"
   ]
  },
  {
   "cell_type": "code",
   "execution_count": 15,
   "metadata": {
    "ExecuteTime": {
     "end_time": "2020-04-07T16:14:46.822703Z",
     "start_time": "2020-04-07T16:14:46.814590Z"
    },
    "code_folding": [
     0
    ]
   },
   "outputs": [],
   "source": [
    "def plot_history(history):\n",
    "    history_dict = history.history\n",
    "\n",
    "    loss_values = history_dict['loss']\n",
    "    val_loss_values = history_dict['val_loss']\n",
    "    acc = history_dict['acc']\n",
    "    val_acc = history_dict['val_acc']\n",
    "\n",
    "    epochs = [i + 1 for i in history.epoch]\n",
    "\n",
    "    # Plot the results\n",
    "    plt.figure(figsize=(12, 3.8))\n",
    "    plt.subplot(121)\n",
    "    plt.plot(epochs, loss_values, 'b-', label='Training loss')\n",
    "    plt.plot(epochs, val_loss_values, 'b.-', label='Val loss')\n",
    "    plt.xlabel('Epochs', fontsize=12)\n",
    "    plt.xticks(epochs)\n",
    "    plt.ylabel('Loss', fontsize=12)\n",
    "    plt.legend(fontsize=14)\n",
    "    plt.title('Training and validation loss', fontsize=16)\n",
    "\n",
    "    plt.subplot(122)\n",
    "    plt.plot(epochs, acc, 'b-', label='Training acc')\n",
    "    plt.plot(epochs, val_acc, 'b.-', label='Val acc')\n",
    "    plt.xlabel('Epochs', fontsize=12)\n",
    "    plt.xticks(epochs)\n",
    "    plt.ylabel('Acc', fontsize=12)\n",
    "    plt.legend(fontsize=14)\n",
    "    plt.title('Training and validation acc', fontsize=16)\n",
    "\n",
    "    plt.show()"
   ]
  },
  {
   "cell_type": "code",
   "execution_count": 16,
   "metadata": {
    "ExecuteTime": {
     "end_time": "2020-04-07T16:14:47.187291Z",
     "start_time": "2020-04-07T16:14:46.824754Z"
    }
   },
   "outputs": [
    {
     "data": {
      "image/png": "[encoded data removed]",
      "text/plain": [
       "<Figure size 864x273.6 with 2 Axes>"
      ]
     },
     "metadata": {
      "needs_background": "light"
     },
     "output_type": "display_data"
    }
   ],
   "source": [
    "plot_history(history)"
   ]
  },
  {
   "cell_type": "code",
   "execution_count": 17,
   "metadata": {
    "ExecuteTime": {
     "end_time": "2020-04-07T16:14:52.369551Z",
     "start_time": "2020-04-07T16:14:47.188718Z"
    },
    "scrolled": true
   },
   "outputs": [
    {
     "name": "stdout",
     "output_type": "stream",
     "text": [
      "Train on 7982 samples, validate on 1000 samples\n",
      "Epoch 1/10\n",
      "7982/7982 [==============================] - 1s 109us/sample - loss: 2.6296 - acc: 0.5152 - val_loss: 1.7666 - val_acc: 0.6420\n",
      "Epoch 2/10\n",
      "7982/7982 [==============================] - 0s 60us/sample - loss: 1.4543 - acc: 0.6993 - val_loss: 1.3443 - val_acc: 0.7080\n",
      "Epoch 3/10\n",
      "7982/7982 [==============================] - 0s 58us/sample - loss: 1.0901 - acc: 0.7590 - val_loss: 1.1852 - val_acc: 0.7360\n",
      "Epoch 4/10\n",
      "7982/7982 [==============================] - 0s 58us/sample - loss: 0.8647 - acc: 0.8067 - val_loss: 1.0512 - val_acc: 0.7700\n",
      "Epoch 5/10\n",
      "7982/7982 [==============================] - 0s 58us/sample - loss: 0.6879 - acc: 0.8507 - val_loss: 0.9809 - val_acc: 0.7860\n",
      "Epoch 6/10\n",
      "7982/7982 [==============================] - 0s 60us/sample - loss: 0.5500 - acc: 0.8849 - val_loss: 0.9449 - val_acc: 0.8010\n",
      "Epoch 7/10\n",
      "7982/7982 [==============================] - 0s 59us/sample - loss: 0.4412 - acc: 0.9085 - val_loss: 0.9317 - val_acc: 0.7990\n",
      "Epoch 8/10\n",
      "7982/7982 [==============================] - 0s 61us/sample - loss: 0.3593 - acc: 0.9237 - val_loss: 0.9053 - val_acc: 0.8080\n",
      "Epoch 9/10\n",
      "7982/7982 [==============================] - 0s 58us/sample - loss: 0.2943 - acc: 0.9384 - val_loss: 0.9466 - val_acc: 0.7950\n",
      "Epoch 10/10\n",
      "7982/7982 [==============================] - 0s 56us/sample - loss: 0.2473 - acc: 0.9448 - val_loss: 0.9091 - val_acc: 0.8170\n"
     ]
    }
   ],
   "source": [
    "tf.keras.backend.clear_session()\n",
    "\n",
    "model = tf.keras.models.Sequential([\n",
    "    tf.keras.layers.Dense(64, activation='relu', input_shape=(10000, )),\n",
    "    tf.keras.layers.Dense(64, activation='relu'),\n",
    "    tf.keras.layers.Dense(46, activation='softmax')\n",
    "])\n",
    "\n",
    "model.compile(optimizer='rmsprop',\n",
    "              loss='categorical_crossentropy',\n",
    "              metrics=['acc'])\n",
    "\n",
    "history = model.fit(x_train_partial,\n",
    "                    y_train_partial,\n",
    "                    epochs=10,\n",
    "                    batch_size=512,\n",
    "                    validation_data=(x_val, y_val))"
   ]
  },
  {
   "cell_type": "code",
   "execution_count": 18,
   "metadata": {
    "ExecuteTime": {
     "end_time": "2020-04-07T16:14:52.549913Z",
     "start_time": "2020-04-07T16:14:52.371690Z"
    }
   },
   "outputs": [
    {
     "name": "stdout",
     "output_type": "stream",
     "text": [
      "2246/2246 [==============================] - 0s 64us/sample - loss: 0.9854 - acc: 0.7925\n"
     ]
    },
    {
     "data": {
      "text/plain": [
       "[0.9853821959966862, 0.79252005]"
      ]
     },
     "execution_count": 18,
     "metadata": {},
     "output_type": "execute_result"
    }
   ],
   "source": [
    "model.evaluate(x_test, one_hot_test_labels)"
   ]
  },
  {
   "cell_type": "code",
   "execution_count": 19,
   "metadata": {
    "ExecuteTime": {
     "end_time": "2020-04-07T16:14:52.693985Z",
     "start_time": "2020-04-07T16:14:52.551849Z"
    }
   },
   "outputs": [
    {
     "data": {
      "text/plain": [
       "array([[4.44875477e-05, 1.85873374e-04, 6.20270248e-06, ...,\n",
       "        8.25476582e-06, 2.10961971e-05, 1.82922322e-05],\n",
       "       [6.90973684e-05, 3.17298993e-02, 3.29482311e-04, ...,\n",
       "        1.40733377e-04, 2.63011543e-06, 1.14206330e-06],\n",
       "       [1.32739721e-02, 7.74432003e-01, 2.80826865e-03, ...,\n",
       "        2.03787023e-03, 2.02137977e-04, 1.16374751e-03],\n",
       "       ...,\n",
       "       [9.87706972e-06, 9.35939388e-05, 1.21390085e-05, ...,\n",
       "        5.43538590e-06, 1.44443011e-05, 3.85730527e-05],\n",
       "       [1.86800933e-03, 5.47020882e-02, 3.58297955e-03, ...,\n",
       "        6.30377093e-04, 5.19052555e-04, 1.28232955e-03],\n",
       "       [1.12106546e-03, 5.19490719e-01, 7.18290824e-03, ...,\n",
       "        6.07172085e-04, 2.18282275e-05, 6.05964524e-05]], dtype=float32)"
      ]
     },
     "execution_count": 19,
     "metadata": {},
     "output_type": "execute_result"
    }
   ],
   "source": [
    "model.predict(x_test)  # 每个 sample 返回 46 个主题的概率"
   ]
  },
  {
   "cell_type": "code",
   "execution_count": 20,
   "metadata": {
    "ExecuteTime": {
     "end_time": "2020-04-07T16:14:52.700826Z",
     "start_time": "2020-04-07T16:14:52.695869Z"
    }
   },
   "outputs": [
    {
     "data": {
      "text/plain": [
       "0.18432769367764915"
      ]
     },
     "execution_count": 20,
     "metadata": {},
     "output_type": "execute_result"
    }
   ],
   "source": [
    "# Random classification\n",
    "import copy\n",
    "\n",
    "test_labels_copy = copy.copy(test_labels)\n",
    "np.random.shuffle(test_labels_copy)\n",
    "\n",
    "hist_array = np.array(test_labels) == np.array(test_labels_copy)\n",
    "float(np.sum(hist_array)) / len(test_labels)"
   ]
  },
  {
   "cell_type": "markdown",
   "metadata": {},
   "source": [
    "**<font color='blue'>标签向量化——转换为整数张量</font>**"
   ]
  },
  {
   "cell_type": "code",
   "execution_count": 21,
   "metadata": {
    "ExecuteTime": {
     "end_time": "2020-04-07T16:14:52.705986Z",
     "start_time": "2020-04-07T16:14:52.702499Z"
    }
   },
   "outputs": [
    {
     "data": {
      "text/plain": [
       "array([ 3,  4,  3, ..., 25,  3, 25])"
      ]
     },
     "execution_count": 21,
     "metadata": {},
     "output_type": "execute_result"
    }
   ],
   "source": [
    "train_labels"
   ]
  },
  {
   "cell_type": "code",
   "execution_count": 22,
   "metadata": {
    "ExecuteTime": {
     "end_time": "2020-04-07T16:14:52.712922Z",
     "start_time": "2020-04-07T16:14:52.708301Z"
    }
   },
   "outputs": [
    {
     "data": {
      "text/plain": [
       "array([ 3,  4,  3, ..., 25,  3, 25])"
      ]
     },
     "execution_count": 22,
     "metadata": {},
     "output_type": "execute_result"
    }
   ],
   "source": [
    "y_train = np.array(train_labels)\n",
    "y_test = np.array(test_labels)\n",
    "\n",
    "y_train"
   ]
  },
  {
   "cell_type": "markdown",
   "metadata": {},
   "source": [
    "**唯一需要修改的是损失函数。整数标签应该使用 `sparse_categorical_crossentropy`，不是 `categorical_crossentropy`。**"
   ]
  },
  {
   "cell_type": "code",
   "execution_count": 23,
   "metadata": {
    "ExecuteTime": {
     "end_time": "2020-04-07T16:14:58.830225Z",
     "start_time": "2020-04-07T16:14:52.714699Z"
    }
   },
   "outputs": [
    {
     "name": "stdout",
     "output_type": "stream",
     "text": [
      "Train on 8982 samples, validate on 2246 samples\n",
      "Epoch 1/10\n",
      "8982/8982 [==============================] - 1s 105us/sample - loss: 2.4703 - acc: 0.5183 - val_loss: 1.6553 - val_acc: 0.6643\n",
      "Epoch 2/10\n",
      "8982/8982 [==============================] - 1s 62us/sample - loss: 1.3285 - acc: 0.7240 - val_loss: 1.2805 - val_acc: 0.7195\n",
      "Epoch 3/10\n",
      "8982/8982 [==============================] - 1s 64us/sample - loss: 0.9748 - acc: 0.7935 - val_loss: 1.1258 - val_acc: 0.7471\n",
      "Epoch 4/10\n",
      "8982/8982 [==============================] - 1s 63us/sample - loss: 0.7617 - acc: 0.8410 - val_loss: 1.0331 - val_acc: 0.7716\n",
      "Epoch 5/10\n",
      "8982/8982 [==============================] - 1s 64us/sample - loss: 0.6042 - acc: 0.8792 - val_loss: 0.9778 - val_acc: 0.7867\n",
      "Epoch 6/10\n",
      "8982/8982 [==============================] - 1s 63us/sample - loss: 0.4829 - acc: 0.9017 - val_loss: 0.9356 - val_acc: 0.7939\n",
      "Epoch 7/10\n",
      "8982/8982 [==============================] - 1s 62us/sample - loss: 0.3924 - acc: 0.9167 - val_loss: 0.9471 - val_acc: 0.7903\n",
      "Epoch 8/10\n",
      "8982/8982 [==============================] - 1s 63us/sample - loss: 0.3203 - acc: 0.9319 - val_loss: 0.9453 - val_acc: 0.7947\n",
      "Epoch 9/10\n",
      "8982/8982 [==============================] - 1s 64us/sample - loss: 0.2697 - acc: 0.9395 - val_loss: 0.9529 - val_acc: 0.7943\n",
      "Epoch 10/10\n",
      "8982/8982 [==============================] - 1s 61us/sample - loss: 0.2314 - acc: 0.9450 - val_loss: 1.0357 - val_acc: 0.7836\n"
     ]
    }
   ],
   "source": [
    "tf.keras.backend.clear_session()\n",
    "\n",
    "model = tf.keras.models.Sequential([\n",
    "    tf.keras.layers.Dense(64, activation='relu', input_shape=(10000, )),\n",
    "    tf.keras.layers.Dense(64, activation='relu'),\n",
    "    tf.keras.layers.Dense(46, activation='softmax')\n",
    "])\n",
    "\n",
    "model.compile(\n",
    "    optimizer='rmsprop',\n",
    "    loss='sparse_categorical_crossentropy',  # Notice here!\n",
    "    metrics=['acc'])\n",
    "\n",
    "history = model.fit(x_train,\n",
    "                    y_train,\n",
    "                    epochs=10,\n",
    "                    batch_size=512,\n",
    "                    validation_data=(x_test, y_test))"
   ]
  },
  {
   "cell_type": "markdown",
   "metadata": {},
   "source": [
    "**<font color='crimson'>Summary:</font>**\n",
    "\n",
    "- 如果要对 N 个类别进行分类，NN 最后一层应该使用 `Dense(N, activation='softmax')`，这样可以输出在 N 个类别上的概率分布。\n",
    "\n",
    "\n",
    "- multiclass clf 的损失函数几乎总是分类交叉熵。\n",
    "\n",
    "\n",
    "- multiclass clf 问题的标签处理方法：\n",
    "\n",
    "  - 对标签进行 one-hot 编码，然后使用 `loss='categorical_crossentropy'`；\n",
    "  \n",
    "  - 将标签编码为整数，然后使用 `loss='sparse_categorical_crossentropy'`。\n",
    "\n",
    "\n",
    "- 如果需要将数据划分到 N 个类别中，应该避免使用维度较少的中间层，以免在 NN 中造成信息瓶颈。"
   ]
  }
 ],
 "metadata": {
  "kernelspec": {
   "display_name": "Python 3",
   "language": "python",
   "name": "python3"
  },
  "language_info": {
   "codemirror_mode": {
    "name": "ipython",
    "version": 3
   },
   "file_extension": ".py",
   "mimetype": "text/x-python",
   "name": "python",
   "nbconvert_exporter": "python",
   "pygments_lexer": "ipython3",
   "version": "3.6.9"
  },
  "toc": {
   "base_numbering": 1,
   "nav_menu": {},
   "number_sections": true,
   "sideBar": true,
   "skip_h1_title": false,
   "title_cell": "Table of Contents",
   "title_sidebar": "Contents",
   "toc_cell": false,
   "toc_position": {},
   "toc_section_display": true,
   "toc_window_display": false
  },
  "varInspector": {
   "cols": {
    "lenName": 16,
    "lenType": 16,
    "lenVar": 40
   },
   "kernels_config": {
    "python": {
     "delete_cmd_postfix": "",
     "delete_cmd_prefix": "del ",
     "library": "var_list.py",
     "varRefreshCmd": "print(var_dic_list())"
    },
    "r": {
     "delete_cmd_postfix": ") ",
     "delete_cmd_prefix": "rm(",
     "library": "var_list.r",
     "varRefreshCmd": "cat(var_dic_list()) "
    }
   },
   "types_to_exclude": [
    "module",
    "function",
    "builtin_function_or_method",
    "instance",
    "_Feature"
   ],
   "window_display": false
  }
 },
 "nbformat": 4,
 "nbformat_minor": 2
}
