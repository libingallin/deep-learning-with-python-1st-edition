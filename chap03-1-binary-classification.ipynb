{
 "cells": [
  {
   "cell_type": "markdown",
   "metadata": {},
   "source": [
    "# 电影评论 (IMDB) 二分类"
   ]
  },
  {
   "cell_type": "code",
   "execution_count": 1,
   "metadata": {
    "ExecuteTime": {
     "end_time": "2020-04-07T15:11:35.920841Z",
     "start_time": "2020-04-07T15:11:32.389219Z"
    }
   },
   "outputs": [],
   "source": [
    "import matplotlib.pyplot as plt\n",
    "import numpy as np\n",
    "import tensorflow as tf\n",
    "\n",
    "%matplotlib inline\n",
    "\n",
    "np.random.seed(42)\n",
    "tf.random.set_seed(42)"
   ]
  },
  {
   "cell_type": "code",
   "execution_count": 2,
   "metadata": {
    "ExecuteTime": {
     "end_time": "2020-04-07T15:11:35.927329Z",
     "start_time": "2020-04-07T15:11:35.922914Z"
    }
   },
   "outputs": [
    {
     "data": {
      "text/plain": [
       "'2.1.0'"
      ]
     },
     "execution_count": 2,
     "metadata": {},
     "output_type": "execute_result"
    }
   ],
   "source": [
    "tf.__version__"
   ]
  },
  {
   "cell_type": "markdown",
   "metadata": {
    "ExecuteTime": {
     "end_time": "2020-04-07T12:05:09.657862Z",
     "start_time": "2020-04-07T12:05:09.230895Z"
    }
   },
   "source": [
    "使用 IMDB 数据集，其含有 50000 条严重两极化的评论。"
   ]
  },
  {
   "cell_type": "code",
   "execution_count": 3,
   "metadata": {
    "ExecuteTime": {
     "end_time": "2020-04-07T15:11:40.182119Z",
     "start_time": "2020-04-07T15:11:35.929922Z"
    }
   },
   "outputs": [],
   "source": [
    "# Load the IMDB data\n",
    "(train_data, train_labels), (test_data, test_labels) = tf.keras.datasets.imdb.load_data(\n",
    "    # 仅保留训练集中前 10000 个最常出现的单词，低频单词将被舍弃\n",
    "    num_words=10000)"
   ]
  },
  {
   "cell_type": "code",
   "execution_count": 4,
   "metadata": {
    "ExecuteTime": {
     "end_time": "2020-04-07T15:11:40.188733Z",
     "start_time": "2020-04-07T15:11:40.184878Z"
    }
   },
   "outputs": [
    {
     "data": {
      "text/plain": [
       "((25000,), (25000,))"
      ]
     },
     "execution_count": 4,
     "metadata": {},
     "output_type": "execute_result"
    }
   ],
   "source": [
    "train_data.shape, test_data.shape"
   ]
  },
  {
   "cell_type": "markdown",
   "metadata": {},
   "source": [
    "每条评论都是单词索引组成的 list。"
   ]
  },
  {
   "cell_type": "code",
   "execution_count": 5,
   "metadata": {
    "ExecuteTime": {
     "end_time": "2020-04-07T15:11:40.193397Z",
     "start_time": "2020-04-07T15:11:40.190739Z"
    }
   },
   "outputs": [
    {
     "name": "stdout",
     "output_type": "stream",
     "text": [
      "[1, 14, 22, 16, 43, 530, 973, 1622, 1385, 65, 458, 4468, 66, 3941, 4, 173, 36, 256, 5, 25, 100, 43, 838, 112, 50, 670, 2, 9, 35, 480, 284, 5, 150, 4, 172, 112, 167, 2, 336, 385, 39, 4, 172, 4536, 1111, 17, 546, 38, 13, 447, 4, 192, 50, 16, 6, 147, 2025, 19, 14, 22, 4, 1920, 4613, 469, 4, 22, 71, 87, 12, 16, 43, 530, 38, 76, 15, 13, 1247, 4, 22, 17, 515, 17, 12, 16, 626, 18, 2, 5, 62, 386, 12, 8, 316, 8, 106, 5, 4, 2223, 5244, 16, 480, 66, 3785, 33, 4, 130, 12, 16, 38, 619, 5, 25, 124, 51, 36, 135, 48, 25, 1415, 33, 6, 22, 12, 215, 28, 77, 52, 5, 14, 407, 16, 82, 2, 8, 4, 107, 117, 5952, 15, 256, 4, 2, 7, 3766, 5, 723, 36, 71, 43, 530, 476, 26, 400, 317, 46, 7, 4, 2, 1029, 13, 104, 88, 4, 381, 15, 297, 98, 32, 2071, 56, 26, 141, 6, 194, 7486, 18, 4, 226, 22, 21, 134, 476, 26, 480, 5, 144, 30, 5535, 18, 51, 36, 28, 224, 92, 25, 104, 4, 226, 65, 16, 38, 1334, 88, 12, 16, 283, 5, 16, 4472, 113, 103, 32, 15, 16, 5345, 19, 178, 32]\n"
     ]
    }
   ],
   "source": [
    "print(train_data[0])"
   ]
  },
  {
   "cell_type": "code",
   "execution_count": 6,
   "metadata": {
    "ExecuteTime": {
     "end_time": "2020-04-07T15:11:40.198354Z",
     "start_time": "2020-04-07T15:11:40.195096Z"
    }
   },
   "outputs": [
    {
     "data": {
      "text/plain": [
       "array([1, 0, 0, ..., 0, 1, 0])"
      ]
     },
     "execution_count": 6,
     "metadata": {},
     "output_type": "execute_result"
    }
   ],
   "source": [
    "train_labels  # 0-negative/1-positive"
   ]
  },
  {
   "cell_type": "code",
   "execution_count": 7,
   "metadata": {
    "ExecuteTime": {
     "end_time": "2020-04-07T15:11:40.301231Z",
     "start_time": "2020-04-07T15:11:40.200016Z"
    }
   },
   "outputs": [
    {
     "data": {
      "text/plain": [
       "9999"
      ]
     },
     "execution_count": 7,
     "metadata": {},
     "output_type": "execute_result"
    }
   ],
   "source": [
    "# 由于限定为前 10000 个最常出现的单词，所以单词索引不会超过 10000\n",
    "max([max(seq) for seq in train_data])"
   ]
  },
  {
   "cell_type": "code",
   "execution_count": 8,
   "metadata": {
    "ExecuteTime": {
     "end_time": "2020-04-07T15:11:40.355309Z",
     "start_time": "2020-04-07T15:11:40.302904Z"
    },
    "scrolled": true
   },
   "outputs": [
    {
     "name": "stdout",
     "output_type": "stream",
     "text": [
      "fawn 34701\n",
      "tsukino 52006\n",
      "nunnery 52007\n",
      "sonja 16816\n",
      "vani 63951\n"
     ]
    }
   ],
   "source": [
    "# Retrieves the dictionary mapping word indices back to words.\n",
    "i = 0\n",
    "# word 与 index 的对应关系 (dict)\n",
    "word_index = tf.keras.datasets.imdb.get_word_index()\n",
    "for (word, index) in word_index.items():\n",
    "    print(word, index)\n",
    "    i += 1\n",
    "    if i == 5:\n",
    "        break"
   ]
  },
  {
   "cell_type": "code",
   "execution_count": 9,
   "metadata": {
    "ExecuteTime": {
     "end_time": "2020-04-07T15:11:40.401315Z",
     "start_time": "2020-04-07T15:11:40.359528Z"
    }
   },
   "outputs": [
    {
     "data": {
      "text/plain": [
       "\"? this film was just brilliant casting location scenery story direction everyone's really suited the part they played and you could just imagine being there robert ? is an amazing actor and now the same being director ? father came from the same scottish island as myself so i loved the fact there was a real connection with this film the witty remarks throughout the film were great it was just brilliant so much that i bought the film as soon as it was released for ? and would recommend it to everyone to watch and the fly fishing was amazing really cried at the end it was so sad and you know what they say if you cry at a film it must have been good and this definitely was also ? to the two little boy's that played the ? of norman and paul they were just brilliant children are often left out of the ? list i think because the stars that play them all grown up are such a big profile for the whole film but these children are amazing and should be praised for what they have done don't you think the whole story was so lovely because it was true and was someone's life after all that was shared with us all\""
      ]
     },
     "execution_count": 9,
     "metadata": {},
     "output_type": "execute_result"
    }
   ],
   "source": [
    "index_word = dict([(value, key) for (key, value) in word_index.items()])\n",
    "# 训练集中第一条评论还原\n",
    "decoded_reviews = ' '.join([index_word.get(i-3, '?') for i in train_data[0]])\n",
    "decoded_reviews"
   ]
  },
  {
   "cell_type": "markdown",
   "metadata": {},
   "source": [
    "index 减去 3，是因为0、1、2分别是为\"padding\"（填充）、\"start of sequence\" （序列开始）、\"unknown\"（未知词）保留的 index。"
   ]
  },
  {
   "cell_type": "markdown",
   "metadata": {},
   "source": [
    "**不能将整数序列直接输入到 NN 中，需要将 list 转换为 tensor。**有 2 种方法：\n",
    "\n",
    "1. 填充 list，使其具有相同的长度，再将列表转换为 `(samples, word_indices)` 的整数 tensor，然后 NN 第一层使用能处理这种整数张量的层（**`Embedding`** 层）。\n",
    "\n",
    "2. 对 list 进行 one-hot 编码，将其转化为 0 和 1 组成的向量。然后 NN 第一层可以使用 **`Dense`** 层，它能够处理浮点数向量数据。"
   ]
  },
  {
   "cell_type": "code",
   "execution_count": 10,
   "metadata": {
    "ExecuteTime": {
     "end_time": "2020-04-07T15:11:42.361473Z",
     "start_time": "2020-04-07T15:11:40.404399Z"
    }
   },
   "outputs": [],
   "source": [
    "def vectorize_sequence(sequences, dimension=10000):\n",
    "    result = np.zeros(shape=(len(sequences), dimension))\n",
    "    for i, seq in enumerate(sequences):\n",
    "        result[i, seq] = 1.\n",
    "    return result\n",
    "\n",
    "\n",
    "x_train = vectorize_sequence(train_data)  # 训练数据向量化\n",
    "x_test = vectorize_sequence(test_data)    # 测试数据向量化"
   ]
  },
  {
   "cell_type": "code",
   "execution_count": 11,
   "metadata": {
    "ExecuteTime": {
     "end_time": "2020-04-07T15:11:42.367165Z",
     "start_time": "2020-04-07T15:11:42.363129Z"
    }
   },
   "outputs": [
    {
     "data": {
      "text/plain": [
       "array([0., 1., 1., ..., 0., 0., 0.])"
      ]
     },
     "execution_count": 11,
     "metadata": {},
     "output_type": "execute_result"
    }
   ],
   "source": [
    "x_train[0]"
   ]
  },
  {
   "cell_type": "code",
   "execution_count": 12,
   "metadata": {
    "ExecuteTime": {
     "end_time": "2020-04-07T15:11:42.373523Z",
     "start_time": "2020-04-07T15:11:42.369024Z"
    }
   },
   "outputs": [
    {
     "data": {
      "text/plain": [
       "array([1., 0., 0., ..., 0., 1., 0.], dtype=float32)"
      ]
     },
     "execution_count": 12,
     "metadata": {},
     "output_type": "execute_result"
    }
   ],
   "source": [
    "# 将标签向量化\n",
    "y_train = np.asarray(train_labels).astype('float32')\n",
    "y_test = np.asarray(test_labels).astype('float32')\n",
    "\n",
    "y_train"
   ]
  },
  {
   "cell_type": "markdown",
   "metadata": {
    "ExecuteTime": {
     "end_time": "2020-04-07T13:37:01.112138Z",
     "start_time": "2020-04-07T13:37:01.108802Z"
    }
   },
   "source": [
    "这种情况可以使用 `Dense(16, activation='relu')`。\n",
    "\n",
    "16 个 hidden units 对应的 weights 形状为 `(input_dimenson, 16)`，与 weights 做点积相当于将输入数据投影到 16 维空间中。**<font color='red'>表示空间</font>**可以直观地理解为“NN 学习内部表示时所拥有的自由度”。hidden units 越多（更高维的表示空间），NN 越能够学到更加复杂的表示，但 NN 的计算代价也更大，而且可能会导致过拟合。\n",
    "\n",
    "**<font color='crimson'>使用 Dense 层堆叠的 NN，需要确定</font>**\n",
    "\n",
    "- NN 有多少层\n",
    "\n",
    "\n",
    "- 每层有多少个 hidden units"
   ]
  },
  {
   "cell_type": "code",
   "execution_count": 13,
   "metadata": {
    "ExecuteTime": {
     "end_time": "2020-04-07T15:11:42.429779Z",
     "start_time": "2020-04-07T15:11:42.375032Z"
    }
   },
   "outputs": [
    {
     "name": "stdout",
     "output_type": "stream",
     "text": [
      "Model: \"sequential\"\n",
      "_________________________________________________________________\n",
      "Layer (type)                 Output Shape              Param #   \n",
      "=================================================================\n",
      "dense (Dense)                (None, 16)                160016    \n",
      "_________________________________________________________________\n",
      "dense_1 (Dense)              (None, 16)                272       \n",
      "_________________________________________________________________\n",
      "dense_2 (Dense)              (None, 1)                 17        \n",
      "=================================================================\n",
      "Total params: 160,305\n",
      "Trainable params: 160,305\n",
      "Non-trainable params: 0\n",
      "_________________________________________________________________\n"
     ]
    }
   ],
   "source": [
    "tf.keras.backend.clear_session()\n",
    "\n",
    "model = tf.keras.models.Sequential()\n",
    "# now the model will take as input arrays of shape (*, 10000)\n",
    "# and output arrays of shape (*, 16)\n",
    "model.add(tf.keras.layers.Dense(16, activation='relu', input_shape=(10000, )))\n",
    "# after the first layer, you don't need to specify the size of the input anymore:\n",
    "model.add(tf.keras.layers.Dense(16, activation='relu'))\n",
    "model.add(tf.keras.layers.Dense(1, activation='sigmoid'))\n",
    "\n",
    "model.summary()"
   ]
  },
  {
   "cell_type": "code",
   "execution_count": 14,
   "metadata": {
    "ExecuteTime": {
     "end_time": "2020-04-07T15:11:42.527274Z",
     "start_time": "2020-04-07T15:11:42.431515Z"
    }
   },
   "outputs": [
    {
     "data": {
      "image/png": "[encoded data removed]",
      "text/plain": [
       "<IPython.core.display.Image object>"
      ]
     },
     "execution_count": 14,
     "metadata": {},
     "output_type": "execute_result"
    }
   ],
   "source": [
    "# Converts a Keras model to dot format and save to a file.\n",
    "tf.keras.utils.plot_model(model, 'figs/chap03-figs/model_1.png', show_shapes=True)"
   ]
  },
  {
   "cell_type": "markdown",
   "metadata": {},
   "source": [
    "<div class=\"alert alert-blokc alert-info\">\n",
    "    <center><b>为什么使用 activation?</b></center>\n",
    "\n",
    "如果没有 activation，Dense 层只包含 2 个线性运算——点积和加法。这样 Dense 层只能学习输入数据的<b>线性变换</b> (仿射变换)：该层的假设空间是从输入数据到 16 维空间所有可能的线性变换合集。这种假设空间非常有限，无法利用多个表示层的优势，因为多个线性层堆叠实现的仍然是线性运算，添加层数并不会扩展假设空间。\n",
    "\n",
    "为了得到更加丰富的假设空间，从而充分利用多层表示的优势，需要添加非线性或激活函数。\n",
    "</div>"
   ]
  },
  {
   "cell_type": "markdown",
   "metadata": {},
   "source": [
    "这是一个二分类问题，NN 输出是一个概率，那么最好使用 `binary_crossentropy` 损失。\n",
    "\n",
    "对于输出概率值的模型，**<font color='red'>交叉熵 (crossentropy)</font>**往往是最好的选择，其**用于衡量概率分布之间的距离**。"
   ]
  },
  {
   "cell_type": "code",
   "execution_count": 15,
   "metadata": {
    "ExecuteTime": {
     "end_time": "2020-04-07T15:11:42.565487Z",
     "start_time": "2020-04-07T15:11:42.529147Z"
    }
   },
   "outputs": [],
   "source": [
    "model.compile(optimizer='rmsprop',\n",
    "              loss='binary_crossentropy',\n",
    "              metrics=['acc'])"
   ]
  },
  {
   "cell_type": "code",
   "execution_count": 16,
   "metadata": {
    "ExecuteTime": {
     "end_time": "2020-04-07T15:11:42.595951Z",
     "start_time": "2020-04-07T15:11:42.567305Z"
    }
   },
   "outputs": [],
   "source": [
    "# Or\n",
    "model.compile(optimizer=tf.keras.optimizers.RMSprop(lr=0.001),\n",
    "              loss=tf.keras.losses.binary_crossentropy,\n",
    "              metrics=[tf.keras.metrics.binary_accuracy])"
   ]
  },
  {
   "cell_type": "code",
   "execution_count": 17,
   "metadata": {
    "ExecuteTime": {
     "end_time": "2020-04-07T15:12:04.935894Z",
     "start_time": "2020-04-07T15:11:42.597720Z"
    },
    "scrolled": true
   },
   "outputs": [
    {
     "name": "stdout",
     "output_type": "stream",
     "text": [
      "Train on 15000 samples, validate on 10000 samples\n",
      "Epoch 1/20\n",
      "15000/15000 [==============================] - 2s 137us/sample - loss: 0.5074 - acc: 0.7865 - val_loss: 0.3852 - val_acc: 0.8614\n",
      "Epoch 2/20\n",
      "15000/15000 [==============================] - 1s 70us/sample - loss: 0.2972 - acc: 0.9035 - val_loss: 0.2995 - val_acc: 0.8910\n",
      "Epoch 3/20\n",
      "15000/15000 [==============================] - 1s 71us/sample - loss: 0.2169 - acc: 0.9290 - val_loss: 0.2777 - val_acc: 0.8917\n",
      "Epoch 4/20\n",
      "15000/15000 [==============================] - 1s 71us/sample - loss: 0.1737 - acc: 0.9439 - val_loss: 0.2892 - val_acc: 0.8825\n",
      "Epoch 5/20\n",
      "15000/15000 [==============================] - 1s 71us/sample - loss: 0.1377 - acc: 0.9557 - val_loss: 0.2908 - val_acc: 0.8817\n",
      "Epoch 6/20\n",
      "15000/15000 [==============================] - 1s 71us/sample - loss: 0.1132 - acc: 0.9650 - val_loss: 0.2983 - val_acc: 0.8838\n",
      "Epoch 7/20\n",
      "15000/15000 [==============================] - 1s 71us/sample - loss: 0.0920 - acc: 0.9735 - val_loss: 0.3406 - val_acc: 0.8745\n",
      "Epoch 8/20\n",
      "15000/15000 [==============================] - 1s 73us/sample - loss: 0.0784 - acc: 0.9785 - val_loss: 0.3407 - val_acc: 0.8768\n",
      "Epoch 9/20\n",
      "15000/15000 [==============================] - 1s 72us/sample - loss: 0.0617 - acc: 0.9840 - val_loss: 0.3641 - val_acc: 0.8796\n",
      "Epoch 10/20\n",
      "15000/15000 [==============================] - 1s 71us/sample - loss: 0.0503 - acc: 0.9888 - val_loss: 0.3831 - val_acc: 0.8775\n",
      "Epoch 11/20\n",
      "15000/15000 [==============================] - 1s 71us/sample - loss: 0.0440 - acc: 0.9893 - val_loss: 0.4122 - val_acc: 0.8746\n",
      "Epoch 12/20\n",
      "15000/15000 [==============================] - 1s 72us/sample - loss: 0.0306 - acc: 0.9939 - val_loss: 0.4393 - val_acc: 0.8733\n",
      "Epoch 13/20\n",
      "15000/15000 [==============================] - 1s 70us/sample - loss: 0.0254 - acc: 0.9954 - val_loss: 0.4712 - val_acc: 0.8758\n",
      "Epoch 14/20\n",
      "15000/15000 [==============================] - 1s 70us/sample - loss: 0.0216 - acc: 0.9957 - val_loss: 0.5071 - val_acc: 0.8713\n",
      "Epoch 15/20\n",
      "15000/15000 [==============================] - 1s 71us/sample - loss: 0.0165 - acc: 0.9979 - val_loss: 0.5515 - val_acc: 0.8651\n",
      "Epoch 16/20\n",
      "15000/15000 [==============================] - 1s 71us/sample - loss: 0.0156 - acc: 0.9971 - val_loss: 0.5672 - val_acc: 0.8707\n",
      "Epoch 17/20\n",
      "15000/15000 [==============================] - 1s 71us/sample - loss: 0.0074 - acc: 0.9997 - val_loss: 0.6010 - val_acc: 0.8698\n",
      "Epoch 18/20\n",
      "15000/15000 [==============================] - 1s 72us/sample - loss: 0.0109 - acc: 0.9981 - val_loss: 0.6290 - val_acc: 0.8692\n",
      "Epoch 19/20\n",
      "15000/15000 [==============================] - 1s 72us/sample - loss: 0.0062 - acc: 0.9995 - val_loss: 0.7261 - val_acc: 0.8582\n",
      "Epoch 20/20\n",
      "15000/15000 [==============================] - 1s 65us/sample - loss: 0.0038 - acc: 0.9999 - val_loss: 0.7002 - val_acc: 0.8624\n"
     ]
    }
   ],
   "source": [
    "x_val = x_train[:10000]\n",
    "x_train_partial = x_train[10000:]\n",
    "\n",
    "y_val = y_train[:10000]\n",
    "y_train_partial = y_train[10000:]\n",
    "\n",
    "model.compile(optimizer='rmsprop',\n",
    "              loss='binary_crossentropy',\n",
    "              metrics=['acc'])\n",
    "\n",
    "history = model.fit(x_train_partial,\n",
    "                    y_train_partial,\n",
    "                    epochs=20,\n",
    "                    batch_size=512,\n",
    "                    validation_data=(x_val, y_val))"
   ]
  },
  {
   "cell_type": "code",
   "execution_count": 18,
   "metadata": {
    "ExecuteTime": {
     "end_time": "2020-04-07T15:12:04.942033Z",
     "start_time": "2020-04-07T15:12:04.937977Z"
    }
   },
   "outputs": [
    {
     "data": {
      "text/plain": [
       "{'batch_size': 512,\n",
       " 'epochs': 20,\n",
       " 'steps': 30,\n",
       " 'samples': 15000,\n",
       " 'verbose': 0,\n",
       " 'do_validation': True,\n",
       " 'metrics': ['loss', 'acc', 'val_loss', 'val_acc']}"
      ]
     },
     "execution_count": 18,
     "metadata": {},
     "output_type": "execute_result"
    }
   ],
   "source": [
    "history.params"
   ]
  },
  {
   "cell_type": "code",
   "execution_count": 19,
   "metadata": {
    "ExecuteTime": {
     "end_time": "2020-04-07T15:12:04.948820Z",
     "start_time": "2020-04-07T15:12:04.944735Z"
    }
   },
   "outputs": [
    {
     "data": {
      "text/plain": [
       "[0, 1, 2, 3, 4, 5, 6, 7, 8, 9, 10, 11, 12, 13, 14, 15, 16, 17, 18, 19]"
      ]
     },
     "execution_count": 19,
     "metadata": {},
     "output_type": "execute_result"
    }
   ],
   "source": [
    "history.epoch"
   ]
  },
  {
   "cell_type": "code",
   "execution_count": 20,
   "metadata": {
    "ExecuteTime": {
     "end_time": "2020-04-07T15:12:04.954676Z",
     "start_time": "2020-04-07T15:12:04.950851Z"
    }
   },
   "outputs": [
    {
     "data": {
      "text/plain": [
       "<tensorflow.python.keras.engine.sequential.Sequential at 0x1035a7b38>"
      ]
     },
     "execution_count": 20,
     "metadata": {},
     "output_type": "execute_result"
    }
   ],
   "source": [
    "history.model"
   ]
  },
  {
   "cell_type": "markdown",
   "metadata": {},
   "source": [
    "`model.fit()` 返回了一个 **`History`** 对象。"
   ]
  },
  {
   "cell_type": "code",
   "execution_count": 21,
   "metadata": {
    "ExecuteTime": {
     "end_time": "2020-04-07T15:12:04.960148Z",
     "start_time": "2020-04-07T15:12:04.956556Z"
    }
   },
   "outputs": [
    {
     "data": {
      "text/plain": [
       "dict_keys(['loss', 'acc', 'val_loss', 'val_acc'])"
      ]
     },
     "execution_count": 21,
     "metadata": {},
     "output_type": "execute_result"
    }
   ],
   "source": [
    "# a record of training loss values and metrics values at successive epochs, \n",
    "# as well as validation loss values and validation metrics values (if applicable).\n",
    "history_dict = history.history  # 包含训练过程中的所有数据\n",
    "history_dict.keys()"
   ]
  },
  {
   "cell_type": "code",
   "execution_count": 33,
   "metadata": {
    "ExecuteTime": {
     "end_time": "2020-04-07T15:14:01.797044Z",
     "start_time": "2020-04-07T15:14:01.789676Z"
    }
   },
   "outputs": [],
   "source": [
    "def plot_history(history):\n",
    "    history_dict = history.history\n",
    "\n",
    "    loss_values = history_dict['loss']\n",
    "    val_loss_values = history_dict['val_loss']\n",
    "    acc = history_dict['acc']\n",
    "    val_acc = history_dict['val_acc']\n",
    "\n",
    "    epochs = [i + 1 for i in history.epoch]\n",
    "\n",
    "    # Plot the results\n",
    "    plt.figure(figsize=(12, 3.8))\n",
    "    plt.subplot(121)\n",
    "    plt.plot(epochs, loss_values, 'b-', label='Training loss')\n",
    "    plt.plot(epochs, val_loss_values, 'b.-', label='Val loss')\n",
    "    plt.xlabel('Epochs', fontsize=12)\n",
    "    plt.xticks(epochs)\n",
    "    plt.ylabel('Loss', fontsize=12)\n",
    "    plt.legend(fontsize=14)\n",
    "    plt.title('Training and validation loss', fontsize=16)\n",
    "\n",
    "    plt.subplot(122)\n",
    "    plt.plot(epochs, acc, 'b-', label='Training acc')\n",
    "    plt.plot(epochs, val_acc, 'b.-', label='Val acc')\n",
    "    plt.xlabel('Epochs', fontsize=12)\n",
    "    plt.xticks(epochs)\n",
    "    plt.ylabel('Acc', fontsize=12)\n",
    "    plt.legend(fontsize=14)\n",
    "    plt.title('Training and validation acc', fontsize=16)\n",
    "\n",
    "    plt.show()"
   ]
  },
  {
   "cell_type": "code",
   "execution_count": 34,
   "metadata": {
    "ExecuteTime": {
     "end_time": "2020-04-07T15:14:03.242158Z",
     "start_time": "2020-04-07T15:14:02.913305Z"
    }
   },
   "outputs": [
    {
     "data": {
      "image/png": "[encoded data removed]",
      "text/plain": [
       "<Figure size 864x273.6 with 2 Axes>"
      ]
     },
     "metadata": {
      "needs_background": "light"
     },
     "output_type": "display_data"
    }
   ],
   "source": [
    "plot_history(history)"
   ]
  },
  {
   "cell_type": "markdown",
   "metadata": {},
   "source": [
    "训练损失每个 epoch 都在降低，训练精度每个 epoch 都在提升。但验证损失和验证精度并非如此。\n",
    "\n",
    "这里过拟合了。可以在第 3 个 epoch 停止训练。"
   ]
  },
  {
   "cell_type": "code",
   "execution_count": 35,
   "metadata": {
    "ExecuteTime": {
     "end_time": "2020-04-07T15:17:23.719717Z",
     "start_time": "2020-04-07T15:17:18.853743Z"
    }
   },
   "outputs": [
    {
     "name": "stdout",
     "output_type": "stream",
     "text": [
      "Train on 15000 samples, validate on 10000 samples\n",
      "Epoch 1/4\n",
      "15000/15000 [==============================] - 2s 103us/sample - loss: 0.5155 - acc: 0.7831 - val_loss: 0.3884 - val_acc: 0.8652\n",
      "Epoch 2/4\n",
      "15000/15000 [==============================] - 1s 73us/sample - loss: 0.3096 - acc: 0.9036 - val_loss: 0.3220 - val_acc: 0.8749\n",
      "Epoch 3/4\n",
      "15000/15000 [==============================] - 1s 76us/sample - loss: 0.2267 - acc: 0.9259 - val_loss: 0.2804 - val_acc: 0.8928\n",
      "Epoch 4/4\n",
      "15000/15000 [==============================] - 1s 67us/sample - loss: 0.1790 - acc: 0.9417 - val_loss: 0.2867 - val_acc: 0.8859\n"
     ]
    }
   ],
   "source": [
    "# 从头训练一个新 NN，训练 4 个 epoch\n",
    "tf.keras.backend.clear_session()\n",
    "\n",
    "model = tf.keras.models.Sequential()\n",
    "model.add(tf.keras.layers.Dense(16, activation='relu', input_shape=(10000, )))\n",
    "model.add(tf.keras.layers.Dense(16, activation='relu'))\n",
    "model.add(tf.keras.layers.Dense(1, activation='sigmoid'))\n",
    "\n",
    "model.compile(optimizer='rmsprop',\n",
    "              loss='binary_crossentropy',\n",
    "              metrics=['acc'])\n",
    "\n",
    "history = model.fit(x_train_partial,\n",
    "                    y_train_partial,\n",
    "                    epochs=4,\n",
    "                    batch_size=512,\n",
    "                    validation_data=(x_val, y_val))"
   ]
  },
  {
   "cell_type": "code",
   "execution_count": 37,
   "metadata": {
    "ExecuteTime": {
     "end_time": "2020-04-07T15:17:59.494956Z",
     "start_time": "2020-04-07T15:17:58.438000Z"
    }
   },
   "outputs": [
    {
     "name": "stdout",
     "output_type": "stream",
     "text": [
      "25000/25000 [==============================] - 1s 41us/sample - loss: 0.3088 - acc: 0.8749\n"
     ]
    },
    {
     "data": {
      "text/plain": [
       "[0.30878005620002746, 0.87488]"
      ]
     },
     "execution_count": 37,
     "metadata": {},
     "output_type": "execute_result"
    }
   ],
   "source": [
    "results = model.evaluate(x_test, y_test)\n",
    "results"
   ]
  },
  {
   "cell_type": "code",
   "execution_count": 38,
   "metadata": {
    "ExecuteTime": {
     "end_time": "2020-04-07T15:18:25.881903Z",
     "start_time": "2020-04-07T15:18:24.874636Z"
    }
   },
   "outputs": [
    {
     "data": {
      "text/plain": [
       "array([[0.24500553],\n",
       "       [0.9981419 ],\n",
       "       [0.76635385],\n",
       "       ...,\n",
       "       [0.06869619],\n",
       "       [0.12302679],\n",
       "       [0.41749144]], dtype=float32)"
      ]
     },
     "execution_count": 38,
     "metadata": {},
     "output_type": "execute_result"
    }
   ],
   "source": [
    "model.predict(x_test)  # 每个评论为正面的可能性"
   ]
  },
  {
   "cell_type": "markdown",
   "metadata": {},
   "source": [
    "**<font color='crimson'>Summary:</font>**\n",
    "\n",
    "- 通常需要对数据进行预处理，以便将其转换为张量输入到 NN 中。\n",
    "\n",
    "\n",
    "- 二分类问题，NN 的最后一层应该是 `Dense(1, activation='sigmoid')`。\n",
    "\n",
    "\n",
    "- 对于二分类问题的 `sigmoid` 标量输出，应该使用 binary_crossentropy (`tf.keras.losses.binary_crossentropy`) 损失函数。\n",
    "\n",
    "\n",
    "- 无论问题是什么，rmsprop (`tf.keras.optimizers.RMSprop(lr=0.001)`) 通常都是最好的选择。\n",
    "\n",
    "\n",
    "- 一定要监控模型在训练集之外的数据上的性能，以免过拟合。"
   ]
  }
 ],
 "metadata": {
  "kernelspec": {
   "display_name": "Python 3",
   "language": "python",
   "name": "python3"
  },
  "language_info": {
   "codemirror_mode": {
    "name": "ipython",
    "version": 3
   },
   "file_extension": ".py",
   "mimetype": "text/x-python",
   "name": "python",
   "nbconvert_exporter": "python",
   "pygments_lexer": "ipython3",
   "version": "3.6.9"
  },
  "toc": {
   "base_numbering": 1,
   "nav_menu": {},
   "number_sections": true,
   "sideBar": true,
   "skip_h1_title": false,
   "title_cell": "Table of Contents",
   "title_sidebar": "Contents",
   "toc_cell": false,
   "toc_position": {},
   "toc_section_display": true,
   "toc_window_display": false
  },
  "varInspector": {
   "cols": {
    "lenName": 16,
    "lenType": 16,
    "lenVar": 40
   },
   "kernels_config": {
    "python": {
     "delete_cmd_postfix": "",
     "delete_cmd_prefix": "del ",
     "library": "var_list.py",
     "varRefreshCmd": "print(var_dic_list())"
    },
    "r": {
     "delete_cmd_postfix": ") ",
     "delete_cmd_prefix": "rm(",
     "library": "var_list.r",
     "varRefreshCmd": "cat(var_dic_list()) "
    }
   },
   "types_to_exclude": [
    "module",
    "function",
    "builtin_function_or_method",
    "instance",
    "_Feature"
   ],
   "window_display": false
  }
 },
 "nbformat": 4,
 "nbformat_minor": 2
}
