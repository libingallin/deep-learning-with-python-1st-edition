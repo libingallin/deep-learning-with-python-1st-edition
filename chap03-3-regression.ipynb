{
 "cells": [
  {
   "cell_type": "markdown",
   "metadata": {},
   "source": [
    "# Boston 房价预测"
   ]
  },
  {
   "cell_type": "markdown",
   "metadata": {},
   "source": [
    "数据较少，只有 506 个 sample，其中 404 个 training samples。输入数据的每个特征都有不同的取值范围。"
   ]
  },
  {
   "cell_type": "code",
   "execution_count": 1,
   "metadata": {
    "ExecuteTime": {
     "end_time": "2020-04-09T15:01:33.444916Z",
     "start_time": "2020-04-09T15:01:29.887850Z"
    }
   },
   "outputs": [],
   "source": [
    "import matplotlib.pyplot as plt\n",
    "import numpy as np\n",
    "import tensorflow as tf\n",
    "\n",
    "%matplotlib inline\n",
    "\n",
    "np.random.seed(42)\n",
    "tf.random.set_seed(42)"
   ]
  },
  {
   "cell_type": "code",
   "execution_count": 2,
   "metadata": {
    "ExecuteTime": {
     "end_time": "2020-04-09T15:01:33.450768Z",
     "start_time": "2020-04-09T15:01:33.446254Z"
    }
   },
   "outputs": [
    {
     "data": {
      "text/plain": [
       "'2.1.0'"
      ]
     },
     "execution_count": 2,
     "metadata": {},
     "output_type": "execute_result"
    }
   ],
   "source": [
    "tf.__version__"
   ]
  },
  {
   "cell_type": "code",
   "execution_count": 3,
   "metadata": {
    "ExecuteTime": {
     "end_time": "2020-04-09T15:01:33.473943Z",
     "start_time": "2020-04-09T15:01:33.452582Z"
    }
   },
   "outputs": [
    {
     "data": {
      "text/plain": [
       "((404, 13), (102, 13))"
      ]
     },
     "execution_count": 3,
     "metadata": {},
     "output_type": "execute_result"
    }
   ],
   "source": [
    "# Load the data\n",
    "from tensorflow.keras.datasets import boston_housing\n",
    "\n",
    "(train_data, train_targets), (test_data, test_targets) = boston_housing.load_data()\n",
    "\n",
    "train_data.shape, test_data.shape"
   ]
  },
  {
   "cell_type": "code",
   "execution_count": 4,
   "metadata": {
    "ExecuteTime": {
     "end_time": "2020-04-09T15:01:33.479344Z",
     "start_time": "2020-04-09T15:01:33.475843Z"
    },
    "scrolled": true
   },
   "outputs": [
    {
     "data": {
      "text/plain": [
       "array([15.2, 42.3, 50. , 21.1, 17.7, 18.5, 11.3, 15.6, 15.6, 14.4])"
      ]
     },
     "execution_count": 4,
     "metadata": {},
     "output_type": "execute_result"
    }
   ],
   "source": [
    "# 单位: 千美元\n",
    "train_targets[:10]"
   ]
  },
  {
   "cell_type": "markdown",
   "metadata": {},
   "source": [
    "**<font color='crimson'>将取值范围差异很大的数据输入到 NN 中，这是有问题的。</font>** NN 可能会自动适应这种取值范围不同的数据，但学习肯定变得更加困难。对于这种数据，**<font color='crimson'>普遍采用的最佳实践是对每个特征做标准化</font>**，这样得到的特征平均值为 0，标准差为 1。"
   ]
  },
  {
   "cell_type": "code",
   "execution_count": 5,
   "metadata": {
    "ExecuteTime": {
     "end_time": "2020-04-09T15:01:33.484384Z",
     "start_time": "2020-04-09T15:01:33.480690Z"
    }
   },
   "outputs": [],
   "source": [
    "# Standardization\n",
    "mean = train_data.mean(axis=0)\n",
    "train_data -= mean\n",
    "\n",
    "std = train_data.std(axis=0)\n",
    "train_data /= std\n",
    "\n",
    "# Same to test data\n",
    "test_data -= mean\n",
    "test_data /= std"
   ]
  },
  {
   "cell_type": "markdown",
   "metadata": {},
   "source": [
    "由于这里的样本数量较少，所以要使用一个非常小的网络。\n",
    "\n",
    "**<font color='crimson'>一般来说，训练数据越少，过拟合会越严重，而较小的 NN 可以降低过拟合。</font>**"
   ]
  },
  {
   "cell_type": "code",
   "execution_count": 6,
   "metadata": {
    "ExecuteTime": {
     "end_time": "2020-04-09T15:01:33.495250Z",
     "start_time": "2020-04-09T15:01:33.489625Z"
    }
   },
   "outputs": [],
   "source": [
    "def build_model():\n",
    "    model = tf.keras.models.Sequential()\n",
    "    model.add(\n",
    "        tf.keras.layers.Dense(64, activation='relu',\n",
    "                              input_shape=(train_data.shape[1], )))\n",
    "    model.add(tf.keras.layers.Dense(64, activation='relu'))\n",
    "    # Linear layer: One unit without activation for scalar regression\n",
    "    model.add(tf.keras.layers.Dense(1))\n",
    "\n",
    "    model.compile(optimizer='rmsprop',\n",
    "                  loss='mse',\n",
    "                  metrics=['mae'])\n",
    "    return model"
   ]
  },
  {
   "cell_type": "markdown",
   "metadata": {},
   "source": [
    "NN 最后一层只有一个 unit，且没有 activation，是一个**线性层**。这是标量回归的典型设置。\n",
    "\n",
    "<font color='crimson'>添加 activation 将会限制输出范围。这里最后一层是纯线性的，所以 NN 可以学会预测任意范围内的值。</font>"
   ]
  },
  {
   "cell_type": "markdown",
   "metadata": {},
   "source": [
    "- **均方误差 (MSE，mean squared error)** 预测值与目标值之差的平方， 回归问题的典型损失函数。\n",
    "\n",
    "\n",
    "- **平均绝对误差 (MAE，mean absolute error)** 预测值与目标值之差的绝对值。"
   ]
  },
  {
   "cell_type": "markdown",
   "metadata": {},
   "source": [
    "为在调节 NN 参数(如 epoch) 的同时对 NN 进行评估，可以将数据划分为训练集和验证集。但由于数据很少，验证集将会非常小。因此验证集上的 score 会有很大波动，这取决于所选择的验证集和训练集。**<font color='crimson'>数据较少时，验证集的划分方式可能会造成验证分数上有很大的方差，无法对模型进行可靠的评估。</font>** 此时，**<font color='crimson'>最佳的方法是 K-fold cv</font>**，模型的验证分数等于 K 个验证分数的平均值。"
   ]
  },
  {
   "cell_type": "code",
   "execution_count": 7,
   "metadata": {
    "ExecuteTime": {
     "end_time": "2020-04-09T15:03:06.221569Z",
     "start_time": "2020-04-09T15:01:33.498889Z"
    },
    "scrolled": true
   },
   "outputs": [],
   "source": [
    "# K-fold cross validation\n",
    "from sklearn.model_selection import KFold\n",
    "\n",
    "K = 4\n",
    "EPOCHS = 100\n",
    "all_val_scores = []\n",
    "\n",
    "# Shuffle the data before splitting into batches.\n",
    "kf = KFold(n_splits=K, shuffle=True, random_state=42)\n",
    "for train_idx, val_idx in kf.split(train_data, train_targets):\n",
    "    x_train, x_val = train_data[train_idx], train_data[val_idx]\n",
    "    y_train, y_val = train_targets[train_idx], train_targets[val_idx]\n",
    "\n",
    "    model = build_model()\n",
    "    # 0 = silent, 1 = progress bar, 2 = one line per epoch\n",
    "    # verbose=2 is recommended when not running interactively (eg, in a production environment).\n",
    "    model.fit(x_train, y_train, epochs=EPOCHS, batch_size=1, verbose=0)\n",
    "    val_mse, val_mae = model.evaluate(x_val, y_val, verbose=0)\n",
    "    all_val_scores.append(val_mae)\n"
   ]
  },
  {
   "cell_type": "code",
   "execution_count": 8,
   "metadata": {
    "ExecuteTime": {
     "end_time": "2020-04-09T15:03:06.226594Z",
     "start_time": "2020-04-09T15:03:06.222843Z"
    }
   },
   "outputs": [
    {
     "data": {
      "text/plain": [
       "[2.4147315, 2.3568742, 2.6902518, 2.5021925]"
      ]
     },
     "execution_count": 8,
     "metadata": {},
     "output_type": "execute_result"
    }
   ],
   "source": [
    "all_val_scores"
   ]
  },
  {
   "cell_type": "code",
   "execution_count": 9,
   "metadata": {
    "ExecuteTime": {
     "end_time": "2020-04-09T15:03:06.231991Z",
     "start_time": "2020-04-09T15:03:06.228347Z"
    }
   },
   "outputs": [
    {
     "data": {
      "text/plain": [
       "2.4910126"
      ]
     },
     "execution_count": 9,
     "metadata": {},
     "output_type": "execute_result"
    }
   ],
   "source": [
    "np.mean(all_val_scores)"
   ]
  },
  {
   "cell_type": "code",
   "execution_count": 10,
   "metadata": {
    "ExecuteTime": {
     "end_time": "2020-04-09T15:14:07.660138Z",
     "start_time": "2020-04-09T15:03:06.233828Z"
    }
   },
   "outputs": [
    {
     "name": "stdout",
     "output_type": "stream",
     "text": [
      "processed.processed.processed.processed."
     ]
    }
   ],
   "source": [
    "# Save the per-epoch validation score log\n",
    "tf.keras.backend.clear_session()\n",
    "\n",
    "K = 4\n",
    "EPOCHS = 500\n",
    "all_mae_history = []\n",
    "\n",
    "# Shuffle the data before splitting into batches.\n",
    "kf = KFold(n_splits=K, shuffle=True, random_state=42)\n",
    "for train_idx, val_idx in kf.split(train_data, train_targets):\n",
    "    x_train, x_val = train_data[train_idx], train_data[val_idx]\n",
    "    y_train, y_val = train_targets[train_idx], train_targets[val_idx]\n",
    "\n",
    "    model = build_model()\n",
    "    # verbose = 0, in slient mode\n",
    "    history = model.fit(x_train, y_train, epochs=EPOCHS, batch_size=1,\n",
    "                        validation_data=(x_val, y_val), verbose=0)\n",
    "    mae_history = history.history['val_mae']\n",
    "    all_mae_history.append(mae_history)\n",
    "    print(\"processed.\", end='')"
   ]
  },
  {
   "cell_type": "code",
   "execution_count": 11,
   "metadata": {
    "ExecuteTime": {
     "end_time": "2020-04-09T15:14:07.809971Z",
     "start_time": "2020-04-09T15:14:07.661589Z"
    }
   },
   "outputs": [
    {
     "data": {
      "image/png": "[encoded data removed]",
      "text/plain": [
       "<Figure size 432x288 with 1 Axes>"
      ]
     },
     "metadata": {
      "needs_background": "light"
     },
     "output_type": "display_data"
    }
   ],
   "source": [
    "# Compute the average of the per-epoch MAE score for all folds\n",
    "average_mae_history = [np.mean([x[i] for x in all_mae_history])\n",
    "                       for i in range(EPOCHS)]\n",
    "\n",
    "# Plot this\n",
    "plt.plot(range(1, len(average_mae_history)+1), average_mae_history)\n",
    "plt.xlabel('Epoch', fontsize=12)\n",
    "plt.ylabel('Val MAE', fontsize=12)\n",
    "plt.show()"
   ]
  },
  {
   "cell_type": "markdown",
   "metadata": {},
   "source": [
    "因为纵轴的范围较大，且数据方差相对较大，所以难以看清这张图的规律。\n",
    "\n",
    "可以使用指数移动平均来重绘该图。\n",
    "\n",
    "**<font color='red'>指数移动平均 (Exponential Moving Average, EMA)</font>** 各数值的加权按指数递减。指数移动平均实际上是一个无穷级数，即无论多久远的数据都会在计算当期的指数移动平均数值时有一定的作用，只不过离当前太远的数据权重非非常低，因此它们的作用往往可以忽略。"
   ]
  },
  {
   "cell_type": "markdown",
   "metadata": {},
   "source": [
    "$$EMA_t=\n",
    "\\begin{cases}\n",
    "y_1& \\text{t = 1}\\\\\n",
    "\\alpha * y_t + (1 - \\alpha) \\times EMA_{t-1}& \\text{t > 1}\n",
    "\\end{cases} \n",
    "$$"
   ]
  },
  {
   "cell_type": "code",
   "execution_count": 12,
   "metadata": {
    "ExecuteTime": {
     "end_time": "2020-04-09T15:20:06.783419Z",
     "start_time": "2020-04-09T15:20:06.774342Z"
    }
   },
   "outputs": [],
   "source": [
    "def smooth_curve(points, factor=0.9):\n",
    "    smoothed_points = []\n",
    "\n",
    "    for point in points:\n",
    "        if smoothed_points:\n",
    "            previous = smoothed_points[-1]\n",
    "            smoothed_points.append(previous * 0.9 + point * (1 - factor))\n",
    "        else:\n",
    "            smoothed_points.append(point)\n",
    "    return smoothed_points"
   ]
  },
  {
   "cell_type": "code",
   "execution_count": 14,
   "metadata": {
    "ExecuteTime": {
     "end_time": "2020-04-09T15:21:32.133570Z",
     "start_time": "2020-04-09T15:21:31.989366Z"
    }
   },
   "outputs": [
    {
     "data": {
      "image/png": "[encoded data removed]",
      "text/plain": [
       "<Figure size 432x288 with 1 Axes>"
      ]
     },
     "metadata": {
      "needs_background": "light"
     },
     "output_type": "display_data"
    }
   ],
   "source": [
    "smooth_mae_history = smooth_curve(average_mae_history[5:])\n",
    "\n",
    "plt.plot(range(1, len(smooth_mae_history)+1), smooth_mae_history)\n",
    "plt.xlabel('Epoch', fontsize=12)\n",
    "plt.ylabel('Val MAE', fontsize=12)\n",
    "plt.show()"
   ]
  },
  {
   "cell_type": "markdown",
   "metadata": {},
   "source": [
    "可以看出，val mae 大概在 80 之后不再显著下降，之后就开始过拟合。"
   ]
  },
  {
   "cell_type": "markdown",
   "metadata": {},
   "source": [
    "**<font color='crimson'>完成模型所有调参之后，可以使用最佳参数在所有训练数据上训练最终的生产模型，然后观察模型在测试集上的性能。</font>**"
   ]
  },
  {
   "cell_type": "code",
   "execution_count": 25,
   "metadata": {
    "ExecuteTime": {
     "end_time": "2020-04-09T15:29:37.792932Z",
     "start_time": "2020-04-09T15:29:35.509538Z"
    },
    "scrolled": true
   },
   "outputs": [
    {
     "name": "stdout",
     "output_type": "stream",
     "text": [
      "102/102 [==============================] - 0s 627us/sample - loss: 17.3674 - mae: 2.8111\n"
     ]
    },
    {
     "data": {
      "text/plain": [
       "[17.367375242943858, 2.8110845]"
      ]
     },
     "execution_count": 25,
     "metadata": {},
     "output_type": "execute_result"
    }
   ],
   "source": [
    "# Train a final \"production\" model on all of the training data, with the best parameters\n",
    "# after tuning all parameters.\n",
    "model = build_model()\n",
    "model.fit(train_data, train_targets, epochs=80, batch_size=16, verbose=0)\n",
    "\n",
    "model.evaluate(test_data, test_targets)"
   ]
  },
  {
   "cell_type": "markdown",
   "metadata": {},
   "source": [
    "Emmm..."
   ]
  },
  {
   "cell_type": "markdown",
   "metadata": {},
   "source": [
    "**<font color='crimson'>Summary:</font>**\n",
    "\n",
    "- 回归常用的损失函数是均方误差 (MSE)\n",
    "\n",
    "\n",
    "- 常见的回归指标是平均绝对误差 (MAE)\n",
    "\n",
    "\n",
    "- 如果输入数据的特征具有不同的取值范围，应该先进行预处理，对每个特征单独进行缩放\n",
    "\n",
    "\n",
    "- 如果可用的数据很少，使用 K-Flod CV 可以可靠地评估模型\n",
    "\n",
    "\n",
    "- 如果可用的训练数据很少，最好使用隐藏层较少 (通常只有一到两个)的小型 NN，以避免严重的过拟合。"
   ]
  }
 ],
 "metadata": {
  "kernelspec": {
   "display_name": "Python 3",
   "language": "python",
   "name": "python3"
  },
  "language_info": {
   "codemirror_mode": {
    "name": "ipython",
    "version": 3
   },
   "file_extension": ".py",
   "mimetype": "text/x-python",
   "name": "python",
   "nbconvert_exporter": "python",
   "pygments_lexer": "ipython3",
   "version": "3.6.9"
  },
  "toc": {
   "base_numbering": 1,
   "nav_menu": {},
   "number_sections": true,
   "sideBar": true,
   "skip_h1_title": false,
   "title_cell": "Table of Contents",
   "title_sidebar": "Contents",
   "toc_cell": false,
   "toc_position": {},
   "toc_section_display": true,
   "toc_window_display": false
  },
  "varInspector": {
   "cols": {
    "lenName": 16,
    "lenType": 16,
    "lenVar": 40
   },
   "kernels_config": {
    "python": {
     "delete_cmd_postfix": "",
     "delete_cmd_prefix": "del ",
     "library": "var_list.py",
     "varRefreshCmd": "print(var_dic_list())"
    },
    "r": {
     "delete_cmd_postfix": ") ",
     "delete_cmd_prefix": "rm(",
     "library": "var_list.r",
     "varRefreshCmd": "cat(var_dic_list()) "
    }
   },
   "types_to_exclude": [
    "module",
    "function",
    "builtin_function_or_method",
    "instance",
    "_Feature"
   ],
   "window_display": false
  }
 },
 "nbformat": 4,
 "nbformat_minor": 2
}
